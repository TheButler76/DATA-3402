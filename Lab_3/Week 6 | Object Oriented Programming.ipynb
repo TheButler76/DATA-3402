{
 "cells": [
  {
   "cell_type": "markdown",
   "id": "ffc66c14",
   "metadata": {},
   "source": [
    "### Week 6"
   ]
  },
  {
   "cell_type": "markdown",
   "id": "c822aafe",
   "metadata": {},
   "source": [
    "#### Object Oriented Programming"
   ]
  },
  {
   "cell_type": "markdown",
   "id": "df9f43a6",
   "metadata": {},
   "source": [
    "#### For any program we have:\n",
    ">#### 1.) Objects -> OOP or POOP (Python Object Oriented Programmming)\n",
    ">#### 2.) Classes\n",
    ">#### 3.) Attributes (properties)\n",
    ">#### 4.) Methods (functions) -> Procedural Programming"
   ]
  },
  {
   "cell_type": "code",
   "execution_count": 1,
   "id": "db664dc4",
   "metadata": {},
   "outputs": [],
   "source": [
    "# We create an incorrect class for example purposes..\n",
    "class student:\n",
    "    # init\n",
    "    name=str()\n",
    "    id_number=int()\n",
    "    year=int()\n",
    "    grade=list()\n",
    "    \n",
    "    \n",
    "    def add_grade(self, grade):\n",
    "       self.grades.append(grade)\n",
    "    \n",
    "    def average_grade(self):\n",
    "        return sum(self.grades)/len(self.grades)"
   ]
  },
  {
   "cell_type": "code",
   "execution_count": 3,
   "id": "4ab8cdf0",
   "metadata": {},
   "outputs": [
    {
     "name": "stdout",
     "output_type": "stream",
     "text": [
      "<class 'type'>\n",
      "<class 'str'>\n"
     ]
    }
   ],
   "source": [
    "print(type(str)) # class\n",
    "print(type(str())) # method"
   ]
  },
  {
   "cell_type": "code",
   "execution_count": 7,
   "id": "cee61808",
   "metadata": {},
   "outputs": [],
   "source": [
    "# how to use OOP to create the class...\n",
    "# In a way, self is equal to 'student' class.\n",
    "class student:\n",
    "    # Python method\n",
    "    def __init__(self, name, id_number, year): # attributes are what is inside the method.\n",
    "        self.name=name\n",
    "        self.id_number=id_number\n",
    "        self.year=year\n",
    "        self.grade=list()\n",
    "        \n",
    "    # Add grade to a list\n",
    "    def add_grade(self, grade):\n",
    "        self.grade.append(grade)\n",
    "    \n",
    "    # get the average grade\n",
    "    def average_grade(self):\n",
    "        return sum(self.grade)/len(self.grade)\n",
    "    \n",
    "    # print the grades\n",
    "    def print_grade(self):\n",
    "        for grade in self.grade:\n",
    "            print(grade)        "
   ]
  },
  {
   "cell_type": "code",
   "execution_count": 8,
   "id": "f345fd3f",
   "metadata": {},
   "outputs": [
    {
     "name": "stdout",
     "output_type": "stream",
     "text": [
      "85\n",
      "88\n",
      "Average:  86.5\n"
     ]
    }
   ],
   "source": [
    "a_student=student(\"Brian Bian\", 111, 2025)\n",
    "a_student.add_grade(85)\n",
    "a_student.add_grade(88)\n",
    "a_student.print_grade()\n",
    "print(\"Average: \", a_student.average_grade())"
   ]
  },
  {
   "cell_type": "code",
   "execution_count": 9,
   "id": "328050f4",
   "metadata": {},
   "outputs": [
    {
     "name": "stdout",
     "output_type": "stream",
     "text": [
      "<class '__main__.student'>\n"
     ]
    }
   ],
   "source": [
    "students=list()\n",
    "students.append(student(\"John Doe\", 112, 2025))\n",
    "students.append(student(\"Jane Doe\", 113, 2025))\n",
    "\n",
    "print(type(students[0]))"
   ]
  },
  {
   "cell_type": "code",
   "execution_count": null,
   "id": "3d25d0af",
   "metadata": {},
   "outputs": [],
   "source": [
    "### object.function()"
   ]
  },
  {
   "cell_type": "code",
   "execution_count": 11,
   "id": "686ce01b",
   "metadata": {},
   "outputs": [],
   "source": [
    "students[0].add_grade(100)\n",
    "students[0].add_grade(90)\n",
    "students[0].add_grade(80)\n",
    "\n",
    "students[1].add_grade(90)\n",
    "students[1].add_grade(80)\n",
    "students[1].add_grade(70)"
   ]
  },
  {
   "cell_type": "code",
   "execution_count": 12,
   "id": "aaff20e8",
   "metadata": {},
   "outputs": [
    {
     "name": "stdout",
     "output_type": "stream",
     "text": [
      "Name:  John Doe\n",
      "Average =  90.0\n",
      "Name:  Jane Doe\n",
      "Average =  80.0\n"
     ]
    }
   ],
   "source": [
    "for student in students:\n",
    "    print(\"Name: \", student.name)\n",
    "    print(\"Average = \", student.average_grade())"
   ]
  },
  {
   "cell_type": "markdown",
   "id": "a3c5218e",
   "metadata": {},
   "source": [
    "#### Examples"
   ]
  },
  {
   "cell_type": "code",
   "execution_count": 14,
   "id": "75f9aeb4",
   "metadata": {},
   "outputs": [],
   "source": [
    "class person:\n",
    "    def __init__(self, name):\n",
    "        self.name=name\n",
    "        \n",
    "    def say_hello(self):\n",
    "        print(\"Hello, my name is \" + self.name)"
   ]
  },
  {
   "cell_type": "code",
   "execution_count": 18,
   "id": "ed372911",
   "metadata": {},
   "outputs": [
    {
     "name": "stdout",
     "output_type": "stream",
     "text": [
      "Hello, my name is Bob\n",
      "Hello, my name is Alice\n"
     ]
    }
   ],
   "source": [
    "# Create object first\n",
    "Bob=person(\"Bob\")\n",
    "Alice=person(\"Alice\")\n",
    "\n",
    "# Call methods owned by virtual objects\n",
    "Bob.say_hello()\n",
    "Alice.say_hello()"
   ]
  },
  {
   "cell_type": "code",
   "execution_count": 19,
   "id": "fe8e66e2",
   "metadata": {},
   "outputs": [
    {
     "name": "stdout",
     "output_type": "stream",
     "text": [
      "Hello, my name is Jane\n",
      "Hello, my name is Alex\n"
     ]
    }
   ],
   "source": [
    "# We can implement functions using indices.\n",
    "people=[person(\"Jane\"), person(\"Alex\")]\n",
    "Jane=people[0]\n",
    "Alex=people[1]\n",
    "\n",
    "Jane.say_hello()\n",
    "Alex.say_hello()"
   ]
  },
  {
   "cell_type": "markdown",
   "id": "305d6bac",
   "metadata": {},
   "source": [
    "### Inheritance\n",
    ">#### Reduces the need to manually copy and paste variables, usually using one line.\n",
    ">#### This improves efficiency"
   ]
  },
  {
   "cell_type": "code",
   "execution_count": 22,
   "id": "0ba45ed5",
   "metadata": {},
   "outputs": [],
   "source": [
    "#### Alows the building of heiarchies for classes."
   ]
  },
  {
   "cell_type": "code",
   "execution_count": 23,
   "id": "41af8f8f",
   "metadata": {},
   "outputs": [],
   "source": [
    "class person:\n",
    "    # Main/super class that is used everywhere.\n",
    "    def __init__(self, name, ID):\n",
    "        self.name=name\n",
    "        self.ID=ID\n",
    "        \n",
    "class student(person):\n",
    "    # sub-class that accepts person as an arguement.\n",
    "    def __init__(self, name, ID, year):\n",
    "        # super() basically copies everythiing we specify from our main class.\n",
    "        # We can also define as many functions as we need.\n",
    "        super(student, self).__init__(name, ID)\n",
    "        self.year=year\n",
    "        self.grades=list()\n",
    "        \n",
    "    def add_grade(self, grade):\n",
    "        self.grades.append(grade)\n",
    "        \n",
    "    def average_grade(self):\n",
    "        return sum(self.grades)/len(self.grades)\n",
    "    \n",
    "    def print_grades(self):\n",
    "        for grade in self.grades:\n",
    "            print(grade)\n",
    "        \n",
    "class faculty(person):\n",
    "    def __init__(self, name, ID):\n",
    "        super(faculty, self).__init__(name, ID)\n",
    "        self.courses=list()\n",
    "        \n",
    "    def add_courses(self, course):\n",
    "        self.courses.append(course)\n",
    "        \n",
    "    def print_courses(self):\n",
    "        for course in self.courses:\n",
    "            print(course)"
   ]
  },
  {
   "cell_type": "code",
   "execution_count": null,
   "id": "37899581",
   "metadata": {},
   "outputs": [],
   "source": [
    "## running the code.\n"
   ]
  }
 ],
 "metadata": {
  "kernelspec": {
   "display_name": "Python 3 (ipykernel)",
   "language": "python",
   "name": "python3"
  },
  "language_info": {
   "codemirror_mode": {
    "name": "ipython",
    "version": 3
   },
   "file_extension": ".py",
   "mimetype": "text/x-python",
   "name": "python",
   "nbconvert_exporter": "python",
   "pygments_lexer": "ipython3",
   "version": "3.12.3"
  }
 },
 "nbformat": 4,
 "nbformat_minor": 5
}
