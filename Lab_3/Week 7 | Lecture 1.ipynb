{
 "cells": [
  {
   "cell_type": "code",
   "execution_count": 1,
   "id": "7fd509b1",
   "metadata": {},
   "outputs": [],
   "source": [
    "## More about OOP"
   ]
  },
  {
   "cell_type": "code",
   "execution_count": 2,
   "id": "6d2d3a63",
   "metadata": {},
   "outputs": [],
   "source": [
    "# public () --> everyone.\n",
    "# private (__) --> class specific.\n",
    "# protected (_) --> all instances of the same class (including a child class)."
   ]
  },
  {
   "cell_type": "code",
   "execution_count": 3,
   "id": "8c566fc6",
   "metadata": {},
   "outputs": [],
   "source": [
    "# SUPER CLASS\n",
    "class parent:\n",
    "    # OOP\n",
    "    def __init__(self):\n",
    "        self.public=\"I am pub -_-\"\n",
    "        self.__private=\"I am priv +_+\"\n",
    "        self._protected=\"I protect :)\"\n",
    "        \n",
    "    # Our attributes\n",
    "    def set_private_parent(self, v):\n",
    "        self.__private=v\n",
    "        \n",
    "    def get_private_parent(self):\n",
    "        return self.__private\n",
    "    \n",
    "\n",
    "# CHILD CLASS\n",
    "class child(parent):\n",
    "    # init_parents means all the stuff in the parent class gets copied to the child class.\n",
    "    def __init__(self, init_parent=True):\n",
    "        if init_parent:\n",
    "            super(child, self).__init__()\n",
    "            \n",
    "            \n",
    "    # \n",
    "    def set_public(self,v):\n",
    "        self.public=v\n",
    "        \n",
    "    def set_private(self,v):\n",
    "        self.__private=v\n",
    "        \n",
    "    def set_protected(self,v):\n",
    "        self._protected=v\n",
    "    \n",
    "    def get_public(self):\n",
    "        return self.public\n",
    "    def get_private(self):\n",
    "        return self.__private\n",
    "    def get_protected(self):\n",
    "        return self._protected"
   ]
  },
  {
   "cell_type": "code",
   "execution_count": 5,
   "id": "0dc729c7",
   "metadata": {},
   "outputs": [],
   "source": [
    "# Instances of class\n",
    "my_parent = parent()\n",
    "my_child=child()"
   ]
  },
  {
   "cell_type": "code",
   "execution_count": 6,
   "id": "296a9d1f",
   "metadata": {},
   "outputs": [],
   "source": [
    "# Explanation of attribute error: You can only access the function (when privated) for the specific class."
   ]
  },
  {
   "cell_type": "code",
   "execution_count": 9,
   "id": "3206049f",
   "metadata": {},
   "outputs": [
    {
     "name": "stdout",
     "output_type": "stream",
     "text": [
      "I am priv +_+\n"
     ]
    }
   ],
   "source": [
    "# I think that we got this result beceause we used the parent class as a method.\n",
    "# This is how we are able to access private classes, by referencing the parent class (or any class) directly.\n",
    "# Example)\n",
    "print(my_child._parent__private)"
   ]
  },
  {
   "cell_type": "code",
   "execution_count": 12,
   "id": "7ef9f220",
   "metadata": {},
   "outputs": [
    {
     "name": "stdout",
     "output_type": "stream",
     "text": [
      "I protect :)\n"
     ]
    }
   ],
   "source": [
    "# For protected methods, we don't have to reference the parent class- we can just call the method directly\n",
    "print(my_child._protected)"
   ]
  },
  {
   "cell_type": "code",
   "execution_count": 15,
   "id": "d7c649f2",
   "metadata": {},
   "outputs": [
    {
     "name": "stdout",
     "output_type": "stream",
     "text": [
      "Child Private! Chocolate Starfish and the Hot Dog Flavored Waterrr\n"
     ]
    }
   ],
   "source": [
    "c=child()\n",
    "c.set_private(\"Child Private! Chocolate Starfish and the Hot Dog Flavored Waterrr\")\n",
    "print(c.get_private())"
   ]
  },
  {
   "cell_type": "code",
   "execution_count": 16,
   "id": "56902d9c",
   "metadata": {},
   "outputs": [
    {
     "name": "stdout",
     "output_type": "stream",
     "text": [
      "abc\n"
     ]
    }
   ],
   "source": [
    "my_parent._protected='abc'\n",
    "print(my_parent._protected)"
   ]
  },
  {
   "cell_type": "code",
   "execution_count": 17,
   "id": "c00dfe73",
   "metadata": {},
   "outputs": [
    {
     "name": "stdout",
     "output_type": "stream",
     "text": [
      "I protect :)\n"
     ]
    }
   ],
   "source": [
    "print(my_child._protected)"
   ]
  },
  {
   "cell_type": "code",
   "execution_count": 22,
   "id": "a3545a69",
   "metadata": {},
   "outputs": [
    {
     "name": "stdout",
     "output_type": "stream",
     "text": [
      "5\n",
      "5\n",
      "I am pub -_-\n"
     ]
    }
   ],
   "source": [
    "print(my_parent.public)\n",
    "my_parent.public=5\n",
    "print(my_parent.public)\n",
    "print(my_child.public)"
   ]
  },
  {
   "cell_type": "code",
   "execution_count": 23,
   "id": "2b8bef9b",
   "metadata": {},
   "outputs": [
    {
     "data": {
      "text/plain": [
       "42"
      ]
     },
     "execution_count": 23,
     "metadata": {},
     "output_type": "execute_result"
    }
   ],
   "source": [
    "my_parent.set_private_parent(42)\n",
    "my_parent.get_private_parent()"
   ]
  },
  {
   "cell_type": "code",
   "execution_count": 26,
   "id": "165c4283",
   "metadata": {},
   "outputs": [
    {
     "name": "stdout",
     "output_type": "stream",
     "text": [
      "22\n",
      "5\n"
     ]
    }
   ],
   "source": [
    "# If we define values of the methods beforehand, the changes will be present\n",
    "parent.public=22\n",
    "print(parent.public)\n",
    "print(my_parent.public)"
   ]
  },
  {
   "cell_type": "code",
   "execution_count": 30,
   "id": "1494a96d",
   "metadata": {},
   "outputs": [
    {
     "data": {
      "text/plain": [
       "22"
      ]
     },
     "execution_count": 30,
     "metadata": {},
     "output_type": "execute_result"
    }
   ],
   "source": [
    "child_instance=child(init_parent=False)\n",
    "child_instance.public"
   ]
  },
  {
   "cell_type": "code",
   "execution_count": 29,
   "id": "beff84ec",
   "metadata": {},
   "outputs": [
    {
     "data": {
      "text/plain": [
       "'I am pub -_-'"
      ]
     },
     "execution_count": 29,
     "metadata": {},
     "output_type": "execute_result"
    }
   ],
   "source": [
    "# if we set init_parent to True again, the default inits are applied.\n",
    "child_instance=child(init_parent=True)\n",
    "child_instance.public"
   ]
  },
  {
   "cell_type": "code",
   "execution_count": 33,
   "id": "118661b0",
   "metadata": {},
   "outputs": [
    {
     "name": "stdout",
     "output_type": "stream",
     "text": [
      "I am pub -_-\n",
      "Changed here\n"
     ]
    }
   ],
   "source": [
    "child_instance=child()\n",
    "print(child_instance.public)\n",
    "child_instance.public=\"Changed here\"\n",
    "print(child_instance.public)"
   ]
  },
  {
   "cell_type": "code",
   "execution_count": 34,
   "id": "b26c82c8",
   "metadata": {},
   "outputs": [],
   "source": [
    "# aaand I stopped listening. Basically, we can change values in a cell."
   ]
  },
  {
   "cell_type": "code",
   "execution_count": 35,
   "id": "786ba701",
   "metadata": {},
   "outputs": [
    {
     "name": "stdout",
     "output_type": "stream",
     "text": [
      "I am priv +_+\n"
     ]
    }
   ],
   "source": [
    "print(child_instance._parent__private)"
   ]
  },
  {
   "cell_type": "code",
   "execution_count": 36,
   "id": "d8ebe082",
   "metadata": {},
   "outputs": [
    {
     "name": "stdout",
     "output_type": "stream",
     "text": [
      "Changed Private\n"
     ]
    }
   ],
   "source": [
    "child_instance._parent__private=\"Changed Private\"\n",
    "print(child_instance._parent__private)"
   ]
  },
  {
   "cell_type": "code",
   "execution_count": 37,
   "id": "c365efe8",
   "metadata": {},
   "outputs": [],
   "source": [
    "# Data Serialization (Ordering our data)"
   ]
  },
  {
   "cell_type": "code",
   "execution_count": 39,
   "id": "63fb832c",
   "metadata": {},
   "outputs": [],
   "source": [
    "data_dict={\"A\":1, \"B\":\"Foo\"}"
   ]
  },
  {
   "cell_type": "code",
   "execution_count": 40,
   "id": "362b6375",
   "metadata": {},
   "outputs": [
    {
     "data": {
      "text/plain": [
       "\"{'A': 1, 'B': 'Foo'}\""
      ]
     },
     "execution_count": 40,
     "metadata": {},
     "output_type": "execute_result"
    }
   ],
   "source": [
    "# does what?\n",
    "repr(data_dict)"
   ]
  },
  {
   "cell_type": "code",
   "execution_count": 41,
   "id": "ce1ba6e0",
   "metadata": {},
   "outputs": [
    {
     "data": {
      "text/plain": [
       "'A: 1\\nB: Foo\\n'"
      ]
     },
     "execution_count": 41,
     "metadata": {},
     "output_type": "execute_result"
    }
   ],
   "source": [
    "# does whhat?  \"Shows a different type of structure\"\n",
    "import yaml\n",
    "yaml.dump(data_dict)"
   ]
  },
  {
   "cell_type": "code",
   "execution_count": 43,
   "id": "889e5d4f",
   "metadata": {},
   "outputs": [],
   "source": [
    "with open(\"file.yaml\", \"w\") as f:\n",
    "    yaml.dump(data_dict, f)"
   ]
  },
  {
   "cell_type": "code",
   "execution_count": 44,
   "id": "7ff1b883",
   "metadata": {},
   "outputs": [
    {
     "name": "stdout",
     "output_type": "stream",
     "text": [
      "A: 1\r\n",
      "B: Foo\r\n"
     ]
    }
   ],
   "source": [
    "!cat file.yaml"
   ]
  },
  {
   "cell_type": "code",
   "execution_count": null,
   "id": "91657e4c",
   "metadata": {},
   "outputs": [],
   "source": []
  }
 ],
 "metadata": {
  "kernelspec": {
   "display_name": "Python 3 (ipykernel)",
   "language": "python",
   "name": "python3"
  },
  "language_info": {
   "codemirror_mode": {
    "name": "ipython",
    "version": 3
   },
   "file_extension": ".py",
   "mimetype": "text/x-python",
   "name": "python",
   "nbconvert_exporter": "python",
   "pygments_lexer": "ipython3",
   "version": "3.12.3"
  }
 },
 "nbformat": 4,
 "nbformat_minor": 5
}
