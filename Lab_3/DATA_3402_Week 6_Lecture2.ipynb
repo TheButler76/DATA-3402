{
  "nbformat": 4,
  "nbformat_minor": 0,
  "metadata": {
    "colab": {
      "provenance": []
    },
    "kernelspec": {
      "name": "python3",
      "display_name": "Python 3"
    },
    "language_info": {
      "name": "python"
    }
  },
  "cells": [
    {
      "cell_type": "markdown",
      "source": [
        "# Drawing Program Example\n",
        "\n",
        "## Canvas"
      ],
      "metadata": {
        "id": "1t21mwwd49Ur"
      }
    },
    {
      "cell_type": "code",
      "source": [
        "class Canvas:\n",
        "  def __init__(self, width, height):\n",
        "    self.width = width\n",
        "    self.height = height\n",
        "\n",
        "    self.data= [[' ']*width for i in range(height)]\n",
        "\n",
        "  def set_pixel(self,row,col, char=\"*\"):\n",
        "    self.data[row][col]=char\n",
        "\n",
        "  def get_pixel(self,row,col):\n",
        "    return self.data[row][col]\n",
        "\n",
        "  def clear_canvas(self):\n",
        "    self.data= [['']*self.width for i in range(self.height)]\n",
        "\n",
        "  def v_line(self, x,y,w, **kargs):\n",
        "    for i in range(x,x+w):\n",
        "      self.set_pixel(i,y,**kargs)\n",
        "\n",
        "  def h_line(self, x,y,h, **kargs):\n",
        "    for i in range(y,y+h):\n",
        "      self.set_pixel(x,i,**kargs)\n",
        "\n",
        "  def line(self, x1,y1,x2,y2, **kargs):\n",
        "    slope=(y2-y1)/(x2-x1)\n",
        "    for y in range(y1,y2):\n",
        "      x=int(slope*y)\n",
        "      self.set_pixel(x,y,**kargs)\n",
        "\n",
        "  def display(self):\n",
        "    print(\"\\n\".join([\"\".join(row) for row in self.data]))"
      ],
      "metadata": {
        "id": "O4m6CwXf49yb"
      },
      "execution_count": 88,
      "outputs": []
    },
    {
      "cell_type": "markdown",
      "source": [
        "A couple of quick tests:"
      ],
      "metadata": {
        "id": "eLAjnq3Z9hGG"
      }
    },
    {
      "cell_type": "code",
      "source": [
        "my_canvas=Canvas(10,10)\n",
        "my_canvas.set_pixel(0,0,char=\"A\")\n",
        "my_canvas.v_line(1,1,4,char=\"|\")\n",
        "my_canvas.h_line(1,1,3,char=\"-\")\n",
        "my_canvas.line(3,3,7,6,char=\"\\\\\")\n",
        "\n",
        "my_canvas.display()"
      ],
      "metadata": {
        "colab": {
          "base_uri": "https://localhost:8080/"
        },
        "id": "Jfil3MeQ9kx9",
        "outputId": "0c9b71b6-de78-48c2-ad35-eb4f48f400ba"
      },
      "execution_count": 89,
      "outputs": [
        {
          "output_type": "stream",
          "name": "stdout",
          "text": [
            "A         \n",
            " ---      \n",
            " | \\      \n",
            " |  \\\\    \n",
            " |        \n",
            "          \n",
            "          \n",
            "          \n",
            "          \n",
            "          \n"
          ]
        }
      ]
    },
    {
      "cell_type": "code",
      "source": [
        "c1=Canvas(40,40)\n",
        "c1.v_line(1,1,5,char=\"|\")\n",
        "c1.h_line(3,3,4)\n",
        "c1.line(4,4,30,20)\n",
        "c1.display()"
      ],
      "metadata": {
        "colab": {
          "base_uri": "https://localhost:8080/"
        },
        "id": "QWztCNvz-kVm",
        "outputId": "30507197-6c45-43bd-85dc-7ce318ec54f6"
      },
      "execution_count": 90,
      "outputs": [
        {
          "output_type": "stream",
          "name": "stdout",
          "text": [
            "                                        \n",
            " |                                      \n",
            " |  *                                   \n",
            " | ****                                 \n",
            " |     **                               \n",
            " |       *                              \n",
            "          **                            \n",
            "            *                           \n",
            "             **                         \n",
            "               **                       \n",
            "                 *                      \n",
            "                  **                    \n",
            "                                        \n",
            "                                        \n",
            "                                        \n",
            "                                        \n",
            "                                        \n",
            "                                        \n",
            "                                        \n",
            "                                        \n",
            "                                        \n",
            "                                        \n",
            "                                        \n",
            "                                        \n",
            "                                        \n",
            "                                        \n",
            "                                        \n",
            "                                        \n",
            "                                        \n",
            "                                        \n",
            "                                        \n",
            "                                        \n",
            "                                        \n",
            "                                        \n",
            "                                        \n",
            "                                        \n",
            "                                        \n",
            "                                        \n",
            "                                        \n",
            "                                        \n"
          ]
        }
      ]
    },
    {
      "cell_type": "markdown",
      "source": [
        "## Shapes"
      ],
      "metadata": {
        "id": "QTKHkG-C_Wnv"
      }
    },
    {
      "cell_type": "code",
      "source": [
        "class Shape:\n",
        "  def __init__(self,name=\"\",**kwargs):\n",
        "    self.name=name\n",
        "    self.kwargs=kwargs\n",
        "\n",
        "  def paint(self,canvas): pass\n",
        "\n",
        "class Rectangle(Shape):\n",
        "  def __init__(self, x, y, w, h, **kwargs):\n",
        "    Shape.__init__(self, **kwargs)\n",
        "    self.x=x\n",
        "    self.y=y\n",
        "    self.w=w\n",
        "    self.h=h\n",
        "\n",
        "  def paint(self,canvas):\n",
        "    canvas.v_line(self.x, self.y, self.w, **self.kwargs)\n",
        "    canvas.v_line(self.x, self.y + self.h, self.w, **self.kwargs)\n",
        "    canvas.h_line(self.x, self.y, self.h, **self.kwargs)\n",
        "    canvas.h_line(self.x + self.w, self.y, self.h,**self.kwargs)\n",
        "\n",
        "class Square(Rectangle):\n",
        "  def __init__(self,x,y,size,**kwargs):\n",
        "    Rectangle.__init__(self,x,y,size,size,**kwargs)\n",
        "\n",
        "class Line(Shape):\n",
        "  def __init__(self,x1,y1,x2,y2,**kwargs):\n",
        "    Shape.__init__(self,**kwargs)\n",
        "    self.x1=x1\n",
        "    self.y1=y1\n",
        "    self.x2=x2\n",
        "    self.y2=y2\n",
        "\n",
        "  def paint(self,canvas):\n",
        "    canvas.line(self.x1,self.y1,self.x2,self.y2,**self.kwargs)"
      ],
      "metadata": {
        "id": "QYAJvCfB_bsG"
      },
      "execution_count": 91,
      "outputs": []
    },
    {
      "cell_type": "markdown",
      "source": [
        "### Quick Test:"
      ],
      "metadata": {
        "id": "IqSTH2g0CS1Q"
      }
    },
    {
      "cell_type": "code",
      "source": [
        "c1=Canvas(50,40)\n",
        "s1=Rectangle(5,5,10,5,char=\"^\")\n",
        "s1.paint(c1)\n",
        "c1.display()"
      ],
      "metadata": {
        "colab": {
          "base_uri": "https://localhost:8080/"
        },
        "id": "elHuBMhTCYPJ",
        "outputId": "f5eb6ce6-8581-481a-b2fe-627733032462"
      },
      "execution_count": 92,
      "outputs": [
        {
          "output_type": "stream",
          "name": "stdout",
          "text": [
            "                                                  \n",
            "                                                  \n",
            "                                                  \n",
            "                                                  \n",
            "                                                  \n",
            "     ^^^^^^                                       \n",
            "     ^    ^                                       \n",
            "     ^    ^                                       \n",
            "     ^    ^                                       \n",
            "     ^    ^                                       \n",
            "     ^    ^                                       \n",
            "     ^    ^                                       \n",
            "     ^    ^                                       \n",
            "     ^    ^                                       \n",
            "     ^    ^                                       \n",
            "     ^^^^^                                        \n",
            "                                                  \n",
            "                                                  \n",
            "                                                  \n",
            "                                                  \n",
            "                                                  \n",
            "                                                  \n",
            "                                                  \n",
            "                                                  \n",
            "                                                  \n",
            "                                                  \n",
            "                                                  \n",
            "                                                  \n",
            "                                                  \n",
            "                                                  \n",
            "                                                  \n",
            "                                                  \n",
            "                                                  \n",
            "                                                  \n",
            "                                                  \n",
            "                                                  \n",
            "                                                  \n",
            "                                                  \n",
            "                                                  \n",
            "                                                  \n"
          ]
        }
      ]
    },
    {
      "cell_type": "code",
      "source": [
        "c1=Canvas(50,50)\n",
        "s1=Square(5,5,20,char=\"^\")\n",
        "s1.paint(c1)\n",
        "l1=Line(2,2,13,19)\n",
        "l1.paint(c1)\n",
        "c1.display()"
      ],
      "metadata": {
        "colab": {
          "base_uri": "https://localhost:8080/"
        },
        "id": "wElFovs7DrZ7",
        "outputId": "a5ac62ce-7e1d-447a-e617-1af9922b1c34"
      },
      "execution_count": 94,
      "outputs": [
        {
          "output_type": "stream",
          "name": "stdout",
          "text": [
            "                                                  \n",
            "                                                  \n",
            "                                                  \n",
            "  *                                               \n",
            "   *                                              \n",
            "     ^^^^^^^^^^^^^^^^^^^^^                        \n",
            "    *^                   ^                        \n",
            "     *                   ^                        \n",
            "     ^                   ^                        \n",
            "     ^*                  ^                        \n",
            "     ^ *                 ^                        \n",
            "     ^                   ^                        \n",
            "     ^  *                ^                        \n",
            "     ^   *               ^                        \n",
            "     ^                   ^                        \n",
            "     ^    *              ^                        \n",
            "     ^                   ^                        \n",
            "     ^     *             ^                        \n",
            "     ^      *            ^                        \n",
            "     ^                   ^                        \n",
            "     ^       *           ^                        \n",
            "     ^        *          ^                        \n",
            "     ^                   ^                        \n",
            "     ^         *         ^                        \n",
            "     ^          *        ^                        \n",
            "     ^^^^^^^^^^^^^^^^^^^^                         \n",
            "                 *                                \n",
            "                  *                               \n",
            "                                                  \n",
            "                                                  \n",
            "                                                  \n",
            "                                                  \n",
            "                                                  \n",
            "                                                  \n",
            "                                                  \n",
            "                                                  \n",
            "                                                  \n",
            "                                                  \n",
            "                                                  \n",
            "                                                  \n",
            "                                                  \n",
            "                                                  \n",
            "                                                  \n",
            "                                                  \n",
            "                                                  \n",
            "                                                  \n",
            "                                                  \n",
            "                                                  \n",
            "                                                  \n",
            "                                                  \n"
          ]
        }
      ]
    },
    {
      "cell_type": "markdown",
      "source": [
        "## Public and Private Method"
      ],
      "metadata": {
        "id": "pYtyOpbtERJr"
      }
    },
    {
      "cell_type": "code",
      "source": [
        "class device:\n",
        "  def __init__(self):\n",
        "    self.__update()\n",
        "\n",
        "  def operate(self):\n",
        "    print(\"operate\")\n",
        "\n",
        "  def __update(self):\n",
        "    print(\"Updating software\")"
      ],
      "metadata": {
        "id": "53bR-ZWQEX-z"
      },
      "execution_count": 85,
      "outputs": []
    },
    {
      "cell_type": "code",
      "source": [
        "a_device=device()\n"
      ],
      "metadata": {
        "colab": {
          "base_uri": "https://localhost:8080/"
        },
        "id": "XVkKnlLqFDus",
        "outputId": "114490ed-fe8c-4684-ca4a-c2861d2986b2"
      },
      "execution_count": 86,
      "outputs": [
        {
          "output_type": "stream",
          "name": "stdout",
          "text": [
            "Updating software\n"
          ]
        }
      ]
    },
    {
      "cell_type": "code",
      "source": [
        "a_device.operate()"
      ],
      "metadata": {
        "colab": {
          "base_uri": "https://localhost:8080/"
        },
        "id": "o-RF35oHFOT7",
        "outputId": "3931cfd1-fcee-4620-cb99-14cd290821fe"
      },
      "execution_count": 87,
      "outputs": [
        {
          "output_type": "stream",
          "name": "stdout",
          "text": [
            "operate\n"
          ]
        }
      ]
    },
    {
      "cell_type": "code",
      "source": [
        "a_device.__update()"
      ],
      "metadata": {
        "colab": {
          "base_uri": "https://localhost:8080/",
          "height": 141
        },
        "id": "7AUYO9iCFg5D",
        "outputId": "c2f44f7c-80cb-4045-8191-d47261417278"
      },
      "execution_count": null,
      "outputs": [
        {
          "output_type": "error",
          "ename": "AttributeError",
          "evalue": "'device' object has no attribute '__update'",
          "traceback": [
            "\u001b[0;31m---------------------------------------------------------------------------\u001b[0m",
            "\u001b[0;31mAttributeError\u001b[0m                            Traceback (most recent call last)",
            "\u001b[0;32m/tmp/ipython-input-4075289693.py\u001b[0m in \u001b[0;36m<cell line: 0>\u001b[0;34m()\u001b[0m\n\u001b[0;32m----> 1\u001b[0;31m \u001b[0ma_device\u001b[0m\u001b[0;34m.\u001b[0m\u001b[0m__update\u001b[0m\u001b[0;34m(\u001b[0m\u001b[0;34m)\u001b[0m\u001b[0;34m\u001b[0m\u001b[0;34m\u001b[0m\u001b[0m\n\u001b[0m",
            "\u001b[0;31mAttributeError\u001b[0m: 'device' object has no attribute '__update'"
          ]
        }
      ]
    },
    {
      "cell_type": "markdown",
      "source": [
        "### Consider the following example of a class to represent a car\n"
      ],
      "metadata": {
        "id": "JZ881nGaGAqr"
      }
    },
    {
      "cell_type": "code",
      "source": [
        "class car:\n",
        "  def __init__(self, name=\"Unnamed\", n_doors=4, max_passengers=4):\n",
        "    self.__n_passengers = 0\n",
        "    self.__name = name\n",
        "    self.__n_doors = n_doors\n",
        "    self.__max_passengers=max_passengers\n",
        "\n",
        "  def name(self):\n",
        "    return self.__name\n",
        "\n",
        "  def n_doors(self):\n",
        "    return self.__doors\n",
        "\n",
        "  def n_passengers(self):\n",
        "    return self.__n_passengers\n",
        "\n",
        "  def max_passengers(self):\n",
        "    return self.__max_passengers\n",
        "\n",
        "#Setter\n",
        "  def set_name(self,name):\n",
        "    if isinstance(name,str):\n",
        "      self.__name=name\n",
        "    else:\n",
        "      print(\"Name must be a string.\")\n",
        "\n",
        "#We can add and remove passengers\n",
        "\n",
        "  def add_passenger(self,n=1):\n",
        "      if isinstance(n,(int,float)):\n",
        "        self.__n_passengers+=n\n",
        "        if self.__n_passengers>self.__max_passengers:\n",
        "            self.__n_passengers=self.__max_passengers\n",
        "            print(\"Car is full\",n-self.max_passengers,\"Passengers were left outside\")\n",
        "      else:\n",
        "        print(\"Number of passengers must be a integer\")\n",
        "\n",
        "  def remove_passenger(self,n=1):\n",
        "    if isinstance(n,int):\n",
        "      self.__n_passengers-=n\n",
        "      if self.__n_passengers<0:\n",
        "         self.__n_passengers=0\n",
        "    else:\n",
        "      print(\"Number of passengers must be a integer\")"
      ],
      "metadata": {
        "id": "yI3FXN9hGGe8"
      },
      "execution_count": 61,
      "outputs": []
    },
    {
      "cell_type": "markdown",
      "source": [
        "### Lets test this code"
      ],
      "metadata": {
        "id": "0KT3qiqxItfk"
      }
    },
    {
      "cell_type": "code",
      "source": [
        "my_car=car()\n",
        "print (my_car.name())\n",
        "\n",
        "my_car.set_name(\"Honda Civic\")\n",
        "print (my_car.name())\n",
        "\n",
        "my_car.add_passenger(2)\n",
        "print (my_car.n_passengers())\n"
      ],
      "metadata": {
        "colab": {
          "base_uri": "https://localhost:8080/"
        },
        "id": "kcDD7rVYIxJq",
        "outputId": "cf9e42ca-9158-4061-e6ee-a5121081d611"
      },
      "execution_count": 70,
      "outputs": [
        {
          "output_type": "stream",
          "name": "stdout",
          "text": [
            "Unnamed\n",
            "Honda Civic\n",
            "2\n"
          ]
        }
      ]
    }
  ]
}