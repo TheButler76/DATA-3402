{
 "cells": [
  {
   "cell_type": "markdown",
   "metadata": {
    "id": "1t21mwwd49Ur"
   },
   "source": [
    "# Drawing Program Example\n",
    "\n",
    "## Canvas"
   ]
  },
  {
   "cell_type": "code",
   "execution_count": 3,
   "metadata": {
    "id": "O4m6CwXf49yb"
   },
   "outputs": [],
   "source": [
    "class Canvas:\n",
    "  def __init__(self, width, height):\n",
    "    self.width = width\n",
    "    self.height = height\n",
    "\n",
    "    self.data= [[' ']*width for i in range(height)]\n",
    "\n",
    "  def set_pixel(self,row,col, char=\"*\"):\n",
    "    self.data[row][col]=char\n",
    "\n",
    "  def get_pixel(self,row,col):\n",
    "    return self.data[row][col]\n",
    "\n",
    "  def clear_canvas(self):\n",
    "    self.data= [['']*self.width for i in range(self.height)]\n",
    "\n",
    "  def v_line(self, x,y,w, **kargs):\n",
    "    for i in range(x,x+w):\n",
    "      self.set_pixel(i,y,**kargs)\n",
    "\n",
    "  def h_line(self, x,y,h, **kargs):\n",
    "    for i in range(y,y+h):\n",
    "      self.set_pixel(x,i,**kargs)\n",
    "\n",
    "  def line(self, x1,y1,x2,y2, **kargs):\n",
    "    slope=(y2-y1)/(x2-x1)\n",
    "    for y in range(y1,y2):\n",
    "      x=int(slope*y)\n",
    "      self.set_pixel(x,y,**kargs)\n",
    "\n",
    "  def display(self):\n",
    "    print(\"\\n\".join([\"\".join(row) for row in self.data]))"
   ]
  },
  {
   "cell_type": "markdown",
   "metadata": {
    "id": "eLAjnq3Z9hGG"
   },
   "source": [
    "A couple of quick tests:"
   ]
  },
  {
   "cell_type": "code",
   "execution_count": 4,
   "metadata": {
    "colab": {
     "base_uri": "https://localhost:8080/"
    },
    "id": "Jfil3MeQ9kx9",
    "outputId": "0c9b71b6-de78-48c2-ad35-eb4f48f400ba"
   },
   "outputs": [
    {
     "name": "stdout",
     "output_type": "stream",
     "text": [
      "A         \n",
      " ---      \n",
      " | \\      \n",
      " |  \\\\    \n",
      " |        \n",
      "          \n",
      "          \n",
      "          \n",
      "          \n",
      "          \n"
     ]
    }
   ],
   "source": [
    "my_canvas=Canvas(10,10)\n",
    "my_canvas.set_pixel(0,0,char=\"A\")\n",
    "my_canvas.v_line(1,1,4,char=\"|\")\n",
    "my_canvas.h_line(1,1,3,char=\"-\")\n",
    "my_canvas.line(3,3,7,6,char=\"\\\\\")\n",
    "\n",
    "my_canvas.display()"
   ]
  },
  {
   "cell_type": "code",
   "execution_count": 5,
   "metadata": {
    "colab": {
     "base_uri": "https://localhost:8080/"
    },
    "id": "QWztCNvz-kVm",
    "outputId": "30507197-6c45-43bd-85dc-7ce318ec54f6"
   },
   "outputs": [
    {
     "name": "stdout",
     "output_type": "stream",
     "text": [
      "                                        \n",
      " ||  *                                   \n",
      " ||   **                                 \n",
      " ||  ******                              \n",
      " ||        **                            \n",
      " ||          **                          \n",
      "              ***                       \n",
      "                 **                     \n",
      "                   *                    \n",
      "                                        \n",
      "                                        \n",
      "                                        \n",
      "                                        \n",
      "                                        \n",
      "                                        \n",
      "                                        \n",
      "                                        \n",
      "                                        \n",
      "                                        \n",
      "                                        \n",
      "                                        \n",
      "                                        \n",
      "                                        \n",
      "                                        \n",
      "                                        \n",
      "                                        \n",
      "                                        \n",
      "                                        \n",
      "                                        \n",
      "                                        \n",
      "                                        \n",
      "                                        \n",
      "                                        \n",
      "                                        \n",
      "                                        \n",
      "                                        \n",
      "                                        \n",
      "                                        \n",
      "                                        \n",
      "                                        \n"
     ]
    }
   ],
   "source": [
    "c1=Canvas(40,40)\n",
    "c1.v_line(1,1,5,char=\"||\")\n",
    "c1.h_line(3,4,4)\n",
    "c1.line(3,4,40,20)\n",
    "c1.display()"
   ]
  },
  {
   "cell_type": "markdown",
   "metadata": {
    "id": "QTKHkG-C_Wnv"
   },
   "source": [
    "## Shapes"
   ]
  },
  {
   "cell_type": "code",
   "execution_count": 10,
   "metadata": {
    "id": "QYAJvCfB_bsG"
   },
   "outputs": [],
   "source": [
    "class Shape:\n",
    "  def __init__(self,name=\"\",**kwargs):\n",
    "    #self.name=name\n",
    "    self.kwargs=kwargs\n",
    "\n",
    "  def paint(self,canvas): pass\n",
    "\n",
    "class Rectangle(Shape):\n",
    "  def __init__(self, x, y, w, h, **kwargs):\n",
    "    Shape.__init__(self, **kwargs)\n",
    "    self.x=x\n",
    "    self.y=y\n",
    "    self.w=w\n",
    "    self.h=h\n",
    "\n",
    "  def paint(self,canvas):\n",
    "    canvas.v_line(self.x, self.y, self.w, **self.kwargs)\n",
    "    canvas.v_line(self.x, self.y + self.h, self.w, **self.kwargs)\n",
    "    canvas.h_line(self.x, self.y, self.h, **self.kwargs)\n",
    "    canvas.h_line(self.x + self.w, self.y, self.h,**self.kwargs)\n",
    "\n",
    "class Square(Rectangle):\n",
    "  def __init__(self,x,y,size,**kwargs):\n",
    "    Rectangle.__init__(self,x,y,size,size,**kwargs)\n",
    "\n",
    "class Line(Shape):\n",
    "  def __init__(self,x1,y1,x2,y2,**kwargs):\n",
    "    Shape.__init__(self,**kwargs)\n",
    "    self.x1=x1\n",
    "    self.y1=y1\n",
    "    self.x2=x2\n",
    "    self.y2=y2\n",
    "\n",
    "  def paint(self,canvas):\n",
    "    canvas.line(self.x1,self.y1,self.x2,self.y2,**self.kwargs)"
   ]
  },
  {
   "cell_type": "markdown",
   "metadata": {
    "id": "IqSTH2g0CS1Q"
   },
   "source": [
    "### Quick Test:"
   ]
  },
  {
   "cell_type": "code",
   "execution_count": 11,
   "metadata": {
    "colab": {
     "base_uri": "https://localhost:8080/"
    },
    "id": "elHuBMhTCYPJ",
    "outputId": "f5eb6ce6-8581-481a-b2fe-627733032462"
   },
   "outputs": [
    {
     "name": "stdout",
     "output_type": "stream",
     "text": [
      "                                                  \n",
      "                                                  \n",
      "                                                  \n",
      "                                                  \n",
      "                                                  \n",
      "     ^^^^^^                                       \n",
      "     ^    ^                                       \n",
      "     ^    ^                                       \n",
      "     ^    ^                                       \n",
      "     ^    ^                                       \n",
      "     ^    ^                                       \n",
      "     ^    ^                                       \n",
      "     ^    ^                                       \n",
      "     ^    ^                                       \n",
      "     ^    ^                                       \n",
      "     ^^^^^                                        \n",
      "                                                  \n",
      "                                                  \n",
      "                                                  \n",
      "                                                  \n",
      "                                                  \n",
      "                                                  \n",
      "                                                  \n",
      "                                                  \n",
      "                                                  \n",
      "                                                  \n",
      "                                                  \n",
      "                                                  \n",
      "                                                  \n",
      "                                                  \n",
      "                                                  \n",
      "                                                  \n",
      "                                                  \n",
      "                                                  \n",
      "                                                  \n",
      "                                                  \n",
      "                                                  \n",
      "                                                  \n",
      "                                                  \n",
      "                                                  \n"
     ]
    }
   ],
   "source": [
    "c1=Canvas(50,40)\n",
    "s1=Rectangle(5,5,10,5,char=\"^\")\n",
    "s1.paint(c1)\n",
    "c1.display()"
   ]
  },
  {
   "cell_type": "code",
   "execution_count": 28,
   "metadata": {
    "colab": {
     "base_uri": "https://localhost:8080/"
    },
    "id": "wElFovs7DrZ7",
    "outputId": "a5ac62ce-7e1d-447a-e617-1af9922b1c34"
   },
   "outputs": [
    {
     "name": "stdout",
     "output_type": "stream",
     "text": [
      "                                                  \n",
      "                                                  \n",
      "                                                  \n",
      "  *                                               \n",
      "   *                                              \n",
      "     ^^^^^^^^^^^^^^^^^^^^^                        \n",
      "    *^                   ^                        \n",
      "     *                   ^                        \n",
      "     ^                   ^                        \n",
      "     ^*                  ^                        \n",
      "     ^ *                 ^                        \n",
      "     ^                   ^                        \n",
      "     ^  *                ^                        \n",
      "     ^   *               ^                        \n",
      "     ^                   ^                        \n",
      "     ^    *              ^                        \n",
      "     ^                   ^                        \n",
      "     ^     *             ^                        \n",
      "     ^      *            ^                        \n",
      "     ^                   ^                        \n",
      "     ^       *           ^                        \n",
      "     ^        *          ^                        \n",
      "     ^                   ^                        \n",
      "     ^         *         ^                        \n",
      "     ^          *        ^                        \n",
      "     ^^^^^^^^^^^^^^^^^^^^                         \n",
      "                 *                                \n",
      "                  *                               \n",
      "                                                  \n",
      "                                                  \n",
      "                                                  \n",
      "                                                  \n",
      "                                                  \n",
      "                                                  \n",
      "                                                  \n",
      "                                                  \n",
      "                                                  \n",
      "                                                  \n",
      "                                                  \n",
      "                                                  \n",
      "                                                  \n",
      "                                                  \n",
      "                                                  \n",
      "                                                  \n",
      "                                                  \n",
      "                                                  \n",
      "                                                  \n",
      "                                                  \n",
      "                                                  \n",
      "                                                  \n"
     ]
    }
   ],
   "source": [
    "c1=Canvas(50,50)\n",
    "s1=Square(5,5,20,char=\"^\")\n",
    "s1.paint(c1)\n",
    "l1=Line(2,2,13,19)\n",
    "l1.paint(c1)\n",
    "c1.display()"
   ]
  },
  {
   "cell_type": "markdown",
   "metadata": {
    "id": "pYtyOpbtERJr"
   },
   "source": [
    "## Public and Private Method"
   ]
  },
  {
   "cell_type": "code",
   "execution_count": 1,
   "metadata": {
    "id": "53bR-ZWQEX-z"
   },
   "outputs": [],
   "source": [
    "class device:\n",
    "  def __init__(self):\n",
    "    self.__update()\n",
    "\n",
    "  def operate(self):\n",
    "    print(\"operate\")\n",
    "\n",
    "  def __update(self):\n",
    "    print(\"Updating software\")"
   ]
  },
  {
   "cell_type": "code",
   "execution_count": 5,
   "metadata": {
    "colab": {
     "base_uri": "https://localhost:8080/"
    },
    "id": "XVkKnlLqFDus",
    "outputId": "114490ed-fe8c-4684-ca4a-c2861d2986b2"
   },
   "outputs": [
    {
     "name": "stdout",
     "output_type": "stream",
     "text": [
      "Updating software\n"
     ]
    }
   ],
   "source": [
    "a_device=device()\n"
   ]
  },
  {
   "cell_type": "code",
   "execution_count": 3,
   "metadata": {
    "colab": {
     "base_uri": "https://localhost:8080/"
    },
    "id": "o-RF35oHFOT7",
    "outputId": "3931cfd1-fcee-4620-cb99-14cd290821fe"
   },
   "outputs": [
    {
     "name": "stdout",
     "output_type": "stream",
     "text": [
      "operate\n"
     ]
    }
   ],
   "source": [
    "a_device.operate()"
   ]
  },
  {
   "cell_type": "code",
   "execution_count": 4,
   "metadata": {
    "colab": {
     "base_uri": "https://localhost:8080/",
     "height": 141
    },
    "id": "7AUYO9iCFg5D",
    "outputId": "c2f44f7c-80cb-4045-8191-d47261417278"
   },
   "outputs": [
    {
     "ename": "AttributeError",
     "evalue": "'device' object has no attribute '__update'",
     "output_type": "error",
     "traceback": [
      "\u001b[0;31m---------------------------------------------------------------------------\u001b[0m",
      "\u001b[0;31mAttributeError\u001b[0m                            Traceback (most recent call last)",
      "Cell \u001b[0;32mIn[4], line 1\u001b[0m\n\u001b[0;32m----> 1\u001b[0m \u001b[43ma_device\u001b[49m\u001b[38;5;241;43m.\u001b[39;49m\u001b[43m__update\u001b[49m()\n",
      "\u001b[0;31mAttributeError\u001b[0m: 'device' object has no attribute '__update'"
     ]
    }
   ],
   "source": [
    "a_device.__update()"
   ]
  },
  {
   "cell_type": "markdown",
   "metadata": {
    "id": "JZ881nGaGAqr"
   },
   "source": [
    "### Consider the following example of a class to represent a car\n"
   ]
  },
  {
   "cell_type": "code",
   "execution_count": 61,
   "metadata": {
    "id": "yI3FXN9hGGe8"
   },
   "outputs": [],
   "source": [
    "class car:\n",
    "  def __init__(self, name=\"Unnamed\", n_doors=4, max_passengers=4):\n",
    "    self.__n_passengers = 0\n",
    "    self.__name = name\n",
    "    self.__n_doors = n_doors\n",
    "    self.__max_passengers=max_passengers\n",
    "\n",
    "  def name(self):\n",
    "    return self.__name\n",
    "\n",
    "  def n_doors(self):\n",
    "    return self.__doors\n",
    "\n",
    "  def n_passengers(self):\n",
    "    return self.__n_passengers\n",
    "\n",
    "  def max_passengers(self):\n",
    "    return self.__max_passengers\n",
    "\n",
    "#Setter\n",
    "  def set_name(self,name):\n",
    "    if isinstance(name,str):\n",
    "      self.__name=name\n",
    "    else:\n",
    "      print(\"Name must be a string.\")\n",
    "\n",
    "#We can add and remove passengers\n",
    "\n",
    "  def add_passenger(self,n=1):\n",
    "      if isinstance(n,(int,float)):\n",
    "        self.__n_passengers+=n\n",
    "        if self.__n_passengers>self.__max_passengers:\n",
    "            self.__n_passengers=self.__max_passengers\n",
    "            print(\"Car is full\",n-self.max_passengers,\"Passengers were left outside\")\n",
    "      else:\n",
    "        print(\"Number of passengers must be a integer\")\n",
    "\n",
    "  def remove_passenger(self,n=1):\n",
    "    if isinstance(n,int):\n",
    "      self.__n_passengers-=n\n",
    "      if self.__n_passengers<0:\n",
    "         self.__n_passengers=0\n",
    "    else:\n",
    "      print(\"Number of passengers must be a integer\")"
   ]
  },
  {
   "cell_type": "markdown",
   "metadata": {
    "id": "0KT3qiqxItfk"
   },
   "source": [
    "### Lets test this code"
   ]
  },
  {
   "cell_type": "code",
   "execution_count": 70,
   "metadata": {
    "colab": {
     "base_uri": "https://localhost:8080/"
    },
    "id": "kcDD7rVYIxJq",
    "outputId": "cf9e42ca-9158-4061-e6ee-a5121081d611"
   },
   "outputs": [
    {
     "name": "stdout",
     "output_type": "stream",
     "text": [
      "Unnamed\n",
      "Honda Civic\n",
      "2\n"
     ]
    }
   ],
   "source": [
    "my_car=car()\n",
    "print (my_car.name())\n",
    "\n",
    "my_car.set_name(\"Honda Civic\")\n",
    "print (my_car.name())\n",
    "\n",
    "my_car.add_passenger(2)\n",
    "print (my_car.n_passengers())\n"
   ]
  }
 ],
 "metadata": {
  "colab": {
   "provenance": []
  },
  "kernelspec": {
   "display_name": "Python 3 (ipykernel)",
   "language": "python",
   "name": "python3"
  },
  "language_info": {
   "codemirror_mode": {
    "name": "ipython",
    "version": 3
   },
   "file_extension": ".py",
   "mimetype": "text/x-python",
   "name": "python",
   "nbconvert_exporter": "python",
   "pygments_lexer": "ipython3",
   "version": "3.10.12"
  }
 },
 "nbformat": 4,
 "nbformat_minor": 4
}
