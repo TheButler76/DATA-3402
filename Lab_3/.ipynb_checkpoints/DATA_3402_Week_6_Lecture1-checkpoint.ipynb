{
 "cells": [
  {
   "cell_type": "markdown",
   "metadata": {
    "id": "OYBzic4nlqqA"
   },
   "source": [
    "# Object Oriented Programming"
   ]
  },
  {
   "cell_type": "code",
   "execution_count": 3,
   "metadata": {
    "id": "fbp8Kfs_ltGO"
   },
   "outputs": [],
   "source": [
    "class student:\n",
    "  name=str()\n",
    "  id_number=int()\n",
    "  year=int()\n",
    "  grades=list()\n",
    "\n",
    "  def add_grade(self,grade):\n",
    "    self.grades.append(grade)\n",
    "\n",
    "  def average_grade(self):\n",
    "    return sum(self.grades)/len(self.grades)"
   ]
  },
  {
   "cell_type": "code",
   "execution_count": 1,
   "metadata": {
    "colab": {
     "base_uri": "https://localhost:8080/"
    },
    "id": "EJlPBrABohhz",
    "outputId": "f3f6af20-2ff9-4efc-9d39-3ab5036ccde7"
   },
   "outputs": [
    {
     "name": "stdout",
     "output_type": "stream",
     "text": [
      "<class 'type'>\n",
      "<class 'str'>\n"
     ]
    }
   ],
   "source": [
    "print(type(str))\n",
    "print(type(str()))"
   ]
  },
  {
   "cell_type": "code",
   "execution_count": 4,
   "metadata": {
    "id": "nt9cgTo1o3DI"
   },
   "outputs": [],
   "source": [
    "class student:\n",
    "  def __init__(self, name, id_number,year):\n",
    "    self.name=name\n",
    "    self.id_number=id_number\n",
    "    self.year=year\n",
    "    self.grades=list()\n",
    "\n",
    "  def add_grade(self,grade):\n",
    "    self.grades.append(grade)\n",
    "\n",
    "  def average_grade(self):\n",
    "    return sum(self.grades)/len(self.grades)\n",
    "\n",
    "  def print_grades(self):\n",
    "    for grade in self.grades:\n",
    "      print(grade)"
   ]
  },
  {
   "cell_type": "code",
   "execution_count": 5,
   "metadata": {
    "colab": {
     "base_uri": "https://localhost:8080/"
    },
    "id": "9rxzy4fYqHan",
    "outputId": "08be9be4-b591-4023-cfb1-a8cf67c4dd8a"
   },
   "outputs": [
    {
     "name": "stdout",
     "output_type": "stream",
     "text": [
      "85\n",
      "90\n",
      "Average: 87.5\n"
     ]
    }
   ],
   "source": [
    "a_student=student(\"John David\",111,2025)\n",
    "\n",
    "a_student.add_grade(85)\n",
    "a_student.add_grade(90)\n",
    "a_student.print_grades()\n",
    "print(\"Average:\",a_student.average_grade())"
   ]
  },
  {
   "cell_type": "code",
   "execution_count": 6,
   "metadata": {
    "colab": {
     "base_uri": "https://localhost:8080/"
    },
    "id": "fL-qxe_wrXCD",
    "outputId": "0b81e087-c672-4fe3-ca72-4eae86e3f736"
   },
   "outputs": [
    {
     "name": "stdout",
     "output_type": "stream",
     "text": [
      "<class '__main__.student'>\n"
     ]
    }
   ],
   "source": [
    "students=list()\n",
    "students.append(student(\"Jim Brian\",112,2025))\n",
    "students.append(student(\"Alex David\",113,2025))\n",
    "\n",
    "print(type(students[0]))"
   ]
  },
  {
   "cell_type": "code",
   "execution_count": 7,
   "metadata": {
    "id": "0TilXibSr8q_"
   },
   "outputs": [],
   "source": [
    "students[0].add_grade(100)\n",
    "students[0].add_grade(90)\n",
    "students[0].add_grade(80)\n",
    "\n",
    "students[1].add_grade(90)\n",
    "students[1].add_grade(80)\n",
    "students[1].add_grade(70)\n"
   ]
  },
  {
   "cell_type": "code",
   "execution_count": 10,
   "metadata": {
    "colab": {
     "base_uri": "https://localhost:8080/"
    },
    "id": "srpgRmFAsemE",
    "outputId": "746f1840-0268-459a-f718-5db48e0f9bb9"
   },
   "outputs": [
    {
     "name": "stdout",
     "output_type": "stream",
     "text": [
      "Name Jim Brian\n",
      "Average: 90.0\n",
      "Name Alex David\n",
      "Average: 80.0\n"
     ]
    }
   ],
   "source": [
    "for student in students:\n",
    "  print(\"Name\", student.name)\n",
    "  print(\"Average:\",student.average_grade())"
   ]
  },
  {
   "cell_type": "markdown",
   "metadata": {
    "id": "D9My9blyuP5J"
   },
   "source": [
    "## Consider the following simple example:"
   ]
  },
  {
   "cell_type": "code",
   "execution_count": 12,
   "metadata": {
    "id": "3Y3muTBVtg4D"
   },
   "outputs": [],
   "source": [
    "class person:\n",
    "  def __init__(self, name):\n",
    "    self.name=name\n",
    "  def say_hello(self):\n",
    "    print(\"Hello, my name is \"+self.name)"
   ]
  },
  {
   "cell_type": "code",
   "execution_count": 13,
   "metadata": {
    "colab": {
     "base_uri": "https://localhost:8080/"
    },
    "id": "RMD4OJxZus8V",
    "outputId": "f9b5e067-403d-4d82-cdcc-b09b0e5eceeb"
   },
   "outputs": [
    {
     "name": "stdout",
     "output_type": "stream",
     "text": [
      "Hello, my name is Bob\n",
      "Hello, my name is Alice\n"
     ]
    }
   ],
   "source": [
    "# create objects\n",
    "Bob=person(\"Bob\")\n",
    "Alice=person(\"Alice\")\n",
    "\n",
    "#call methods owned by virtual objects\n",
    "Bob.say_hello()\n",
    "Alice.say_hello()"
   ]
  },
  {
   "cell_type": "code",
   "execution_count": 15,
   "metadata": {
    "colab": {
     "base_uri": "https://localhost:8080/"
    },
    "id": "01tt8UEEwS0F",
    "outputId": "159929a7-3c8a-4c5c-ae8a-91d2bcb4c307"
   },
   "outputs": [
    {
     "name": "stdout",
     "output_type": "stream",
     "text": [
      "Hello, my name is Jane\n",
      "Hello, my name is Anna\n"
     ]
    }
   ],
   "source": [
    "people=[person(\"Jane\"),person(\"Anna\")]\n",
    "Jane=people[0]\n",
    "Jane.say_hello()\n",
    "people[1].say_hello()"
   ]
  },
  {
   "cell_type": "markdown",
   "metadata": {
    "id": "o_wyhr46xNeg"
   },
   "source": [
    "## Inheritance"
   ]
  },
  {
   "cell_type": "code",
   "execution_count": 17,
   "metadata": {
    "id": "V0_2locfxJRG"
   },
   "outputs": [],
   "source": [
    "class person:\n",
    "  def __init_(self, name, id_number):\n",
    "    self.name = name\n",
    "    self.id_number = id_number\n",
    "\n",
    "class student(person):\n",
    "  def __init__(self, name, id_number, year):\n",
    "    super(student, self).__init__(name,id_number)\n",
    "    self.year=year\n",
    "    self.grades=list()\n",
    "\n",
    "  def add_grade(self,grade):\n",
    "    self.grades.append(grade)\n",
    "\n",
    "  def average_grade(self):\n",
    "    return sum(self.grades)/len(self.grades)\n",
    "\n",
    "  def print_grades(self):\n",
    "    for grade in self.grades:\n",
    "      print(grade)\n",
    "\n",
    "class faculty(person):\n",
    "   def __init__(self,name,id_number):\n",
    "    super(faculty,self).__init__(name,id_number)\n",
    "    self.courses=list()\n",
    "\n",
    "   def add_courses(self,course):\n",
    "    self.courses.append(course)\n",
    "\n",
    "   def print_courses(self):\n",
    "    for course in self.courses:\n",
    "      print(course)\n"
   ]
  },
  {
   "cell_type": "code",
   "execution_count": null,
   "metadata": {
    "id": "4a7wMT6Z00Xn"
   },
   "outputs": [],
   "source": []
  }
 ],
 "metadata": {
  "colab": {
   "provenance": []
  },
  "kernelspec": {
   "display_name": "Python 3 (ipykernel)",
   "language": "python",
   "name": "python3"
  },
  "language_info": {
   "codemirror_mode": {
    "name": "ipython",
    "version": 3
   },
   "file_extension": ".py",
   "mimetype": "text/x-python",
   "name": "python",
   "nbconvert_exporter": "python",
   "pygments_lexer": "ipython3",
   "version": "3.12.3"
  }
 },
 "nbformat": 4,
 "nbformat_minor": 1
}
