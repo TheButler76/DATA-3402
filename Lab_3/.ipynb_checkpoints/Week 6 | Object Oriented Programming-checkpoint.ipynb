{
 "cells": [
  {
   "cell_type": "markdown",
   "id": "ffc66c14",
   "metadata": {},
   "source": [
    "### Week 6"
   ]
  },
  {
   "cell_type": "markdown",
   "id": "c822aafe",
   "metadata": {},
   "source": [
    "#### Object Oriented Programming"
   ]
  },
  {
   "cell_type": "markdown",
   "id": "df9f43a6",
   "metadata": {},
   "source": [
    "#### For any program we have:\n",
    ">#### 1.) Objects -> OOP or POOP (Python Object Oriented Programmming)\n",
    ">#### 2.) Classes\n",
    ">#### 3.) Attributes (properties)\n",
    ">#### 4.) Methods (functions) -> Procedural Programming"
   ]
  },
  {
   "cell_type": "code",
   "execution_count": 1,
   "id": "db664dc4",
   "metadata": {},
   "outputs": [],
   "source": [
    "# We create an incorrect class for example purposes..\n",
    "class student:\n",
    "    # init\n",
    "    name=str()\n",
    "    id_number=int()\n",
    "    year=int()\n",
    "    grade=list()\n",
    "    \n",
    "    \n",
    "    def add_grade(self, grade):\n",
    "       self.grades.append(grade)\n",
    "    \n",
    "    def average_grade(self):\n",
    "        return sum(self.grades)/len(self.grades)"
   ]
  },
  {
   "cell_type": "code",
   "execution_count": 3,
   "id": "4ab8cdf0",
   "metadata": {},
   "outputs": [
    {
     "name": "stdout",
     "output_type": "stream",
     "text": [
      "<class 'type'>\n",
      "<class 'str'>\n"
     ]
    }
   ],
   "source": [
    "print(type(str)) # class\n",
    "print(type(str())) # method"
   ]
  },
  {
   "cell_type": "code",
   "execution_count": 7,
   "id": "cee61808",
   "metadata": {},
   "outputs": [],
   "source": [
    "# how to use OOP to create the class...\n",
    "# In a way, self is equal to 'student' class.\n",
    "class student:\n",
    "    # Python method\n",
    "    def __init__(self, name, id_number, year): # attributes are what is inside the method.\n",
    "        self.name=name\n",
    "        self.id_number=id_number\n",
    "        self.year=year\n",
    "        self.grade=list()\n",
    "        \n",
    "    # Add grade to a list\n",
    "    def add_grade(self, grade):\n",
    "        self.grade.append(grade)\n",
    "    \n",
    "    # get the average grade\n",
    "    def average_grade(self):\n",
    "        return sum(self.grade)/len(self.grade)\n",
    "    \n",
    "    # print the grades\n",
    "    def print_grade(self):\n",
    "        for grade in self.grade:\n",
    "            print(grade)        "
   ]
  },
  {
   "cell_type": "code",
   "execution_count": 8,
   "id": "f345fd3f",
   "metadata": {},
   "outputs": [
    {
     "name": "stdout",
     "output_type": "stream",
     "text": [
      "85\n",
      "88\n",
      "Average:  86.5\n"
     ]
    }
   ],
   "source": [
    "a_student=student(\"Brian Bian\", 111, 2025)\n",
    "a_student.add_grade(85)\n",
    "a_student.add_grade(88)\n",
    "a_student.print_grade()\n",
    "print(\"Average: \", a_student.average_grade())"
   ]
  },
  {
   "cell_type": "code",
   "execution_count": 9,
   "id": "328050f4",
   "metadata": {},
   "outputs": [
    {
     "name": "stdout",
     "output_type": "stream",
     "text": [
      "<class '__main__.student'>\n"
     ]
    }
   ],
   "source": [
    "students=list()\n",
    "students.append(student(\"John Doe\", 112, 2025))\n",
    "students.append(student(\"Jane Doe\", 113, 2025))\n",
    "\n",
    "print(type(students[0]))"
   ]
  },
  {
   "cell_type": "code",
   "execution_count": null,
   "id": "3d25d0af",
   "metadata": {},
   "outputs": [],
   "source": [
    "### object.function()"
   ]
  },
  {
   "cell_type": "code",
   "execution_count": 11,
   "id": "686ce01b",
   "metadata": {},
   "outputs": [],
   "source": [
    "students[0].add_grade(100)\n",
    "students[0].add_grade(90)\n",
    "students[0].add_grade(80)\n",
    "\n",
    "students[1].add_grade(90)\n",
    "students[1].add_grade(80)\n",
    "students[1].add_grade(70)"
   ]
  },
  {
   "cell_type": "code",
   "execution_count": 12,
   "id": "aaff20e8",
   "metadata": {},
   "outputs": [
    {
     "name": "stdout",
     "output_type": "stream",
     "text": [
      "Name:  John Doe\n",
      "Average =  90.0\n",
      "Name:  Jane Doe\n",
      "Average =  80.0\n"
     ]
    }
   ],
   "source": [
    "for student in students:\n",
    "    print(\"Name: \", student.name)\n",
    "    print(\"Average = \", student.average_grade())"
   ]
  },
  {
   "cell_type": "markdown",
   "id": "a3c5218e",
   "metadata": {},
   "source": [
    "#### Examples"
   ]
  },
  {
   "cell_type": "code",
   "execution_count": 14,
   "id": "75f9aeb4",
   "metadata": {},
   "outputs": [],
   "source": [
    "class person:\n",
    "    def __init__(self, name):\n",
    "        self.name=name\n",
    "        \n",
    "    def say_hello(self):\n",
    "        print(\"Hello, my name is \" + self.name)"
   ]
  },
  {
   "cell_type": "code",
   "execution_count": 18,
   "id": "ed372911",
   "metadata": {},
   "outputs": [
    {
     "name": "stdout",
     "output_type": "stream",
     "text": [
      "Hello, my name is Bob\n",
      "Hello, my name is Alice\n"
     ]
    }
   ],
   "source": [
    "# Create object first\n",
    "Bob=person(\"Bob\")\n",
    "Alice=person(\"Alice\")\n",
    "\n",
    "# Call methods owned by virtual objects\n",
    "Bob.say_hello()\n",
    "Alice.say_hello()"
   ]
  },
  {
   "cell_type": "code",
   "execution_count": 19,
   "id": "fe8e66e2",
   "metadata": {},
   "outputs": [
    {
     "name": "stdout",
     "output_type": "stream",
     "text": [
      "Hello, my name is Jane\n",
      "Hello, my name is Alex\n"
     ]
    }
   ],
   "source": [
    "# We can implement functions using indices.\n",
    "people=[person(\"Jane\"), person(\"Alex\")]\n",
    "Jane=people[0]\n",
    "Alex=people[1]\n",
    "\n",
    "Jane.say_hello()\n",
    "Alex.say_hello()"
   ]
  },
  {
   "cell_type": "markdown",
   "id": "305d6bac",
   "metadata": {},
   "source": [
    "### Inheritance\n",
    ">#### Reduces the need to manually copy and paste variables, usually using one line.\n",
    ">#### This improves efficiency"
   ]
  },
  {
   "cell_type": "code",
   "execution_count": 22,
   "id": "0ba45ed5",
   "metadata": {},
   "outputs": [],
   "source": [
    "#### Alows the building of heiarchies for classes."
   ]
  },
  {
   "cell_type": "code",
   "execution_count": 23,
   "id": "41af8f8f",
   "metadata": {},
   "outputs": [],
   "source": [
    "class person:\n",
    "    # Main/super class that is used everywhere.\n",
    "    def __init__(self, name, ID):\n",
    "        self.name=name\n",
    "        self.ID=ID\n",
    "        \n",
    "class student(person):\n",
    "    # sub-class that accepts person as an arguement.\n",
    "    def __init__(self, name, ID, year):\n",
    "        # super() basically copies everythiing we specify from our main class.\n",
    "        # We can also define as many functions as we need.\n",
    "        super(student, self).__init__(name, ID)\n",
    "        self.year=year\n",
    "        self.grades=list()\n",
    "        \n",
    "    def add_grade(self, grade):\n",
    "        self.grades.append(grade)\n",
    "        \n",
    "    def average_grade(self):\n",
    "        return sum(self.grades)/len(self.grades)\n",
    "    \n",
    "    def print_grades(self):\n",
    "        for grade in self.grades:\n",
    "            print(grade)\n",
    "        \n",
    "class faculty(person):\n",
    "    def __init__(self, name, ID):\n",
    "        super(faculty, self).__init__(name, ID)\n",
    "        self.courses=list()\n",
    "        \n",
    "    def add_courses(self, course):\n",
    "        self.courses.append(course)\n",
    "        \n",
    "    def print_courses(self):\n",
    "        for course in self.courses:\n",
    "            print(course)"
   ]
  },
  {
   "cell_type": "code",
   "execution_count": null,
   "id": "37899581",
   "metadata": {},
   "outputs": [],
   "source": [
    "## running the code.\n"
   ]
  },
  {
   "cell_type": "markdown",
   "id": "e6d3024e",
   "metadata": {},
   "source": [
    "# Week 6 | Lecture 2"
   ]
  },
  {
   "cell_type": "markdown",
   "id": "f03038d0",
   "metadata": {},
   "source": [
    "#### Drawing Program Example"
   ]
  },
  {
   "cell_type": "markdown",
   "id": "80cb7c9b",
   "metadata": {},
   "source": [
    "### Need:\n",
    ">#### A Canvas.\n",
    ">#### A Shape Object."
   ]
  },
  {
   "cell_type": "code",
   "execution_count": 10,
   "id": "de257f84",
   "metadata": {},
   "outputs": [
    {
     "ename": "SyntaxError",
     "evalue": "invalid syntax (4271465857.py, line 20)",
     "output_type": "error",
     "traceback": [
      "\u001b[0;36m  Cell \u001b[0;32mIn[10], line 20\u001b[0;36m\u001b[0m\n\u001b[0;31m    return self.data=[['']*self.width for i in range(self.height)]\u001b[0m\n\u001b[0m                    ^\u001b[0m\n\u001b[0;31mSyntaxError\u001b[0m\u001b[0;31m:\u001b[0m invalid syntax\n"
     ]
    }
   ],
   "source": [
    "class canvas:\n",
    "    def __init__(self, length, width):\n",
    "        # This init will be our canvas.\n",
    "        self.length=length\n",
    "        self.height=width\n",
    "        \n",
    "        # Data we will work with, we will create a matrix.\n",
    "        self.data = [['']*width for i in range(height)]\n",
    "        \n",
    "    def set_pixel(self, row, col, char=\"*\"):\n",
    "        # We define our row by column, by a star..\n",
    "        self.data[row][col]=char\n",
    "        \n",
    "        \n",
    "    def show(self):\n",
    "        return self.data[row][col]\n",
    "        \n",
    "    \n",
    "    def clear_canvas(self):\n",
    "        return self.data=[['']*self.width for i in range(self.height)]\n",
    "        \n",
    "    def v_line(self, x,y,w, **kargs):\n",
    "        for i in range(x, x+w):\n",
    "            # i is always the first x.\n",
    "            self.set_pixel(i,y,**kargs)\n",
    "            \n",
    "    def h_line(self, x,y,h, **kargs):\n",
    "        for i in range(y, y+h):\n",
    "            # i is always the first x.\n",
    "            self.set_pixel(i,x,**kargs)\n",
    "            \n",
    "    def line(self, x1, y1, x2, y2, **kargs):\n",
    "        # We use the slope formula.\n",
    "        slope=(y2-y1)/(x2-x1)\n",
    "        for y in range(y1,y2):\n",
    "            x=int(slope*y)\n",
    "            self.set_pixel(x,y,**kargs)\n",
    "            \n",
    "    def display(self):\n",
    "        print(\"\\n\".join([\"\".join(row) for row in self.data]))\n",
    "        \n",
    "        \n",
    "        "
   ]
  },
  {
   "cell_type": "code",
   "execution_count": 11,
   "id": "f36f6e44",
   "metadata": {},
   "outputs": [],
   "source": [
    "## Shapes"
   ]
  },
  {
   "cell_type": "code",
   "execution_count": 15,
   "id": "a44df54e",
   "metadata": {},
   "outputs": [],
   "source": [
    "class Shape:\n",
    "    def __init__(self, name='', **kwargs):\n",
    "        self.name=name\n",
    "        self.kwargs=kwargs\n",
    "        \n",
    "    # If we paint the self and canvas, we pass to the next step.\n",
    "    def paint(self, canvas):\n",
    "        pass\n",
    "    \n",
    "class Rectangle(Shape):\n",
    "    def __init__(self, x,y,w,h, **kwargs):\n",
    "        Shape.__init__(self, **kwargs)\n",
    "        self.x=x\n",
    "        self.y=y\n",
    "        self.h=h\n",
    "        self.w=x\n",
    "        \n",
    "    def paint(self, canvas):\n",
    "        canvas.v_line(self.x, self.y, self.h, self.w, **self.kwargs)\n",
    "        canvas.v_line(self.x, self.y+self.h, self.w, **self.kwargs)\n",
    "        \n",
    "        canvas.h_line(self.x, self.y, self.h, self.w, **self.kwargs)\n",
    "        canvas.h_line(self.x+self.w, self.y, self.h, **self.kwargs)\n",
    "        \n",
    "        \n",
    "        \n",
    "class Square(Rectangle):\n",
    "    def __init__(self,x,y,size,**kwargs):\n",
    "        Rectangle.__init__(self,x,y,size,size,**kwargs)\n",
    "        \n",
    "        \n",
    "class Line(Shape):\n",
    "    def __init__(self, x1, x2, y1, y2, **kwargs):\n",
    "        Shape.__init__(self, **kwargs)\n",
    "        self.x1=x1\n",
    "        self.y1=y1\n",
    "        self.x2=x2\n",
    "        self.y2=y2\n",
    "        \n",
    "    def paint(self, canvas):\n",
    "        canvas.line(self.x1, self.y1, self.x2, self.y2, **self.kwargs)"
   ]
  },
  {
   "cell_type": "markdown",
   "id": "d8229acc",
   "metadata": {},
   "source": [
    "## Public and Private Method"
   ]
  },
  {
   "cell_type": "markdown",
   "id": "1eb0b2d3",
   "metadata": {},
   "source": [
    ">### two underscores represent private, `__`\n"
   ]
  },
  {
   "cell_type": "code",
   "execution_count": 17,
   "id": "3c0bf5ca",
   "metadata": {},
   "outputs": [],
   "source": [
    "class device:\n",
    "    def __init__(self):\n",
    "        self.__update()\n",
    "        \n",
    "    def operate(self):\n",
    "        print(\"operate\")\n",
    "    \n",
    "    # Private method.\n",
    "    # Private means: exclusive to the class we make. So this would only be able to be used in the device class.\n",
    "    def __update(self):\n",
    "        print(\"Updating software\")\n",
    "        \n",
    "        "
   ]
  },
  {
   "cell_type": "code",
   "execution_count": null,
   "id": "24a2d3ad",
   "metadata": {},
   "outputs": [],
   "source": []
  },
  {
   "cell_type": "code",
   "execution_count": 19,
   "id": "6162b841",
   "metadata": {},
   "outputs": [
    {
     "name": "stdout",
     "output_type": "stream",
     "text": [
      "Updating software\n"
     ]
    }
   ],
   "source": [
    "a_device=device()"
   ]
  },
  {
   "cell_type": "code",
   "execution_count": 20,
   "id": "e69338cd",
   "metadata": {},
   "outputs": [
    {
     "name": "stdout",
     "output_type": "stream",
     "text": [
      "operate\n"
     ]
    }
   ],
   "source": [
    "a_device.operate()"
   ]
  },
  {
   "cell_type": "code",
   "execution_count": 21,
   "id": "aed81877",
   "metadata": {},
   "outputs": [
    {
     "ename": "AttributeError",
     "evalue": "'device' object has no attribute '__update'",
     "output_type": "error",
     "traceback": [
      "\u001b[0;31m---------------------------------------------------------------------------\u001b[0m",
      "\u001b[0;31mAttributeError\u001b[0m                            Traceback (most recent call last)",
      "Cell \u001b[0;32mIn[21], line 1\u001b[0m\n\u001b[0;32m----> 1\u001b[0m \u001b[43ma_device\u001b[49m\u001b[38;5;241;43m.\u001b[39;49m\u001b[43m__update\u001b[49m()\n",
      "\u001b[0;31mAttributeError\u001b[0m: 'device' object has no attribute '__update'"
     ]
    }
   ],
   "source": [
    "# Will not work because this method is already implicitly called in the class.\n",
    "#a_device.__update()"
   ]
  },
  {
   "cell_type": "code",
   "execution_count": 24,
   "id": "ab3c17d6",
   "metadata": {},
   "outputs": [],
   "source": [
    "# We apply the the private class concept some more\n",
    "class car:\n",
    "    def __init__(self, name=\"Unamed\", n_doors=4, max_passengers=4):\n",
    "        self.__n_passengers=0\n",
    "        self.__name=name\n",
    "        self.___n_doors=doors\n",
    "        self.__max_passengers=max_passengers\n",
    "        \n",
    "    def name(self):\n",
    "        return self.__name\n",
    "    \n",
    "    def n_doors(self):\n",
    "        return self.___n_doors\n",
    "    \n",
    "    def n_passengers(self):\n",
    "        return self.__n_passengers\n",
    "    \n",
    "    def max_passengers(self):\n",
    "        return self.__max_passengers\n",
    "    \n",
    "    # Settler\n",
    "    def set_name(self, name):\n",
    "        if isinstance(name, str):\n",
    "            self.__name=name\n",
    "        else:\n",
    "            print(\"Name must be a string.\")\n",
    "        \n",
    "        \n",
    "    # We can add and remove passengers\n",
    "    def add_passenger(self, n=1):\n",
    "        if isinstance(n, (int,float)):\n",
    "            self.__n_passengers+=n\n",
    "            if self.__n_passengers > self.__max_passengers:\n",
    "                self.__n_passengers=self.__max_passengers\n",
    "                print(\"Car is full\", n-self.max_passengers, \"Passengers were left outside\")\n",
    "        else:\n",
    "            print(\"Must be an int or float.\")\n",
    "    \n",
    "    def remove_passenger(self, n=1):\n",
    "        if isinstance(n, int):\n",
    "            self.__n_passengers-=n\n",
    "            if self.__n_passengers<0:\n",
    "                self.__n_passengers=0\n",
    "                \n",
    "        else:\n",
    "            print(\"errr\")"
   ]
  },
  {
   "cell_type": "code",
   "execution_count": 26,
   "id": "5c4f56e9",
   "metadata": {},
   "outputs": [
    {
     "ename": "NameError",
     "evalue": "name 'doors' is not defined",
     "output_type": "error",
     "traceback": [
      "\u001b[0;31m---------------------------------------------------------------------------\u001b[0m",
      "\u001b[0;31mNameError\u001b[0m                                 Traceback (most recent call last)",
      "Cell \u001b[0;32mIn[26], line 1\u001b[0m\n\u001b[0;32m----> 1\u001b[0m my_car\u001b[38;5;241m=\u001b[39m\u001b[43mcar\u001b[49m\u001b[43m(\u001b[49m\u001b[43m)\u001b[49m\n\u001b[1;32m      2\u001b[0m \u001b[38;5;28mprint\u001b[39m(my_car\u001b[38;5;241m.\u001b[39mname())\n\u001b[1;32m      3\u001b[0m my_car\u001b[38;5;241m.\u001b[39mset_name(\u001b[38;5;124m\"\u001b[39m\u001b[38;5;124mHonda Accord\u001b[39m\u001b[38;5;124m\"\u001b[39m)\n",
      "Cell \u001b[0;32mIn[24], line 6\u001b[0m, in \u001b[0;36mcar.__init__\u001b[0;34m(self, name, n_doors, max_passengers)\u001b[0m\n\u001b[1;32m      4\u001b[0m \u001b[38;5;28mself\u001b[39m\u001b[38;5;241m.\u001b[39m__n_passengers\u001b[38;5;241m=\u001b[39m\u001b[38;5;241m0\u001b[39m\n\u001b[1;32m      5\u001b[0m \u001b[38;5;28mself\u001b[39m\u001b[38;5;241m.\u001b[39m__name\u001b[38;5;241m=\u001b[39mname\n\u001b[0;32m----> 6\u001b[0m \u001b[38;5;28mself\u001b[39m\u001b[38;5;241m.\u001b[39m___n_doors\u001b[38;5;241m=\u001b[39m\u001b[43mdoors\u001b[49m\n\u001b[1;32m      7\u001b[0m \u001b[38;5;28mself\u001b[39m\u001b[38;5;241m.\u001b[39m__max_passengers\u001b[38;5;241m=\u001b[39mmax_passengers\n",
      "\u001b[0;31mNameError\u001b[0m: name 'doors' is not defined"
     ]
    }
   ],
   "source": [
    "my_car=car()\n",
    "print(my_car.name())\n",
    "my_car.set_name(\"Honda Accord\")\n",
    "print(my_car.name())\n",
    "my_car.add_passenger(2)\n",
    "print(my_car.n_passengers())\n"
   ]
  },
  {
   "cell_type": "code",
   "execution_count": null,
   "id": "f0a1e1d5",
   "metadata": {},
   "outputs": [],
   "source": []
  }
 ],
 "metadata": {
  "kernelspec": {
   "display_name": "Python 3 (ipykernel)",
   "language": "python",
   "name": "python3"
  },
  "language_info": {
   "codemirror_mode": {
    "name": "ipython",
    "version": 3
   },
   "file_extension": ".py",
   "mimetype": "text/x-python",
   "name": "python",
   "nbconvert_exporter": "python",
   "pygments_lexer": "ipython3",
   "version": "3.12.3"
  }
 },
 "nbformat": 4,
 "nbformat_minor": 5
}
