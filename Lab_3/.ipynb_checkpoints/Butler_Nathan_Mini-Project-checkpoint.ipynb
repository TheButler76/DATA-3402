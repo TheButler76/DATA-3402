{
 "cells": [
  {
   "cell_type": "markdown",
   "metadata": {},
   "source": [
    "# Mini Project\n",
    "### Due: 10/03/2025 23:59PM\n",
    "\n",
    "For all of the exercises below, make sure you provide tests of your solutions.\n",
    "\n",
    "# **Assignment Submission Guidelines**\n",
    "\n",
    "\n",
    "Please follow the guidelines below for submitting your assignment:\n",
    "\n",
    "1. **Submission Deadline:**\n",
    "   - All assignments must be submitted **no later than 10/03/2025 11:59 PM**.\n",
    "   - Late submissions will not be accepted unless prior arrangements have been made by the instructor.\n",
    "\n",
    "2. **Submission Platform:**\n",
    "   - Submit your assignment through **Canvas**. Ensure that you upload the files to the correct assignment link.\n",
    "\n",
    "3. **Required Files:**\n",
    "   - **Jupyter Notebook file (.ipynb):** Submit the Jupyter Notebook file you used to complete the assignment. The file should contain your well-commented code.\n",
    "   - **PDF Version (.pdf file):** Additionally, submit a PDF version of your Python code. This can be a printout or export of your script, showing all the code with any necessary explanations or output results included.\n",
    "\n",
    "4. **File Naming Convention:**\n",
    "   - Please name your files as follows: `Lastname_Firstname_AssignmentName`\n",
    "   - Example: `Alex_John_mini_project.ipynb` and `Alex_John_mini_project.pdf`\n",
    "\n",
    "5. **Technical Issues:**\n",
    "   - If you encounter any technical issues with Canvas or your submission, please contact the TAs immediately **before the deadline** to avoid penalties.\n"
   ]
  },
  {
   "cell_type": "code",
   "execution_count": 56,
   "metadata": {},
   "outputs": [],
   "source": [
    "import math"
   ]
  },
  {
   "cell_type": "markdown",
   "metadata": {},
   "source": [
    "1. Write a \"counter\" class that can be incremented up to a specified maximum value, will print an error if an attempt is made to increment beyond that value, and allows reseting the counter. (5 Points)"
   ]
  },
  {
   "cell_type": "code",
   "execution_count": 57,
   "metadata": {},
   "outputs": [
    {
     "name": "stdout",
     "output_type": "stream",
     "text": [
      "Count:  1\n",
      "Count:  2\n"
     ]
    }
   ],
   "source": [
    "class counter:\n",
    "    # Can be incremented up to a specific value.\n",
    "    def __init__(self, limit=0):\n",
    "        self.count=0\n",
    "        # specified maximum value.\n",
    "        self.limit=limit\n",
    "        \n",
    "    # We need an incrememt value\n",
    "    def increment(self):\n",
    "        if self.count < self.limit:\n",
    "            self.count += 1\n",
    "            return print(\"Count: \", self.count)\n",
    "        else:\n",
    "            return ValueError(\"Count exceeded limit.\")\n",
    "    \n",
    "    def reset(self):\n",
    "        self.count = 0\n",
    "        \n",
    "# We make an object to hold a method.\n",
    "count = counter(2)\n",
    "count.increment()\n",
    "count.increment()\n",
    "#count.increment()\n",
    "#count.reset()\n",
    "#count.increment()"
   ]
  },
  {
   "cell_type": "markdown",
   "metadata": {},
   "source": [
    "2. Copy and paste your solution to question 1 and modify it so that all the data held by the counter is private. Implement functions to check the value of the counter, check the maximum value, and check if the counter is at the maximum. (5 Points)"
   ]
  },
  {
   "cell_type": "code",
   "execution_count": 58,
   "metadata": {},
   "outputs": [
    {
     "name": "stdout",
     "output_type": "stream",
     "text": [
      "Limit: 5\n",
      "Counter starting value: 0\n",
      "counter(0/5)\n",
      "counter(1/5)\n",
      "counter(2/5)\n",
      "counter(3/5)\n",
      "counter(4/5)\n",
      "counter(5/5)\n"
     ]
    }
   ],
   "source": [
    "\"\"\"\n",
    " Implement functions to check the value of the counter, \n",
    " check the maximum value, and check if the counter is at the maximum.\n",
    " (5 Points)\n",
    "\"\"\"\n",
    "class counter:\n",
    "    # Can be incremented up to a specific value.\n",
    "    def __init__(self, limit=0):\n",
    "        self.__count=0\n",
    "        self.__limit=limit\n",
    "        \n",
    "    # The data held by increment is now inside a private function.\n",
    "    def increment(self):\n",
    "        if self.__count < self.__limit:\n",
    "            self.__count += 1\n",
    "            return self.__str__()\n",
    "        raise ValueError(\"Count Exceeded Limit\")\n",
    "\n",
    "    def value(self):\n",
    "        # counter value\n",
    "        return self.__count\n",
    "\n",
    "    def limit(self):\n",
    "        # returns the limit value\n",
    "        return self.__limit\n",
    "\n",
    "    def if_max(self):\n",
    "        # returns the max counter\n",
    "        return self.__count == self.__limit\n",
    "\n",
    "    # Print statement for UI\n",
    "    def __str__(self):\n",
    "        return f\"counter({self.__count}/{self.__limit})\"\n",
    "    \n",
    "    def reset(self):\n",
    "        self.__count = 0\n",
    "        \n",
    "# We make an object to hold a method.\n",
    "count = counter(5)\n",
    "print(\"Limit:\", count.limit())\n",
    "print(\"Counter starting value:\", count.value())\n",
    "print(count)\n",
    "print(count.increment())\n",
    "print(count.increment())\n",
    "print(count.increment())\n",
    "print(count.increment())\n",
    "print(count.increment())"
   ]
  },
  {
   "cell_type": "markdown",
   "metadata": {},
   "source": [
    "3. Implement a class to represent a rectangle, holding the length, width, and $x$ and $y$ coordinates of a corner of the object. Implement functions that compute the area and perimeter of the rectangle. Make all data members private and privide accessors to retrieve values of data members. (10 Points)"
   ]
  },
  {
   "cell_type": "code",
   "execution_count": 59,
   "metadata": {},
   "outputs": [],
   "source": [
    "class Rectangle:\n",
    "    def __init__(self, length, width, x, y):\n",
    "        self.__length = length\n",
    "        self.__width = width\n",
    "        self.__x = x\n",
    "        self.__y = y\n",
    "\n",
    "    def compute_area(self):\n",
    "        return self.__length * self.__width\n",
    "\n",
    "    def compute_perimeter(self):\n",
    "        return 2 * (self.__length + self.__width)\n",
    "\n",
    "    # Accessors (that are like quasi objects?)\n",
    "    def get_length(self):\n",
    "        return self.__length\n",
    "\n",
    "    def get_width(self):\n",
    "        return self.__width\n",
    "\n",
    "    def get_x(self):\n",
    "        return self.__x\n",
    "\n",
    "    def get_y(self):\n",
    "        return self.__y"
   ]
  },
  {
   "cell_type": "code",
   "execution_count": 60,
   "metadata": {},
   "outputs": [
    {
     "name": "stdout",
     "output_type": "stream",
     "text": [
      "Length:  2\n",
      "Width:  3\n",
      "X:  2\n",
      "Y:  3\n",
      "Area:  6\n",
      "Perimeter:  10\n"
     ]
    }
   ],
   "source": [
    "Rectangle = Rectangle(2, 3, 2, 3)\n",
    "print(\"Length: \", Rectangle.get_length())\n",
    "print(\"Width: \", Rectangle.get_width())\n",
    "print(\"X: \", Rectangle.get_x())\n",
    "print(\"Y: \", Rectangle.get_y())\n",
    "print(\"Area: \", Rectangle.compute_area())\n",
    "print(\"Perimeter: \", Rectangle.compute_perimeter())"
   ]
  },
  {
   "cell_type": "markdown",
   "metadata": {},
   "source": [
    "4. Implement a class to represent a circle, holding the radius and $x$ and $y$ coordinates of center of the object. Implement functions that compute the area and perimeter of the rectangle. Make all data members private and privide accessors to retrieve values of data members. (10 Points)"
   ]
  },
  {
   "cell_type": "code",
   "execution_count": 61,
   "metadata": {},
   "outputs": [],
   "source": [
    "import math\n",
    "class Circle:\n",
    "    def __init__(self, radius, x,y):\n",
    "        self.__radius = radius\n",
    "        self.__x = x\n",
    "        self.__y = y\n",
    "\n",
    "    def compute_area(self):\n",
    "        # Area = pi* r^2\n",
    "        return round((math.pi)*(self.__radius**2))\n",
    "\n",
    "    def compute_circumference(self):\n",
    "        # Circumference = 2* pi* r\n",
    "        return round(2 * (math.pi) * self.__radius)\n",
    "\n",
    "    # Accessors\n",
    "    def get_radius(self):\n",
    "        return self.__radius\n",
    "\n",
    "    def get_x(self):\n",
    "        return self.__x\n",
    "\n",
    "    def get_y(self):\n",
    "        return self.__y"
   ]
  },
  {
   "cell_type": "code",
   "execution_count": 62,
   "metadata": {},
   "outputs": [
    {
     "name": "stdout",
     "output_type": "stream",
     "text": [
      "Radius:  3\n",
      "X:  2\n",
      "Y:  5\n",
      "Area:  28\n",
      "Circumference:  19\n"
     ]
    }
   ],
   "source": [
    "Circle = Circle(3, 2, 5)\n",
    "Circle.get_radius\n",
    "print(\"Radius: \", Circle.get_radius())\n",
    "print(\"X: \", Circle.get_x())\n",
    "print(\"Y: \", Circle.get_y())\n",
    "print(\"Area: \", Circle.compute_area())\n",
    "print(\"Circumference: \", Circle.compute_circumference())"
   ]
  },
  {
   "cell_type": "markdown",
   "metadata": {},
   "source": [
    "5. Implement a common base class for the classes implemented in 3 and 4 above which implements all common methods as not implemented functions (virtual). Re-implement your regtangle and circule classes to inherit from the base class and overload the functions accordingly. (10 Points)"
   ]
  },
  {
   "cell_type": "code",
   "execution_count": 63,
   "metadata": {},
   "outputs": [
    {
     "name": "stdout",
     "output_type": "stream",
     "text": [
      "Circle Area: 28\n",
      "Circle Circumference: 19\n",
      "========================================================\n",
      "Rectangle Area: 9\n",
      "Rectangle Perimeter: 12\n"
     ]
    }
   ],
   "source": [
    "class common_base:\n",
    "    # if it is a sub class of common base, we need area implemented.\n",
    "    # Basically, reference the Lecture using INHERITANCE.\n",
    "    # We can try to use super here to call from the commmon base class, that way we don't have to init every variable.\n",
    "    def __init__(self, x=0, y=0):\n",
    "        self.__x=x\n",
    "        self.__y=y\n",
    "#=====================================================================================\n",
    "class Rectangle(common_base):\n",
    "    def __init__(self, length, width, x, y):\n",
    "        super(Rectangle, self).__init__(x, y)\n",
    "        self.__length=length\n",
    "        self.__width=width        \n",
    "\n",
    "    # Computations=========================\n",
    "    def compute_area(self):\n",
    "        return (self.__length * self.__width)\n",
    "\n",
    "    def compute_perimeter(self):\n",
    "        return (2 * (self.__length + self.__width))\n",
    "#=====================================================================================\n",
    "class Circle(common_base):\n",
    "    def __init__(self, radius, x, y):\n",
    "        super(Circle, self).__init__(x, y)\n",
    "        self.__radius=radius\n",
    "    # Computations=========================\n",
    "    def compute_area(self):\n",
    "        # Area = pi* r^2\n",
    "        return round((math.pi)*(self.__radius**2))\n",
    "\n",
    "    def compute_circumference(self):\n",
    "        # Circumference = 2* pi* r\n",
    "        return round(2 * (math.pi) * self.__radius)    \n",
    "\n",
    "# Testing===============================================================================================\n",
    "circle = Circle(radius=3,x=2,y=3)\n",
    "print(\"Circle Area:\", circle.compute_area())\n",
    "print(\"Circle Circumference:\", circle.compute_circumference())\n",
    "print(\"========================================================\")\n",
    "rectangle = Rectangle(length=3,width=3,x=2,y=3)\n",
    "print(\"Rectangle Area:\", rectangle.compute_area())\n",
    "print(\"Rectangle Perimeter:\", rectangle.compute_perimeter())"
   ]
  },
  {
   "cell_type": "markdown",
   "metadata": {},
   "source": [
    "6. Implement a triangle class analogous to the rectangle and circle in question 5.(10 Points)"
   ]
  },
  {
   "cell_type": "code",
   "execution_count": 64,
   "metadata": {},
   "outputs": [
    {
     "name": "stdout",
     "output_type": "stream",
     "text": [
      "Side A: 5\n",
      "Side B: 8\n",
      "Side C: 3\n",
      "Base (also side b): 8\n",
      "Height: 5.5\n",
      "X: 2\n",
      "Y: 3\n",
      "Area: 22.0\n",
      "Perimeter: 16\n"
     ]
    }
   ],
   "source": [
    "class Triangle:\n",
    "    def __init__(self, a,base,c,  height, x, y):\n",
    "        self.__base=base\n",
    "        self.__height=height\n",
    "        self.__x=x\n",
    "        self.__y=y\n",
    "        self.__a=a\n",
    "        self.__b=self.__base\n",
    "        self.__c=c\n",
    "\n",
    "    def compute_area(self):\n",
    "        # Area = .5* base* height\n",
    "        return (.5)*(self.__base)*(self.__height)\n",
    "\n",
    "    def compute_perimeter(self):\n",
    "        return (self.__a + self.__b + self.__c)\n",
    "\n",
    "    # Accessors to seperate computations =======================================================================\n",
    "    def get_base(self):\n",
    "        return self.__base\n",
    "    def get_height(self):\n",
    "        return self.__height\n",
    "    def get_a(self):\n",
    "        return self.__a\n",
    "    def get_b(self):\n",
    "        return self.__b\n",
    "    def get_c(self):\n",
    "        return self.__c\n",
    "    def get_x_coor(self):\n",
    "        return self.__x\n",
    "    def get_y_coor(self):\n",
    "        return self.__y\n",
    "\"\"\"\n",
    "Thinking of making a dictionary \n",
    "to hold values and then use .items()\n",
    "or something similar inside the function arguement.\n",
    "\"\"\"\n",
    "Triangle = Triangle(a=5, base=8, c=3, height=5.5, x=2, y=3)\n",
    "print(\"Side A:\",Triangle.get_a())\n",
    "print(\"Side B:\",Triangle.get_b())\n",
    "print(\"Side C:\",Triangle.get_c())\n",
    "print(\"Base (also side b):\",Triangle.get_base())\n",
    "print(\"Height:\",Triangle.get_height())\n",
    "print(\"X:\",Triangle.get_x_coor())\n",
    "print(\"Y:\",Triangle.get_y_coor())\n",
    "print(\"Area:\",Triangle.compute_area())\n",
    "print(\"Perimeter:\",Triangle.compute_perimeter())"
   ]
  },
  {
   "cell_type": "markdown",
   "metadata": {},
   "source": [
    "7. Add a function to the object classes, including the base, that returns a list of up to 16 pairs of  $x$ and $y$ points on the perimeter of the object. (10 Points)"
   ]
  },
  {
   "cell_type": "code",
   "execution_count": 66,
   "metadata": {},
   "outputs": [
    {
     "name": "stdout",
     "output_type": "stream",
     "text": [
      "Circle Area: 28\n",
      "Circle Circumference: 19\n",
      "========================================================\n",
      "Rectangle Area: 9\n",
      "Rectangle Perimeter: 12\n",
      "========================================================\n",
      "Triangle Area: 128.0\n",
      "Triangle Perimeter: 21\n",
      "Triangle Points: [(8, 0), (1, 3), (5, 7), (11, 10), (9, 1), (5, 11), (13, 4), (2, 6), (11, 14), (7, 4), (11, 16), (11, 0), (5, 5), (8, 12), (1, 1), (4, 13)]\n"
     ]
    }
   ],
   "source": [
    "# Basically, we update the cell in question 6 with additional functionality to return 16 (x,y) points along the perimeter of the shapes.\n",
    "# Also, we added the triangle class in this cell to include all shapes.\n",
    "# We have to import random for this one\n",
    "import random as rand\n",
    "class common_base:\n",
    "    # if it is a sub class of common base, we need area implemented.\n",
    "    # Basically, reference the Lecture using INHERITANCE.\n",
    "    # We can try to use super here to call from the commmon base class, that way we don't have to init every variable.\n",
    "    def __init__(self, x=0, y=0):\n",
    "        self.__x=x\n",
    "        self.__y=y\n",
    "\n",
    "    def compute_area(self): pass\n",
    "#=====================================================================================\n",
    "class Rectangle(common_base):\n",
    "    def __init__(self, length, width, x, y):\n",
    "        super(Rectangle, self).__init__(x, y)\n",
    "        self.__length=length\n",
    "        self.__width=width        \n",
    "\n",
    "# Computations =========================\n",
    "    def compute_area(self):\n",
    "        self.__area = (self.__length * self.__width)\n",
    "        return self.__area\n",
    "\n",
    "    def compute_perimeter(self):\n",
    "        self.__perimeter = (2 * (self.__length + self.__width))\n",
    "        return self.__perimeter\n",
    "\n",
    "# Points along the perimeter =================================================\n",
    "    def gather_points(self, limit=16):\n",
    "        # Note that base and height are the Domain and Range limits!\n",
    "        # eg) D in the set of [0,base]\n",
    "        # eg) R in the set of [0,height]\n",
    "        self.__limit=limit\n",
    "        self.__point_list=list()\n",
    "        \n",
    "        # This should get a random point in the Domain and Range intervals.\n",
    "        while len(self.__point_list) < self.__limit:\n",
    "            point=(rand.randint(0, self.__base), rand.randint(0, self.__height))\n",
    "            if point not in self._point_list:\n",
    "                self.__point_list.append(point)\n",
    "        return self.__point_list\n",
    "#=====================================================================================\n",
    "class Circle(common_base):\n",
    "    def __init__(self, radius, x, y):\n",
    "        super(Circle, self).__init__(x, y)\n",
    "        self.__radius=radius\n",
    "        \n",
    "# Computations =========================\n",
    "    def compute_area(self):\n",
    "        # Area = pi* r^2\n",
    "        self.__area = round((math.pi)*(self.__radius**2))\n",
    "        return self.__area\n",
    "\n",
    "    def compute_circumference(self):\n",
    "        # Circumference = 2* pi* r\n",
    "        self.__circumference = round(2 * (math.pi) * self.__radius)\n",
    "        return self.__circumference   \n",
    "        \n",
    "# Points along the perimeter =================================================\n",
    "    def gather_points(self, limit=16):\n",
    "        # Note that base and height are the Domain and Range limits!\n",
    "        # eg) D in the set of [0,base]\n",
    "        # eg) R in the set of [0,height]\n",
    "        self.__limit=limit\n",
    "        self.__point_list=list()\n",
    "        \n",
    "        # This should get a random point in the Domain and Range intervals.\n",
    "        while len(self.__point_list) < self.__limit:\n",
    "            point=(rand.randint(0, self.__base), rand.randint(0, self.__height))\n",
    "            if point not in self.__point_list:\n",
    "                self.__point_list.append(point)\n",
    "        return self.__point_list\n",
    "#=====================================================================================\n",
    "class Triangle(common_base):\n",
    "    def __init__(self, a,base,c, height, x, y):\n",
    "        super(Triangle, self).__init__(x, y)\n",
    "        self.__base=base\n",
    "        self.__height=height\n",
    "        self.__a=a\n",
    "        self.__b=self.__base\n",
    "        self.__c=c\n",
    "\n",
    "# Computations =========================\n",
    "    def compute_area(self):\n",
    "        # Area = .5* base* height\n",
    "        self.__area=(.5)*(self.__base)*(self.__height)\n",
    "        return self.__area\n",
    "\n",
    "    def compute_perimeter(self):\n",
    "        self.__perimeter = (self.__a + self.__b + self.__c)\n",
    "        return self.__perimeter\n",
    "\n",
    "# Points along the perimeter =================================================\n",
    "    def gather_points(self, limit=16):\n",
    "        # Note that base and height are the Domain and Range limits!\n",
    "        # eg) D in the set of [0,base]\n",
    "        # eg) R in the set of [0,height]\n",
    "        self.__limit=limit\n",
    "        self.__point_list=list()\n",
    "        \n",
    "        # This should get a random point in the Domain and Range intervals.\n",
    "        while len(self.__point_list) < self.__limit:\n",
    "            point=(rand.randint(0, self.__base), rand.randint(0, self.__height))\n",
    "            if point not in self.__point_list:\n",
    "                self.__point_list.append(point)\n",
    "        return self.__point_list\n",
    "            \n",
    "        \n",
    "#=====================================================================================\n",
    "# Question goal to make a function that maps points along the perimeter of the shapes:    \n",
    "        \n",
    "# ===========================================================================================================\n",
    "# Testing func ==============================================================================================\n",
    "def testing():\n",
    "    circle = Circle(radius=3,x=2,y=3)\n",
    "    print(\"Circle Area:\", circle.compute_area())\n",
    "    print(\"Circle Circumference:\", circle.compute_circumference())\n",
    "    print(\"========================================================\")\n",
    "    rectangle = Rectangle(length=3,width=3,x=2,y=3)\n",
    "    print(\"Rectangle Area:\", rectangle.compute_area())\n",
    "    print(\"Rectangle Perimeter:\", rectangle.compute_perimeter())\n",
    "    print(\"========================================================\")\n",
    "    triangle = Triangle(a=2, base=16, c=3, height=16, x=16, y=16)\n",
    "    print(\"Triangle Area:\", triangle.compute_area())\n",
    "    print(\"Triangle Perimeter:\", triangle.compute_perimeter())\n",
    "    print(\"Triangle Points:\", triangle.gather_points())\n",
    "    \n",
    "testing()\n",
    "# Testing func =============================================================================================="
   ]
  },
  {
   "cell_type": "markdown",
   "metadata": {},
   "source": [
    "8. Add a function to the object classes, including the base, that tests if a given set of $x$ and $y$ coordinates are inside of the object. You'll have to think through how to determine if a set of coordinates are inside an object for each object type. (10 Points)"
   ]
  },
  {
   "cell_type": "code",
   "execution_count": null,
   "metadata": {},
   "outputs": [],
   "source": []
  },
  {
   "cell_type": "markdown",
   "metadata": {},
   "source": [
    "9. Add a function in the base class of the object classes that returns true/false testing that the object overlaps with another object. (10 Points)"
   ]
  },
  {
   "cell_type": "code",
   "execution_count": null,
   "metadata": {},
   "outputs": [],
   "source": []
  },
  {
   "cell_type": "markdown",
   "metadata": {},
   "source": [
    "10. Use the `Canvas` class from lecture to creating a `paint` module. Copy your classes from above into the module and implement paint functions. Implement a `CompoundShape` class. Create a simple drawing demonstrating that all of your classes are working. (10 Points)"
   ]
  },
  {
   "cell_type": "code",
   "execution_count": null,
   "metadata": {},
   "outputs": [],
   "source": [
    "class Canvas:\n",
    "    def __init__(self, width, height):\n",
    "        self.width = width\n",
    "        self.height = height\n",
    "        # Empty canvas is a matrix with element being the \"space\" character\n",
    "        self.data = [[' '] * width for i in range(height)]\n",
    "\n",
    "    def set_pixel(self, row, col, char='*'):\n",
    "        self.data[row][col] = char\n",
    "\n",
    "    def get_pixel(self, row, col):\n",
    "        return self.data[row][col]\n",
    "\n",
    "    def clear_canvas(self):\n",
    "        self.data = [[' '] * self.width for i in range(self.height)]\n",
    "\n",
    "    def v_line(self, x, y, w, **kargs):\n",
    "        for i in range(x,x+w):\n",
    "            self.set_pixel(i,y, **kargs)\n",
    "\n",
    "    def h_line(self, x, y, h, **kargs):\n",
    "        for i in range(y,y+h):\n",
    "            self.set_pixel(x,i, **kargs)\n",
    "\n",
    "    def line(self, x1, y1, x2, y2, **kargs):\n",
    "        slope = (y2-y1) / (x2-x1)\n",
    "        for y in range(y1,y2):\n",
    "            x= int(slope * y)\n",
    "            self.set_pixel(x,y, **kargs)\n",
    "\n",
    "    def display(self):\n",
    "        print(\"\\n\".join([\"\".join(row) for row in self.data]))"
   ]
  },
  {
   "cell_type": "markdown",
   "metadata": {},
   "source": [
    "11. Create a `RasterDrawing` class. Demonstrate that you can create a drawing made of several shapes, paint the drawing, modify the drawing, and paint it again. (10 Points)"
   ]
  },
  {
   "cell_type": "markdown",
   "metadata": {},
   "source": [
    "12. Implement the ability to load/save raster drawings and demonstate that your method works. One way to implement this ability:(20 Points)\n",
    "\n",
    "   * Overload `__repr__` functions of all objects to return strings of the python code that would construct the object.\n",
    "   \n",
    "   * In the save method of raster drawing class, store the representations into the file.\n",
    "   * Write a loader function that reads the file and uses `eval` to instantiate the object.\n",
    "\n",
    "For example:"
   ]
  },
  {
   "cell_type": "code",
   "execution_count": 1,
   "metadata": {},
   "outputs": [],
   "source": [
    "class foo:\n",
    "    def __init__(self,a,b=None):\n",
    "        self.a=a\n",
    "        self.b=b\n",
    "        \n",
    "    def __repr__(self):\n",
    "        return \"foo(\"+repr(self.a)+\",\"+repr(self.b)+\")\"\n",
    "    \n",
    "    def save(self,filename):\n",
    "        f=open(filename,\"w\")\n",
    "        f.write(self.__repr__())\n",
    "        f.close()\n",
    "        \n",
    "   \n",
    "def foo_loader(filename):\n",
    "    f=open(filename,\"r\")\n",
    "    tmp=eval(f.read())\n",
    "    f.close()\n",
    "    return tmp\n"
   ]
  },
  {
   "cell_type": "code",
   "execution_count": 2,
   "metadata": {},
   "outputs": [
    {
     "name": "stdout",
     "output_type": "stream",
     "text": [
      "foo(1,'hello')\n"
     ]
    }
   ],
   "source": [
    "# Test\n",
    "print(repr(foo(1,\"hello\")))"
   ]
  },
  {
   "cell_type": "code",
   "execution_count": 3,
   "metadata": {},
   "outputs": [],
   "source": [
    "# Create an object and save it\n",
    "ff=foo(1,\"hello\")\n",
    "ff.save(\"Test.foo\")"
   ]
  },
  {
   "cell_type": "code",
   "execution_count": 4,
   "metadata": {},
   "outputs": [
    {
     "name": "stdout",
     "output_type": "stream",
     "text": [
      "foo(1,'hello')"
     ]
    }
   ],
   "source": [
    "# Check contents of the saved file\n",
    "!cat Test.foo"
   ]
  },
  {
   "cell_type": "code",
   "execution_count": 5,
   "metadata": {},
   "outputs": [
    {
     "data": {
      "text/plain": [
       "foo(1,'hello')"
      ]
     },
     "execution_count": 5,
     "metadata": {},
     "output_type": "execute_result"
    }
   ],
   "source": [
    "# Load the object\n",
    "ff_reloaded=foo_loader(\"Test.foo\")\n",
    "ff_reloaded"
   ]
  },
  {
   "cell_type": "code",
   "execution_count": null,
   "metadata": {},
   "outputs": [],
   "source": []
  },
  {
   "cell_type": "code",
   "execution_count": null,
   "metadata": {},
   "outputs": [],
   "source": []
  }
 ],
 "metadata": {
  "kernelspec": {
   "display_name": "Python 3 (ipykernel)",
   "language": "python",
   "name": "python3"
  },
  "language_info": {
   "codemirror_mode": {
    "name": "ipython",
    "version": 3
   },
   "file_extension": ".py",
   "mimetype": "text/x-python",
   "name": "python",
   "nbconvert_exporter": "python",
   "pygments_lexer": "ipython3",
   "version": "3.10.12"
  }
 },
 "nbformat": 4,
 "nbformat_minor": 4
}
