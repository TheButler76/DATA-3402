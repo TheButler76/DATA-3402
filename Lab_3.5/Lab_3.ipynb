{
 "cells": [
  {
   "cell_type": "markdown",
   "metadata": {
    "id": "2nLFmHFKoXHs"
   },
   "source": [
    "# Lab 3-Matrix Representation\n",
    "Matrix Representation: In this lab you will be creating a simple linear algebra system. In memory, we will represent matrices as nested python lists as we have done in lecture. In the exercises below, you are required to explicitly test every feature you implement, demonstrating it works.\n",
    "\n",
    "# **Assignment Submission Guidelines**\n",
    "\n",
    "\n",
    "Please follow the guidelines below for submitting your assignment:\n",
    "\n",
    "1. **Submission Deadline:**\n",
    "   - All assignments must be submitted **no later than 11:59 PM Next Monday (10/13) Midnight**.\n",
    "   - Late submissions will not be accepted unless prior arrangements have been made by the instructor.\n",
    "\n",
    "2. **Submission Platform:**\n",
    "   - Submit your assignment through **Canvas**. Ensure that you upload the files to the correct assignment link.\n",
    "\n",
    "3. **Required Files:**\n",
    "   - **Jupyter Notebook file (.ipynb):** Submit the Jupyter Notebook file you used to complete the assignment. The file should contain your well-commented code.\n",
    "   - **PDF Version (.pdf file):** Additionally, submit a PDF version of your Python code. This can be a printout or export of your script, showing all the code with any necessary explanations or output results included.\n",
    "\n",
    "4. **File Naming Convention:**\n",
    "   - Please name your files as follows: `Lastname_Firstname_AssignmentName`\n",
    "   - Example: `Alex_John_Lab3.ipynb` and `Alex_Johb_Lab3.pdf`\n",
    "\n",
    "5. **Technical Issues:**\n",
    "   - If you encounter any technical issues with Canvas or your submission, please contact the TAs immediately **before the deadline** to avoid penalties."
   ]
  },
  {
   "cell_type": "markdown",
   "metadata": {
    "id": "BDwG3nTgoXHu"
   },
   "source": [
    "\n",
    "1. Create a `matrix` class with the following properties:\n",
    "    * It can be initialized in 2 ways:\n",
    "        1. with arguments `n` and `m`, the size of the matrix. A newly instanciated matrix will contain all zeros.\n",
    "        2. with a list of lists of values. Note that since we are using lists of lists to implement matrices, it is possible that not all rows have the same number of columns. Test explicitly that the matrix is properly specified.\n",
    "    * Matrix instances `M` can be indexed with `M[i][j]` and `M[i,j]`.\n",
    "    * Matrix assignment works in 2 ways:\n",
    "        1. If `M_1` and `M_2` are `matrix` instances `M_1=M_2` sets the values of `M_1` to those of `M_2`, if they are the same size. Error otherwise.\n",
    "        2. In example above `M_2` can be a list of lists of correct size.\n"
   ]
  },
  {
   "cell_type": "code",
   "execution_count": 62,
   "metadata": {},
   "outputs": [],
   "source": [
    "class matrix:\n",
    "    # kwargs are use here to make the code a bit simpler.\n",
    "    def __init__(self, **kwargs):\n",
    "        if \"values\" in kwargs:\n",
    "            matrix = kwargs[\"values\"]\n",
    "            # checks if matrix is a list.\n",
    "            if isinstance(matrix, list):\n",
    "                if not all(len(row) == len(matrix[0]) for row in matrix):\n",
    "                    raise ValueError(\"All rows must have the same number of columns.\")\n",
    "                self.m = len(matrix)\n",
    "                self.n = len(matrix[0])\n",
    "                self.matrix = [row[:] for row in matrix]\n",
    "            # checks if matrix is a tuple.\n",
    "            elif isinstance(matrix, tuple):\n",
    "                self.m, self.n = matrix\n",
    "                self.matrix = [[0 for _ in range(self.n)] for _ in range(self.m)]\n",
    "            # checks if kwargs are explicit dimensions.\n",
    "        elif \"n\" in kwargs and \"m\" in kwargs:\n",
    "            self.m = kwargs[\"n\"]\n",
    "            self.n = kwargs[\"m\"]\n",
    "            self.matrix = [[0 for _ in range(self.n)] for _ in range(self.m)]\n",
    "        else:\n",
    "            raise ValueError(\"Missing init. Use values=[[...]], values=(,), or n=..., m=...\")\n",
    "\n",
    "    def __getitem__(self, index):\n",
    "        if isinstance(index, tuple):\n",
    "            i, j = index\n",
    "            return self.matrix[i][j]\n",
    "        return self.matrix[index]\n",
    "\n",
    "    def __str__(self):\n",
    "        return '\\n'.join(str(row) for row in self.matrix)"
   ]
  },
  {
   "cell_type": "code",
   "execution_count": 63,
   "metadata": {},
   "outputs": [
    {
     "name": "stdout",
     "output_type": "stream",
     "text": [
      "M1:\n",
      " [0, 0]\n",
      "[0, 0]\n",
      "[0, 0]\n",
      "\n",
      "M2:\n",
      " [1, 2]\n",
      "[3, 4]\n",
      "\n",
      "M3:\n",
      " [0, 0]\n",
      "[0, 0]\n",
      "[0, 0]\n"
     ]
    }
   ],
   "source": [
    "M1 = matrix(n=3, m=2)\n",
    "M2 = matrix(values=[[1,2],[3,4]])\n",
    "M3 = matrix(values=(3,2))\n",
    "\n",
    "print(\"M1:\\n\", M1)\n",
    "print()\n",
    "print(\"M2:\\n\", M2)\n",
    "print()\n",
    "print(\"M3:\\n\", M3)"
   ]
  },
  {
   "cell_type": "markdown",
   "metadata": {
    "id": "y-KlKjdfoXHu"
   },
   "source": [
    "2. Add the following methods:\n",
    "    * `shape()`: returns a tuple `(n,m)` of the shape of the matrix.\n",
    "    * `transpose()`: returns a new matrix instance which is the transpose of the matrix.\n",
    "    * `row(n)` and `column(n)`: that return the nth row or column of the matrix M as a new appropriately shaped matrix object.\n",
    "    * `to_list()`: which returns the matrix as a list of lists.\n",
    "    *  `block(n_0,n_1,m_0,m_1)` that returns a smaller matrix located at the n_0 to n_1 columns and m_0 to m_1 rows.\n",
    "    * (Extra credit) Modify `__getitem__` implemented above to support slicing.\n",
    "        "
   ]
  },
  {
   "cell_type": "code",
   "execution_count": 64,
   "metadata": {},
   "outputs": [
    {
     "name": "stdout",
     "output_type": "stream",
     "text": [
      "M1:\n",
      " [1, 2]\n",
      "[3, 4]\n",
      "Shape:  (2, 2)\n",
      "Transposed:\n",
      "  [1, 3]\n",
      "[2, 4]\n",
      "Selected Row:\n",
      " [3, 4]\n",
      "Selected Col:\n",
      " [2]\n",
      "[4]\n",
      "Converted to list-of-lists:  [[1, 2], [3, 4]]\n",
      "Block:\n",
      " [4]\n"
     ]
    }
   ],
   "source": [
    "class matrix:\n",
    "    # kwargs are use here to make the code a bit simpler.\n",
    "    def __init__(self, **kwargs):\n",
    "        if \"values\" in kwargs:\n",
    "            matrix = kwargs[\"values\"]\n",
    "            # checks if matrix is a list.\n",
    "            if isinstance(matrix, list):\n",
    "                #if not all(len(row) == len(matrix[0]) for row in matrix):\n",
    "                #    raise ValueError(\"All rows must have the same number of columns.\")\n",
    "                self.m = len(matrix)\n",
    "                self.n = len(matrix[0])\n",
    "                self.matrix = [row[:] for row in matrix]\n",
    "            # checks if matrix is a tuple.\n",
    "            elif isinstance(matrix, tuple):\n",
    "                self.m, self.n = matrix\n",
    "                self.matrix = [[0 for _ in range(self.n)] for _ in range(self.m)]\n",
    "            # checks if kwargs are explicit dimensions.\n",
    "        elif \"n\" in kwargs and \"m\" in kwargs:\n",
    "            self.m = kwargs[\"n\"]\n",
    "            self.n = kwargs[\"m\"]\n",
    "            self.matrix = [[0 for _ in range(self.n)] for _ in range(self.m)]\n",
    "        else:\n",
    "            raise ValueError(\"Missing init. Use values=[[...]], values=(,), or n=..., m=...\")\n",
    "\n",
    "    def __getitem__(self, index):\n",
    "        if isinstance(index, tuple):\n",
    "            i, j = index\n",
    "            return self.matrix[i][j]\n",
    "        return self.matrix[index]\n",
    "\n",
    "    def __str__(self):\n",
    "        return '\\n'.join(str(row) for row in self.matrix)\n",
    "\n",
    "    ## Part 2 =======================================================================================\n",
    "    def shape(self):\n",
    "        # returns a tuple, (n,m) to describe the shape of the matrix.\n",
    "        return tuple([len(self.matrix), len(self.matrix[0])])\n",
    "\n",
    "    def transpose(self): # returns a new matrix that has been transposed.\n",
    "        trans=list()\n",
    "        for j in range(self.n):\n",
    "            row=list()\n",
    "            for i in range(self.m):\n",
    "                row.append(self.matrix[i][j])\n",
    "            trans.append(row)\n",
    "        return matrix(values=trans)\n",
    "    \n",
    "    def row(self, nth):\n",
    "        # if the matrix is transposed, we need to use the same logic but for transposed.\n",
    "        return matrix(values=[self.matrix[nth]])\n",
    "    def col(self, nth):\n",
    "        # if the matrix is transposed, we need to use the same logic but for transposed.\n",
    "        return matrix(values=[[row[nth]] for row in self.matrix])\n",
    "    \n",
    "    def to_list(self): # returns the matrix as a list of lists.\n",
    "        return [row[:] for row in self.matrix]\n",
    "    \n",
    "    def block(self, n_0, n_1, m_0, m_1):\n",
    "        block = [\n",
    "            self.matrix[i][m_0:m_1] for i in range(n_0, n_1)\n",
    "        ]\n",
    "        return matrix(values=block)\n",
    "        # returns a smaller matrix staring at n_0,m_0 and ending at n_1,n_2.\n",
    "\n",
    "M1 = matrix(n=3, m=2)\n",
    "M2 = matrix(values=[[1,2],[3,4]])\n",
    "M3 = matrix(values=(3,2))\n",
    "\n",
    "print(\"M1:\\n\", M2)\n",
    "print(\"Shape: \", M2.shape())\n",
    "print(\"Transposed:\\n \", M2.transpose())\n",
    "print(\"Selected Row:\\n\", M2.row(1))\n",
    "print(\"Selected Col:\\n\", M2.col(1))\n",
    "print(\"Converted to list-of-lists: \", M2.to_list())\n",
    "print(\"Block:\\n\", M2.block(1, 2, 1, 2))\n",
    "#print()\n",
    "#print(\"M2:\\n\", M2)\n",
    "#print()\n",
    "#print(\"M3:\\n\", M3)"
   ]
  },
  {
   "cell_type": "markdown",
   "metadata": {
    "id": "pI6PcDUsoXHu"
   },
   "source": [
    "3. Write functions that create special matrices (note these are standalone functions, not member functions of your `matrix` class):\n",
    "    * `constant(n,m,c)`: returns a `n` by `m` matrix filled with floats of value `c`.\n",
    "    * `zeros(n,m)` and `ones(n,m)`: return `n` by `m` matrices filled with floats of value `0` and `1`, respectively.\n",
    "    * `eye(n)`: returns the n by n identity matrix."
   ]
  },
  {
   "cell_type": "code",
   "execution_count": null,
   "metadata": {
    "id": "24xZyDzjoadQ"
   },
   "outputs": [],
   "source": []
  },
  {
   "cell_type": "markdown",
   "metadata": {
    "id": "FERpFNb1oXHu"
   },
   "source": [
    "4. Add the following member functions to your class. Make sure to appropriately test the dimensions of the matrices to make sure the operations are correct.\n",
    "    * `M.scalarmul(c)`: a matrix that is scalar product $cM$, where every element of $M$ is multiplied by $c$.\n",
    "    * `M.add(N)`: adds two matrices $M$ and $N$. Don’t forget to test that the sizes of the matrices are compatible for this and all other operations.\n",
    "    * `M.sub(N)`: subtracts two matrices $M$ and $N$.\n",
    "    * `M.mat_mult(N)`: returns a matrix that is the matrix product of two matrices $M$ and $N$.\n",
    "    * `M.element_mult(N)`: returns a matrix that is the element-wise product of two matrices $M$ and $N$.\n",
    "    * `M.equals(N)`: returns true/false if $M==N$."
   ]
  },
  {
   "cell_type": "code",
   "execution_count": null,
   "metadata": {
    "id": "n6TMzi3MobSw"
   },
   "outputs": [],
   "source": []
  },
  {
   "cell_type": "markdown",
   "metadata": {
    "id": "Lh5qZ5tBoXHu"
   },
   "source": [
    "5. Overload python operators to appropriately use your functions in 4 and allow expressions like:\n",
    "    * 2*M\n",
    "    * M*2\n",
    "    * M+N\n",
    "    * M-N\n",
    "    * M*N\n",
    "    * M==N\n",
    "    * M=N\n"
   ]
  },
  {
   "cell_type": "code",
   "execution_count": null,
   "metadata": {
    "id": "-RVoHM2yocCw"
   },
   "outputs": [],
   "source": []
  },
  {
   "cell_type": "markdown",
   "metadata": {
    "id": "RQi_XwCGoXHv"
   },
   "source": [
    "6. Demonstrate the basic properties of matrices with your matrix class by creating two 2 by 2 example matrices using your Matrix class and illustrating the following:\n",
    "\n",
    "$$\n",
    "(AB)C=A(BC)\n",
    "$$\n",
    "$$\n",
    "A(B+C)=AB+AC\n",
    "$$\n",
    "$$\n",
    "AB\\neq BA\n",
    "$$\n",
    "$$\n",
    "AI=A\n",
    "$$"
   ]
  },
  {
   "cell_type": "code",
   "execution_count": null,
   "metadata": {
    "id": "8rvS3A9Lod-p"
   },
   "outputs": [],
   "source": []
  }
 ],
 "metadata": {
  "colab": {
   "provenance": []
  },
  "kernelspec": {
   "display_name": "Python 3 (ipykernel)",
   "language": "python",
   "name": "python3"
  },
  "language_info": {
   "codemirror_mode": {
    "name": "ipython",
    "version": 3
   },
   "file_extension": ".py",
   "mimetype": "text/x-python",
   "name": "python",
   "nbconvert_exporter": "python",
   "pygments_lexer": "ipython3",
   "version": "3.10.12"
  }
 },
 "nbformat": 4,
 "nbformat_minor": 4
}
