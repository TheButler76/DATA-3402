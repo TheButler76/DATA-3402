{
 "cells": [
  {
   "cell_type": "code",
   "execution_count": 5,
   "id": "aa9c2fdc-cde7-49dd-9a97-6a9294d3a413",
   "metadata": {},
   "outputs": [],
   "source": [
    "# Variables represent spaces on the checker board.\n",
    "empty=0\n",
    "## game board size\n",
    "size=8\n",
    "\n",
    "# Chess Piece dictionary. \n",
    "# Here, the chess pieces are ordered in the orientation of a chess board.\n",
    "# In other words, the order of this dictionary is important because it makes looping easy.\n",
    "Pieces = { \n",
    "    \"White\": [\"WP\", \"WR\", \"WN\", \"WB\", \"WQ\", \"WK\"],\n",
    "    \"Black\": [\"BP\", \"BR\", \"BN\", \"BB\", \"BQ\", \"BK\"]\n",
    "}"
   ]
  },
  {
   "cell_type": "code",
   "execution_count": 6,
   "id": "13a8e5d9-028f-45fe-9b9d-86502202d616",
   "metadata": {},
   "outputs": [
    {
     "data": {
      "text/plain": [
       "[['BR', 'BN', 'BB', 'BQ', 'BK', 'BB', 'BN', 'BR'],\n",
       " ['BP', 'BP', 'BP', 'BP', 'BP', 'BP', 'BP', 'BP'],\n",
       " [0, 0, 0, 0, 0, 0, 0, 0],\n",
       " [0, 0, 0, 0, 0, 0, 0, 0],\n",
       " [0, 0, 0, 0, 0, 0, 0, 0],\n",
       " [0, 0, 0, 0, 0, 0, 0, 0],\n",
       " ['WP', 'WP', 'WP', 'WP', 'WP', 'WP', 'WP', 'WP'],\n",
       " ['WR', 'WN', 'WB', 'WQ', 'WK', 'WB', 'WN', 'WR']]"
      ]
     },
     "execution_count": 6,
     "metadata": {},
     "output_type": "execute_result"
    }
   ],
   "source": [
    "def create_board(size):\n",
    "    # Creates an empty 8x8 board\n",
    "    board=[[empty]*size for i in range(size)]\n",
    "\n",
    "    # Loops through the dict and appends chess pieces to their place on the 8x8 board.\n",
    "    for color in Pieces.keys():\n",
    "        if color == \"Black\":\n",
    "            # Sets Pawns in place.\n",
    "            board[1]=[Pieces[color][0] for i in range(size)]\n",
    "    \n",
    "            # Sets other chess pieces in place.\n",
    "            board[0][0:8:7]=[Pieces[color][1] for i in range(2)]\n",
    "            board[0][1:7:5]=[Pieces[color][2] for i in range(2)]\n",
    "            board[0][2:6:3]=[Pieces[color][3] for i in range(2)]\n",
    "            board[0][3]=Pieces[color][4]\n",
    "            board[0][4]=Pieces[color][5]\n",
    "            \n",
    "        if color == \"White\":\n",
    "            # Sets Pawns in place.\n",
    "            board[-2]=[Pieces[color][0] for i in range(size)]\n",
    "            \n",
    "            # Sets other chess pieces in place.\n",
    "            board[7][0:8:7]=[Pieces[color][1] for i in range(2)]\n",
    "            board[7][1:7:5]=[Pieces[color][2] for i in range(2)]\n",
    "            board[7][2:6:3]=[Pieces[color][3] for i in range(2)]\n",
    "            board[7][3]=Pieces[color][4]\n",
    "            board[7][4]=Pieces[color][5]\n",
    "    return board\n",
    "create_board(size)"
   ]
  },
  {
   "cell_type": "code",
   "execution_count": 9,
   "id": "2b52acd9-e919-4ed2-97cc-3d06d4fa02ce",
   "metadata": {},
   "outputs": [
    {
     "data": {
      "text/plain": [
       "[['BR', 'BN', 'BB', 'BQ', 'BK', 'BB', 'BN', 'BR'],\n",
       " ['BP', 'BP', 'BP', 'BP', 'BP', 'BP', 'BP', 'BP'],\n",
       " [0, 0, 0, 0, 0, 0, 0, 0],\n",
       " [0, 0, 0, 0, 0, 0, 0, 0],\n",
       " [0, 0, 0, 0, 0, 0, 0, 0],\n",
       " [0, 0, 0, 0, 0, 0, 0, 0],\n",
       " ['WP', 'WP', 'WP', 'WP', 'WP', 'WP', 'WP', 'WP'],\n",
       " ['WR', 'WN', 'WB', 'WQ', 'WK', 'WB', 'WN', 'WR']]"
      ]
     },
     "execution_count": 9,
     "metadata": {},
     "output_type": "execute_result"
    }
   ],
   "source": [
    "board=create_board(size)\n",
    "board"
   ]
  },
  {
   "cell_type": "code",
   "execution_count": 13,
   "id": "47d73c83-c3df-4845-996f-63f9ee6f5b7b",
   "metadata": {},
   "outputs": [
    {
     "name": "stdout",
     "output_type": "stream",
     "text": [
      "To move one space up:  (1, 0)\n",
      "To move two spaces up: (2, 0)\n"
     ]
    }
   ],
   "source": [
    "# (y,x)\n",
    "one=1\n",
    "two=2\n",
    "\n",
    "pon_move_one = (1,0)\n",
    "pon_move_two = (2,0)\n",
    "\n",
    "pon_moves = {\n",
    "    one:pon_move_one,\n",
    "    two:pon_move_two\n",
    "}\n",
    "\n",
    "for key in pon_moves:\n",
    "    if key==one:\n",
    "        print(\"To move one space up: \", pon_moves[key])\n",
    "\n",
    "    if key==two:\n",
    "        print(\"To move two spaces up:\", pon_moves[key])"
   ]
  },
  {
   "cell_type": "code",
   "execution_count": 27,
   "id": "29d42455-a91b-4cdb-a2b2-23e85c064d46",
   "metadata": {
    "jupyter": {
     "source_hidden": true
    }
   },
   "outputs": [],
   "source": [
    "def move_set(board, Pieces, pon_moves, player_move):\n",
    "\n",
    "    # Check the position of the chessboard, for the move\n",
    "    if pon_moves[player_move]:\n",
    "        # clear the space that held the pon\n",
    "        board[6][0]=empty\n",
    "\n",
    "        # move the pon forward\n",
    "        board[5][0]=Pieces[\"White\"][0]\n",
    "        "
   ]
  },
  {
   "cell_type": "code",
   "execution_count": 28,
   "id": "1acaa451-1f74-4c8f-8725-d4ce1c92a66d",
   "metadata": {
    "collapsed": true,
    "jupyter": {
     "outputs_hidden": true
    }
   },
   "outputs": [
    {
     "data": {
      "text/plain": [
       "[['BR', 'BN', 'BB', 'BQ', 'BK', 'BB', 'BN', 'BR'],\n",
       " ['BP', 'BP', 'BP', 'BP', 'BP', 'BP', 'BP', 'BP'],\n",
       " [0, 0, 0, 0, 0, 0, 0, 0],\n",
       " [0, 0, 0, 0, 0, 0, 0, 0],\n",
       " [0, 0, 0, 0, 0, 0, 0, 0],\n",
       " ['WP', 0, 0, 0, 0, 0, 0, 0],\n",
       " [0, 'WP', 'WP', 'WP', 'WP', 'WP', 'WP', 'WP'],\n",
       " ['WP', 'WN', 'WB', 'WQ', 'WK', 'WB', 'WN', 'WR']]"
      ]
     },
     "execution_count": 28,
     "metadata": {},
     "output_type": "execute_result"
    }
   ],
   "source": [
    "move_set(board, Pieces, pon_moves, one)\n",
    "board"
   ]
  },
  {
   "cell_type": "code",
   "execution_count": null,
   "id": "23de8bfd-f4d2-429b-8a30-8b8315c82d6a",
   "metadata": {},
   "outputs": [],
   "source": []
  }
 ],
 "metadata": {
  "kernelspec": {
   "display_name": "Python 3 (ipykernel)",
   "language": "python",
   "name": "python3"
  },
  "language_info": {
   "codemirror_mode": {
    "name": "ipython",
    "version": 3
   },
   "file_extension": ".py",
   "mimetype": "text/x-python",
   "name": "python",
   "nbconvert_exporter": "python",
   "pygments_lexer": "ipython3",
   "version": "3.10.12"
  }
 },
 "nbformat": 4,
 "nbformat_minor": 5
}
