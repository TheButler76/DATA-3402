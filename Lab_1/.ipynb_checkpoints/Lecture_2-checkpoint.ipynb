{
 "cells": [
  {
   "cell_type": "markdown",
   "id": "6574eb66",
   "metadata": {},
   "source": [
    "##### Notes, etc."
   ]
  },
  {
   "cell_type": "markdown",
   "id": "c49e2488",
   "metadata": {},
   "source": [
    ">##### Represent checker board pieces in memory, and then write a function to create a game board with the pieces in the starting position. Function.\n",
    ">##### Build a 8x8 board, top pieces start from the 1th element, the botthom starts from the 0th element. Each are spaced by one element, and there are three rows for each. There should be two empty rows in the middle. This is a function.\n",
    ">##### Pieces may only move ones space diagonally. This is a function.\n",
    ">##### Define conventions to move pieces in a human freindly way."
   ]
  },
  {
   "cell_type": "code",
   "execution_count": 2,
   "id": "c18745d0",
   "metadata": {},
   "outputs": [],
   "source": [
    "# Variables represent spaces on the checker board.\n",
    "## Index assignment for the matrix visualization of the checker board.\n",
    "Player_1=1\n",
    "Player_2=2\n",
    "empty=0\n",
    "\n",
    "## game board size\n",
    "size=8"
   ]
  },
  {
   "cell_type": "code",
   "execution_count": 4,
   "id": "be74b3c2",
   "metadata": {},
   "outputs": [
    {
     "data": {
      "text/plain": [
       "[[0, 0, 0, 0, 0, 0, 0, 0],\n",
       " [0, 0, 0, 0, 0, 0, 0, 0],\n",
       " [0, 0, 0, 0, 0, 0, 0, 0],\n",
       " [0, 0, 0, 0, 0, 0, 0, 0],\n",
       " [0, 0, 0, 0, 0, 0, 0, 0],\n",
       " [0, 0, 0, 0, 0, 0, 0, 0],\n",
       " [0, 0, 0, 0, 0, 0, 0, 0],\n",
       " [0, 0, 0, 0, 0, 0, 0, 0]]"
      ]
     },
     "execution_count": 4,
     "metadata": {},
     "output_type": "execute_result"
    }
   ],
   "source": [
    "# turn into an empty list first.\n",
    "# Copies each size into a row, then appends that row for the range of size.\n",
    "Board=list()\n",
    "for i in range(size):\n",
    "    row=list()\n",
    "    for j in range(size):\n",
    "        row.append(empty)\n",
    "    Board.append(row)\n",
    "Board"
   ]
  },
  {
   "cell_type": "markdown",
   "id": "031f7dcc",
   "metadata": {},
   "source": [
    "##### Shows us how to write in one line"
   ]
  },
  {
   "cell_type": "code",
   "execution_count": 5,
   "id": "d2680772",
   "metadata": {},
   "outputs": [
    {
     "data": {
      "text/plain": [
       "[10, 10, 10, 10, 10, 10, 10, 10]"
      ]
     },
     "execution_count": 5,
     "metadata": {},
     "output_type": "execute_result"
    }
   ],
   "source": [
    "[10]*8"
   ]
  },
  {
   "cell_type": "code",
   "execution_count": 6,
   "id": "fcc73429",
   "metadata": {},
   "outputs": [
    {
     "data": {
      "text/plain": [
       "[[0, 0, 0, 0, 0, 0, 0, 0],\n",
       " [0, 0, 0, 0, 0, 0, 0, 0],\n",
       " [0, 0, 0, 0, 0, 0, 0, 0],\n",
       " [0, 0, 0, 0, 0, 0, 0, 0],\n",
       " [0, 0, 0, 0, 0, 0, 0, 0],\n",
       " [0, 0, 0, 0, 0, 0, 0, 0],\n",
       " [0, 0, 0, 0, 0, 0, 0, 0],\n",
       " [0, 0, 0, 0, 0, 0, 0, 0]]"
      ]
     },
     "execution_count": 6,
     "metadata": {},
     "output_type": "execute_result"
    }
   ],
   "source": [
    "board=[[empty]*size]*size\n",
    "board"
   ]
  },
  {
   "cell_type": "code",
   "execution_count": 7,
   "id": "3f580826",
   "metadata": {},
   "outputs": [
    {
     "data": {
      "text/plain": [
       "[[0, 1, 0, 0, 0, 0, 0, 0],\n",
       " [0, 1, 0, 0, 0, 0, 0, 0],\n",
       " [0, 1, 0, 0, 0, 0, 0, 0],\n",
       " [0, 1, 0, 0, 0, 0, 0, 0],\n",
       " [0, 1, 0, 0, 0, 0, 0, 0],\n",
       " [0, 1, 0, 0, 0, 0, 0, 0],\n",
       " [0, 1, 0, 0, 0, 0, 0, 0],\n",
       " [0, 1, 0, 0, 0, 0, 0, 0]]"
      ]
     },
     "execution_count": 7,
     "metadata": {},
     "output_type": "execute_result"
    }
   ],
   "source": [
    "# We try to experiment with placing the Player_1 values on the \n",
    "board[1][1]=1\n",
    "board"
   ]
  },
  {
   "cell_type": "markdown",
   "id": "98df24e1",
   "metadata": {},
   "source": [
    "##### Experimenting with lists"
   ]
  },
  {
   "cell_type": "code",
   "execution_count": 9,
   "id": "9e8606a6",
   "metadata": {},
   "outputs": [
    {
     "data": {
      "text/plain": [
       "[[0, 0, 0, 0, 0, 0, 0, 0],\n",
       " [0, 0, 0, 0, 0, 0, 0, 0],\n",
       " [0, 0, 0, 0, 0, 0, 0, 0],\n",
       " [0, 0, 0, 0, 0, 0, 0, 0],\n",
       " [0, 0, 0, 0, 0, 0, 0, 0],\n",
       " [0, 0, 0, 0, 0, 0, 0, 0],\n",
       " [0, 0, 0, 0, 0, 0, 0, 0],\n",
       " [0, 0, 0, 0, 0, 0, 0, 0]]"
      ]
     },
     "execution_count": 9,
     "metadata": {},
     "output_type": "execute_result"
    }
   ],
   "source": [
    "# We have to change to a list first, again. This time, it is a list of lists, which makes iteration easier.\n",
    "board=list()\n",
    "for i in range(size):\n",
    "    board.append([empty]*size)\n",
    "board"
   ]
  },
  {
   "cell_type": "code",
   "execution_count": 11,
   "id": "add85d43",
   "metadata": {},
   "outputs": [
    {
     "data": {
      "text/plain": [
       "[[0, 0, 0, 0, 0, 0, 0, 0],\n",
       " [0, 1, 0, 0, 0, 0, 0, 0],\n",
       " [0, 0, 0, 0, 0, 0, 0, 0],\n",
       " [0, 0, 0, 0, 0, 0, 0, 0],\n",
       " [0, 0, 0, 0, 0, 0, 0, 0],\n",
       " [0, 0, 0, 0, 0, 0, 0, 0],\n",
       " [0, 0, 0, 0, 0, 0, 0, 0],\n",
       " [0, 0, 0, 0, 0, 0, 0, 0]]"
      ]
     },
     "execution_count": 11,
     "metadata": {},
     "output_type": "execute_result"
    }
   ],
   "source": [
    "board[1][1]=1\n",
    "board"
   ]
  },
  {
   "cell_type": "code",
   "execution_count": 13,
   "id": "061d6db1",
   "metadata": {},
   "outputs": [
    {
     "data": {
      "text/plain": [
       "[[1, 0, 0, 0, 0, 0, 0, 0],\n",
       " [0, 1, 0, 0, 0, 0, 0, 0],\n",
       " [0, 0, 0, 0, 0, 0, 0, 0],\n",
       " [0, 0, 0, 0, 0, 0, 0, 0],\n",
       " [0, 0, 0, 0, 0, 0, 0, 0],\n",
       " [0, 0, 0, 0, 0, 0, 0, 0],\n",
       " [0, 0, 0, 0, 0, 0, 0, 0],\n",
       " [0, 0, 0, 0, 0, 0, 0, 0]]"
      ]
     },
     "execution_count": 13,
     "metadata": {},
     "output_type": "execute_result"
    }
   ],
   "source": [
    "board[0][0]=1\n",
    "board"
   ]
  },
  {
   "cell_type": "markdown",
   "id": "33fbd4cd",
   "metadata": {},
   "source": [
    "##### Simplify our starting code again."
   ]
  },
  {
   "cell_type": "code",
   "execution_count": 17,
   "id": "4a48652a",
   "metadata": {},
   "outputs": [
    {
     "data": {
      "text/plain": [
       "[[1, 0, 0, 0, 0, 0, 0, 0],\n",
       " [0, 1, 0, 0, 0, 0, 0, 0],\n",
       " [0, 0, 0, 0, 0, 0, 0, 0],\n",
       " [0, 0, 0, 0, 0, 0, 0, 0],\n",
       " [0, 0, 0, 0, 0, 0, 0, 0],\n",
       " [0, 0, 0, 0, 0, 0, 0, 0],\n",
       " [0, 0, 0, 0, 0, 0, 0, 0],\n",
       " [0, 0, 0, 0, 0, 0, 0, 0]]"
      ]
     },
     "execution_count": 17,
     "metadata": {},
     "output_type": "execute_result"
    }
   ],
   "source": [
    "board=[[empty]*size for i in range(size)]\n",
    "\n",
    "board[1][1]=1\n",
    "board[0][0]=1\n",
    "board"
   ]
  },
  {
   "cell_type": "markdown",
   "id": "783ce151",
   "metadata": {},
   "source": [
    "##### Loops and functions"
   ]
  },
  {
   "cell_type": "code",
   "execution_count": 18,
   "id": "fa86b36c",
   "metadata": {},
   "outputs": [
    {
     "data": {
      "text/plain": [
       "[[0, 1, 0, 1, 0, 1, 0, 1],\n",
       " [1, 0, 1, 0, 1, 0, 1, 0],\n",
       " [0, 1, 0, 1, 0, 1, 0, 1],\n",
       " [0, 0, 0, 0, 0, 0, 0, 0],\n",
       " [0, 0, 0, 0, 0, 0, 0, 0],\n",
       " [2, 0, 2, 0, 2, 0, 2, 0],\n",
       " [0, 2, 0, 2, 0, 2, 0, 2],\n",
       " [2, 0, 2, 0, 2, 0, 2, 0]]"
      ]
     },
     "execution_count": 18,
     "metadata": {},
     "output_type": "execute_result"
    }
   ],
   "source": [
    "def make_game_board(size=8):\n",
    "    # Make an empty board.\n",
    "    board=[[empty]*size for i in range(size)]\n",
    "    \n",
    "    # Even Columns\n",
    "    for i in range(0,size,2):\n",
    "        board[1][i]=Player_1\n",
    "        board[-1][i]=Player_2\n",
    "        board[-3][i]=Player_2\n",
    "        \n",
    "    # Odd Columns\n",
    "    for i in range(1,size,2):\n",
    "        board[0][i]=Player_1\n",
    "        board[2][i]=Player_1\n",
    "        board[-2][i]=Player_2\n",
    "        \n",
    "    return board\n",
    "make_game_board()"
   ]
  },
  {
   "cell_type": "code",
   "execution_count": 19,
   "id": "268eb27f",
   "metadata": {},
   "outputs": [
    {
     "data": {
      "text/plain": [
       "[[0, 1, 0, 1, 0, 1, 0, 1],\n",
       " [1, 0, 1, 0, 1, 0, 1, 0],\n",
       " [0, 1, 0, 1, 0, 1, 0, 1],\n",
       " [0, 0, 0, 0, 0, 0, 0, 0],\n",
       " [0, 0, 0, 0, 0, 0, 0, 0],\n",
       " [2, 0, 2, 0, 2, 0, 2, 0],\n",
       " [0, 2, 0, 2, 0, 2, 0, 2],\n",
       " [2, 0, 2, 0, 2, 0, 2, 0]]"
      ]
     },
     "execution_count": 19,
     "metadata": {},
     "output_type": "execute_result"
    }
   ],
   "source": [
    "board_0=make_game_board()\n",
    "board_0"
   ]
  },
  {
   "cell_type": "markdown",
   "id": "ab4d974e",
   "metadata": {},
   "source": [
    "# Game Rules"
   ]
  },
  {
   "cell_type": "markdown",
   "id": "90191a7e",
   "metadata": {},
   "source": [
    "##### How the pieces move"
   ]
  },
  {
   "cell_type": "code",
   "execution_count": 20,
   "id": "b936653c",
   "metadata": {},
   "outputs": [],
   "source": [
    "left_move=0\n",
    "right_move=1\n",
    "\n",
    "def player_moves(player, direction):\n",
    "    if player == Player_1:\n",
    "        if direction == left_move:\n",
    "            return (1,1)\n",
    "        elif direction == right_move:\n",
    "            return (1,-1)\n",
    "    \n",
    "    if player == Player_2:\n",
    "        if direction == left_move:\n",
    "            return (-1,-1)\n",
    "        elif direction == right_move:\n",
    "            return (-1,1)"
   ]
  },
  {
   "cell_type": "markdown",
   "id": "7bb5abe9",
   "metadata": {},
   "source": [
    "##### Generate a move list which we will use to play"
   ]
  },
  {
   "cell_type": "code",
   "execution_count": 23,
   "id": "2d14af37",
   "metadata": {},
   "outputs": [
    {
     "data": {
      "text/plain": [
       "[[(1, 1), (1, -1)], [(-1, -1), (-1, 1)]]"
      ]
     },
     "execution_count": 23,
     "metadata": {},
     "output_type": "execute_result"
    }
   ],
   "source": [
    "player_1_left_move=(1,1)\n",
    "player_1_right_move=(1,-1)\n",
    "\n",
    "player_2_left_move=(-1,-1)\n",
    "player_2_right_move=(-1,1)\n",
    "\n",
    "moves=[[player_1_left_move, player_1_right_move],\n",
    "      [player_2_left_move, player_2_right_move]]\n",
    "moves"
   ]
  },
  {
   "cell_type": "code",
   "execution_count": 24,
   "id": "e7956657",
   "metadata": {},
   "outputs": [
    {
     "data": {
      "text/plain": [
       "(1, -1)"
      ]
     },
     "execution_count": 24,
     "metadata": {},
     "output_type": "execute_result"
    }
   ],
   "source": [
    "moves[Player_1-1][right_move]"
   ]
  },
  {
   "cell_type": "markdown",
   "id": "7d863a06",
   "metadata": {},
   "source": [
    "##### Dictionaries are better for representing a move list"
   ]
  },
  {
   "cell_type": "code",
   "execution_count": 26,
   "id": "b9a9db51",
   "metadata": {},
   "outputs": [
    {
     "data": {
      "text/plain": [
       "{1: {0: (1, 1), 1: (1, -1)}, 2: {0: (-1, -1), 1: (-1, 1)}}"
      ]
     },
     "execution_count": 26,
     "metadata": {},
     "output_type": "execute_result"
    }
   ],
   "source": [
    "moves={\n",
    "    Player_1:{\n",
    "        left_move:player_1_left_move,\n",
    "        right_move:player_1_right_move\n",
    "    },\n",
    "    Player_2:{\n",
    "        left_move:player_2_left_move,\n",
    "        right_move:player_2_right_move\n",
    "    }\n",
    "}\n",
    "moves"
   ]
  },
  {
   "cell_type": "code",
   "execution_count": 27,
   "id": "8ca0c7a1",
   "metadata": {},
   "outputs": [
    {
     "data": {
      "text/plain": [
       "(1, -1)"
      ]
     },
     "execution_count": 27,
     "metadata": {},
     "output_type": "execute_result"
    }
   ],
   "source": [
    "moves[Player_1][right_move]"
   ]
  },
  {
   "cell_type": "code",
   "execution_count": null,
   "id": "cca2db2a",
   "metadata": {},
   "outputs": [],
   "source": []
  }
 ],
 "metadata": {
  "kernelspec": {
   "display_name": "Python 3 (ipykernel)",
   "language": "python",
   "name": "python3"
  },
  "language_info": {
   "codemirror_mode": {
    "name": "ipython",
    "version": 3
   },
   "file_extension": ".py",
   "mimetype": "text/x-python",
   "name": "python",
   "nbconvert_exporter": "python",
   "pygments_lexer": "ipython3",
   "version": "3.12.3"
  }
 },
 "nbformat": 4,
 "nbformat_minor": 5
}
