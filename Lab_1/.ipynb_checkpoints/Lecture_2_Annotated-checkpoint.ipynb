{
 "cells": [
  {
   "cell_type": "markdown",
   "id": "a7114277-6ac2-4723-aa8a-a3e8428679d4",
   "metadata": {},
   "source": [
    "# Welcome! These are the annotated notes from lecture 2 (2025 - 08 - 20)"
   ]
  },
  {
   "cell_type": "markdown",
   "id": "97c4bcd3-86bb-4ae5-92f7-27893bfc28b7",
   "metadata": {},
   "source": [
    "# Goal\n",
    ">##### Represent checker board pieces in memory, and then write a function to create a game board with the pieces in the starting position. Function.\n",
    ">##### Build a 8x8 board, top pieces start from the 1th element, the botthom starts from the 0th element. Each are spaced by one element, and there are three rows for each. There should be two empty rows in the middle. This is a function.\n",
    ">##### Pieces may only move ones space diagonally. This is a function.\n",
    ">##### Define conventions to move pieces in a human freindly way."
   ]
  },
  {
   "cell_type": "markdown",
   "id": "5d8c2c78-b8ac-4813-a6bf-668f751fe408",
   "metadata": {},
   "source": [
    "#### Make a note after every cell."
   ]
  },
  {
   "cell_type": "code",
   "execution_count": 2,
   "id": "18e4320a-f81a-4154-8f63-5cd7b96d46ee",
   "metadata": {},
   "outputs": [],
   "source": [
    "Player_1=1\n",
    "Player_2=2\n",
    "empty=0\n",
    "size=8"
   ]
  },
  {
   "cell_type": "markdown",
   "id": "6111e6c3-df6a-4267-84df-270d7dc69d2f",
   "metadata": {},
   "source": [
    "#### Made a board variable using list comprehension "
   ]
  },
  {
   "cell_type": "code",
   "execution_count": 18,
   "id": "64e11326-cfe3-4141-9d93-af91f4137947",
   "metadata": {},
   "outputs": [
    {
     "data": {
      "text/plain": [
       "[[0, 0, 0, 0, 0, 0, 0, 0],\n",
       " [0, 0, 0, 0, 0, 0, 0, 0],\n",
       " [0, 0, 0, 0, 0, 0, 0, 0],\n",
       " [0, 0, 0, 0, 0, 0, 0, 0],\n",
       " [0, 0, 0, 0, 0, 0, 0, 0],\n",
       " [0, 0, 0, 0, 0, 0, 0, 0],\n",
       " [0, 0, 0, 0, 0, 0, 0, 0],\n",
       " [0, 0, 0, 0, 0, 0, 0, 0]]"
      ]
     },
     "execution_count": 18,
     "metadata": {},
     "output_type": "execute_result"
    }
   ],
   "source": [
    "board = list([empty*size]*size for i in range(size))\n",
    "board"
   ]
  },
  {
   "cell_type": "markdown",
   "id": "30cd918c-8c04-4779-9789-e55fcd98ee9b",
   "metadata": {},
   "source": [
    "#### test to see how we can start placing Player 1 positions."
   ]
  },
  {
   "cell_type": "code",
   "execution_count": 20,
   "id": "04acc505-115b-42ac-a2a4-7024be5b586c",
   "metadata": {},
   "outputs": [
    {
     "data": {
      "text/plain": [
       "[0, 0, 0, 0, 0, 0, 0, 0]"
      ]
     },
     "execution_count": 20,
     "metadata": {},
     "output_type": "execute_result"
    }
   ],
   "source": [
    "board[0]"
   ]
  },
  {
   "cell_type": "markdown",
   "id": "6f3cece0-9534-4e9f-ae28-dbb1e573452c",
   "metadata": {},
   "source": [
    "#### Loops and function that place the Player 1 & 2 positions on the board."
   ]
  },
  {
   "cell_type": "code",
   "execution_count": 22,
   "id": "6a0fd76c-1206-401c-9795-f5e6e305b83a",
   "metadata": {},
   "outputs": [
    {
     "data": {
      "text/plain": [
       "[[0, 1, 0, 1, 0, 1, 0, 1],\n",
       " [1, 0, 1, 0, 1, 0, 1, 0],\n",
       " [0, 1, 0, 1, 0, 1, 0, 1],\n",
       " [0, 0, 0, 0, 0, 0, 0, 0],\n",
       " [0, 0, 0, 0, 0, 0, 0, 0],\n",
       " [2, 0, 2, 0, 2, 0, 2, 0],\n",
       " [0, 2, 0, 2, 0, 2, 0, 2],\n",
       " [2, 0, 2, 0, 2, 0, 2, 0]]"
      ]
     },
     "execution_count": 22,
     "metadata": {},
     "output_type": "execute_result"
    }
   ],
   "source": [
    "def make_game_board():\n",
    "    # Makes an empty board\n",
    "    board = list([empty*size]*size for i in range(size))\n",
    "\n",
    "    # Even columns\n",
    "    for i in range(0,size,2):\n",
    "        board[1][i]=Player_1\n",
    "        board[-1][i]=Player_2\n",
    "        board[-3][i]=Player_2\n",
    "\n",
    "    # Odd Columns\n",
    "    for i in range(1,size,2):\n",
    "        board[0][i]=Player_1\n",
    "        board[2][i]=Player_1\n",
    "        board[-2][i]=Player_2\n",
    "\n",
    "    return board\n",
    "make_game_board()"
   ]
  },
  {
   "cell_type": "code",
   "execution_count": 23,
   "id": "a3153e91-b81d-4c46-ad61-64d4ca859840",
   "metadata": {},
   "outputs": [
    {
     "data": {
      "text/plain": [
       "[[0, 1, 0, 1, 0, 1, 0, 1],\n",
       " [1, 0, 1, 0, 1, 0, 1, 0],\n",
       " [0, 1, 0, 1, 0, 1, 0, 1],\n",
       " [0, 0, 0, 0, 0, 0, 0, 0],\n",
       " [0, 0, 0, 0, 0, 0, 0, 0],\n",
       " [2, 0, 2, 0, 2, 0, 2, 0],\n",
       " [0, 2, 0, 2, 0, 2, 0, 2],\n",
       " [2, 0, 2, 0, 2, 0, 2, 0]]"
      ]
     },
     "execution_count": 23,
     "metadata": {},
     "output_type": "execute_result"
    }
   ],
   "source": [
    "board_0=make_game_board()\n",
    "board_0"
   ]
  },
  {
   "cell_type": "markdown",
   "id": "204d29c2-0b55-48af-8ecc-2e404a5ebf56",
   "metadata": {},
   "source": [
    "# Game Rules\n",
    ">#### How the pieces move\n",
    ">##### Commit variables to memory. `left_move` & `right_move`"
   ]
  },
  {
   "cell_type": "code",
   "execution_count": 24,
   "id": "4b361217-2da2-434a-b422-c799c79551c0",
   "metadata": {},
   "outputs": [],
   "source": [
    "left_move=0\n",
    "right_move=1\n",
    "\n",
    "def player_moves(player, direction):\n",
    "    if player == Player_1:\n",
    "        if direction == left_move:\n",
    "            return (1,1)\n",
    "        elif direction == right_move:\n",
    "            return (1,-1)\n",
    "\n",
    "    if player == Player_2:\n",
    "        if direction == left_move:\n",
    "            return (-1,-1)\n",
    "        elif direction == right_move:\n",
    "            return (-1,1)"
   ]
  },
  {
   "cell_type": "markdown",
   "id": "b16bc744-3ac2-42ba-b98f-ef64a1562497",
   "metadata": {},
   "source": [
    "##### Generate a move dictionary that we will use to play our game."
   ]
  },
  {
   "cell_type": "code",
   "execution_count": 25,
   "id": "d1954931-d84c-451b-bb05-9d86c7eeb9bd",
   "metadata": {},
   "outputs": [
    {
     "data": {
      "text/plain": [
       "{1: {0: (1, 1), 1: (1, -1)}, 2: {0: (-1, -1), 1: (-1, 1)}}"
      ]
     },
     "execution_count": 25,
     "metadata": {},
     "output_type": "execute_result"
    }
   ],
   "source": [
    "player_1_left_move=(1,1)\n",
    "player_1_right_move=(1,-1)\n",
    "\n",
    "player_2_left_move=(-1,-1)\n",
    "player_2_right_move=(-1,1)\n",
    "\n",
    "moves={\n",
    "    Player_1:{\n",
    "        left_move:player_1_left_move,\n",
    "        right_move:player_1_right_move\n",
    "    },\n",
    "    Player_2:{\n",
    "        left_move:player_2_left_move,\n",
    "        right_move:player_2_right_move\n",
    "    }\n",
    "}\n",
    "moves"
   ]
  },
  {
   "cell_type": "code",
   "execution_count": 41,
   "id": "5f68adcd-a454-4bc6-92f1-059cc4960125",
   "metadata": {},
   "outputs": [
    {
     "name": "stdout",
     "output_type": "stream",
     "text": [
      "Player 1 moves:  {0: (1, 1), 1: (1, -1)}\n",
      "Left:  (1, 1)\n",
      "Right:  (1, -1)\n",
      "Player 2 moves:  {0: (-1, -1), 1: (-1, 1)}\n",
      "Left:  (-1, -1)\n",
      "Right:  (-1, 1)\n"
     ]
    }
   ],
   "source": [
    "for key in moves:\n",
    "    if key == Player_1:\n",
    "        print(\"Player 1 moves: \", moves[Player_1])\n",
    "        print(\"Left: \", moves[Player_1][left_move])\n",
    "        print(\"Right: \", moves[Player_1][right_move])\n",
    "\n",
    "    elif key == Player_2:\n",
    "        print(\"Player 2 moves: \", moves[Player_2])\n",
    "        print(\"Left: \", moves[Player_2][left_move])\n",
    "        print(\"Right: \", moves[Player_2][right_move])"
   ]
  },
  {
   "cell_type": "code",
   "execution_count": null,
   "id": "b0a79260-0b64-446a-989f-e56178507eeb",
   "metadata": {},
   "outputs": [],
   "source": []
  }
 ],
 "metadata": {
  "kernelspec": {
   "display_name": "Python 3 (ipykernel)",
   "language": "python",
   "name": "python3"
  },
  "language_info": {
   "codemirror_mode": {
    "name": "ipython",
    "version": 3
   },
   "file_extension": ".py",
   "mimetype": "text/x-python",
   "name": "python",
   "nbconvert_exporter": "python",
   "pygments_lexer": "ipython3",
   "version": "3.10.12"
  }
 },
 "nbformat": 4,
 "nbformat_minor": 5
}
