{
 "cells": [
  {
   "cell_type": "markdown",
   "metadata": {},
   "source": [
    "# DATA 3402-Python II\n",
    "\n",
    "## Lab 1- Tic Tac Toe Game\n",
    "\n",
    "In this lab your will build a n x n Tic Tac Toe game. As you do the exercises, make sure your solutions work for any size Tic Tac Toe game.\n",
    "\n",
    "# **Assignment Submission Guidelines**\n",
    "\n",
    "\n",
    "Please follow the guidelines below for submitting your assignment:\n",
    "\n",
    "1. **Submission Deadline:**\n",
    "   - All assignments must be submitted **no later than 11:59 PM tonight**.\n",
    "   - Late submissions will not be accepted unless prior arrangements have been made by the instructor.\n",
    "\n",
    "2. **Submission Platform:**\n",
    "   - Submit your assignment through **Canvas**. Ensure that you upload the files to the correct assignment link.\n",
    "\n",
    "3. **Required Files:**\n",
    "   - **Jupyter Notebook file (.ipynb):** Submit the Jupyter Notebook file you used to complete the assignment. The file should contain your well-commented code.\n",
    "   - **PDF Version (.pdf file):** Additionally, submit a PDF version of your Python code. This can be a printout or export of your script, showing all the code with any necessary explanations or output results included.\n",
    "\n",
    "4. **File Naming Convention:**\n",
    "   - Please name your files as follows: `Lastname_Firstname_AssignmentName`\n",
    "   - Example: `Ce_Bian_Lab1.ipynb` and `Ce_Bian_Lab1.pdf`\n",
    "\n",
    "5. **Technical Issues:**\n",
    "   - If you encounter any technical issues with Canvas or your submission, please contact the TAs immediately **before the deadline** to avoid penalties."
   ]
  },
  {
   "cell_type": "markdown",
   "metadata": {},
   "source": [
    "*Exercise 1:* Write a function that creates an n by n matrix (of list of lists) which will represent the state of a Tie Tac Toe game. Let 0, 1, and 2 represent empty, \"X\", and \"O\", respectively.  (10 Points)\n"
   ]
  },
  {
   "cell_type": "code",
   "execution_count": 499,
   "metadata": {
    "jupyter": {
     "source_hidden": true
    }
   },
   "outputs": [],
   "source": [
    "# Write you solution here\n",
    "def make_matrix_shape(n):\n",
    "    empty=0\n",
    "    X=1\n",
    "    O=2\n",
    "    size=n\n",
    "\n",
    "    matrix = [[empty*size]*size for i in range(size)]\n",
    "    for i in range(len(matrix)):\n",
    "        print(matrix[i])"
   ]
  },
  {
   "cell_type": "code",
   "execution_count": 500,
   "metadata": {
    "collapsed": true,
    "jupyter": {
     "outputs_hidden": true,
     "source_hidden": true
    }
   },
   "outputs": [
    {
     "name": "stdout",
     "output_type": "stream",
     "text": [
      "[0, 0, 0]\n",
      "[0, 0, 0]\n",
      "[0, 0, 0]\n"
     ]
    }
   ],
   "source": [
    "# Test your solution here\n",
    "make_matrix_shape(3)"
   ]
  },
  {
   "cell_type": "markdown",
   "metadata": {
    "jupyter": {
     "source_hidden": true
    }
   },
   "source": [
    "*Exercise 2:* Write a function that takes 2 integers `n` and `m` as input and draws a `n` by `m` game board. For example the following is a 3x3 board: (10 Points)\n",
    "```\n",
    "   --- --- --- \n",
    "  |   |   |   | \n",
    "   --- --- ---  \n",
    "  |   |   |   | \n",
    "   --- --- ---  \n",
    "  |   |   |   | \n",
    "   --- --- --- \n",
    "   ```"
   ]
  },
  {
   "cell_type": "code",
   "execution_count": 501,
   "metadata": {
    "jupyter": {
     "source_hidden": true
    }
   },
   "outputs": [],
   "source": [
    "# Write you solution here\n",
    "def make_shape(n, m):\n",
    "    print(\"  \", end=\"  \")\n",
    "    print()\n",
    "\n",
    "    print(\"  ---  \"*n)\n",
    "    for i in range(n):\n",
    "        print(\"|    \", end=\" \")\n",
    "        for k in range(n):\n",
    "            print(\"| \", end=\"    \")\n",
    "        print()\n",
    "        print(\" \", end=\"\")\n",
    "        print(\" ---  \"*n)\n",
    "            "
   ]
  },
  {
   "cell_type": "code",
   "execution_count": 502,
   "metadata": {
    "collapsed": true,
    "jupyter": {
     "outputs_hidden": true,
     "source_hidden": true
    }
   },
   "outputs": [
    {
     "name": "stdout",
     "output_type": "stream",
     "text": [
      "    \n",
      "  ---    ---    ---  \n",
      "|     |     |     |     \n",
      "  ---   ---   ---  \n",
      "|     |     |     |     \n",
      "  ---   ---   ---  \n",
      "|     |     |     |     \n",
      "  ---   ---   ---  \n"
     ]
    }
   ],
   "source": [
    "# Test your solution here\n",
    "make_shape(3,4)"
   ]
  },
  {
   "cell_type": "markdown",
   "metadata": {},
   "source": [
    "*Exercise 3:* Modify exercise 2, so that it takes a matrix of the form from exercise 1 and draws a tic-tac-tie board with \"X\"s and \"O\"s. (10 Points)"
   ]
  },
  {
   "cell_type": "code",
   "execution_count": 563,
   "metadata": {},
   "outputs": [],
   "source": [
    "# Write your solution here\n",
    "def make_shape(n, m):\n",
    "    # Initialize the variables, and create the matrix.\n",
    "    empty=0\n",
    "    matrix = [[empty*n]*n for i in range(n)]\n",
    "\n",
    "    # Row and Col maps =============================\n",
    "    row_map = {\n",
    "        0: 'A',\n",
    "        1: 'B',\n",
    "        2: 'C'\n",
    "    }\n",
    "    col_map = list(range(1,n+1))\n",
    "    # Row and Col maps =============================\n",
    "\n",
    "    # Board Shape =============================================================\n",
    "    print()\n",
    "    print()\n",
    "    print(\"  ---\"*n)\n",
    "    for i in range(len(matrix)):\n",
    "        #print(row_map[i], end=\"\")\n",
    "        \n",
    "        for k in range(n):\n",
    "            print(f\" | {matrix[i][k]} |\",end=\"\")\n",
    "        print()\n",
    "        print(\"\", end=\"\")\n",
    "        print(\"   ---\"*n)\n",
    "    print()\n",
    "    return matrix, row_map, col_map\n",
    "    # Board Shape =============================================================\n"
   ]
  },
  {
   "cell_type": "code",
   "execution_count": 564,
   "metadata": {},
   "outputs": [
    {
     "name": "stdout",
     "output_type": "stream",
     "text": [
      "\n",
      "\n",
      "  ---  ---  ---\n",
      " | 0 | | 0 | | 0 |\n",
      "   ---   ---   ---\n",
      " | 0 | | 0 | | 0 |\n",
      "   ---   ---   ---\n",
      " | 0 | | 0 | | 0 |\n",
      "   ---   ---   ---\n",
      "\n"
     ]
    }
   ],
   "source": [
    "# Test your solution here\n",
    "board = make_shape(3,3)"
   ]
  },
  {
   "cell_type": "markdown",
   "metadata": {},
   "source": [
    "*Exercise 4:* Write a function that takes a `n` by `n` matrix representing a tic-tac-toe game, and returns -1, 0, 1, or 2 indicating the game is incomplete, the game is a draw, player 1 has won, or player 2 has one, respectively. Here are some example inputs you can use to test your code: (10 Points)"
   ]
  },
  {
   "cell_type": "markdown",
   "metadata": {},
   "source": [
    "### Start again here"
   ]
  },
  {
   "cell_type": "code",
   "execution_count": 507,
   "metadata": {},
   "outputs": [],
   "source": [
    "# Write you solution here \n",
    "# Game code sheet =============================================================\n",
    "winner_is_2 = [[2, 2, 0],\n",
    "    [2, 1, 0],\n",
    "    [2, 1, 1]]\n",
    "\n",
    "winner_is_1 = [[1, 2, 0],\n",
    "    [2, 1, 0],\n",
    "    [2, 1, 1]]\n",
    "\n",
    "winner_is_also_1 = [[0, 1, 0],\n",
    "    [2, 1, 0],\n",
    "    [2, 1, 1]]\n",
    "\n",
    "no_winner = [[1, 2, 0],\n",
    "    [2, 1, 0],\n",
    "    [2, 1, 2]]\n",
    "\n",
    "also_no_winner = [[1, 2, 0],\n",
    "    [2, 1, 0],\n",
    "    [2, 1, 0]]\n",
    "# Game code sheet ============================================================="
   ]
  },
  {
   "cell_type": "code",
   "execution_count": 454,
   "metadata": {},
   "outputs": [],
   "source": [
    "# Test your solution here"
   ]
  },
  {
   "cell_type": "code",
   "execution_count": 534,
   "metadata": {},
   "outputs": [
    {
     "name": "stdout",
     "output_type": "stream",
     "text": [
      "1\n",
      "2\n"
     ]
    }
   ],
   "source": [
    "x=1\n",
    "y=2\n",
    "#P = Player_num\n",
    "move = list()\n",
    "move.append(list([x]))\n",
    "move.append(list([y]))\n",
    "loc=x,y\n",
    "for i in loc:\n",
    "    print(i)"
   ]
  },
  {
   "cell_type": "markdown",
   "metadata": {},
   "source": [
    "*Exercise 5:* Write a function that takes a game board, player number, and `(x,y)` coordinates and places \"X\" or \"O\" in the correct location of the game board. Make sure that you only allow filling previously empty locations. Return `True` or `False` to indicate successful placement of \"X\" or \"O\". (10 Points)"
   ]
  },
  {
   "cell_type": "code",
   "execution_count": 629,
   "metadata": {},
   "outputs": [],
   "source": [
    "# Write you solution here\n",
    "def move_piece(board, Player_num, x, y):\n",
    "    piece_map = {\n",
    "        1:\"X\",\n",
    "        2:\"O\"\n",
    "    }\n",
    "    \n",
    "    if Player_num not in piece_map:\n",
    "        return False\n",
    "\n",
    "    if board[x][y] not in piece_map.values():\n",
    "        board[x][y] = piece_map[Player_num]\n",
    "        return True\n",
    "    else:\n",
    "        return False\n",
    "    return board\n",
    "\n",
    "    "
   ]
  },
  {
   "cell_type": "code",
   "execution_count": 630,
   "metadata": {},
   "outputs": [
    {
     "name": "stdout",
     "output_type": "stream",
     "text": [
      "\n",
      "\n",
      "  ---  ---  ---\n",
      " | 0 | | 0 | | 0 |\n",
      "   ---   ---   ---\n",
      " | 0 | | 0 | | 0 |\n",
      "   ---   ---   ---\n",
      " | 0 | | 0 | | 0 |\n",
      "   ---   ---   ---\n",
      "\n"
     ]
    },
    {
     "data": {
      "text/plain": [
       "True"
      ]
     },
     "execution_count": 630,
     "metadata": {},
     "output_type": "execute_result"
    }
   ],
   "source": [
    "# Test your solution here\n",
    "board = make_shape(3,3)\n",
    "board_0=move_piece(board, 1, 0, 1)  \n",
    "board_0"
   ]
  },
  {
   "cell_type": "markdown",
   "metadata": {},
   "source": [
    "*Exercise 6:* Modify Exercise 3 to show column and row labels so that players can specify location using \"A2\" or \"C1\". (10 Points)"
   ]
  },
  {
   "cell_type": "code",
   "execution_count": 631,
   "metadata": {},
   "outputs": [],
   "source": [
    "def make_shape(n, m):\n",
    "    # Initialize the variables, and create the matrix.\n",
    "    empty=0\n",
    "    matrix = [[empty*n]*n for i in range(n)]\n",
    "\n",
    "    # Row and Col maps =============================\n",
    "    row_map = {\n",
    "        0: 'A',\n",
    "        1: 'B',\n",
    "        2: 'C'\n",
    "    }\n",
    "    col_map = list(range(1,n+1))\n",
    "    # Row and Col maps =============================\n",
    "\n",
    "    # Board Shape =============================================================\n",
    "    print()\n",
    "    #or i in range(len(shape_map)):\n",
    "     #   print(shape_map[i], end=\"\")\n",
    "    for i in range(n):\n",
    "        print(\"   \",col_map[i], end=\" \")\n",
    "\n",
    "    print()\n",
    "    print(\"   ---\"*n)\n",
    "    for i in range(len(matrix)):\n",
    "        print(row_map[i], end=\"\")\n",
    "        \n",
    "        for k in range(n):\n",
    "            print(f\" | {matrix[i][k]} |\",end=\"\")\n",
    "        print()\n",
    "        print(\"\", end=\"\")\n",
    "        print(\"   ---\"*n)\n",
    "    print()\n",
    "    return matrix, row_map, col_map\n",
    "    # Board Shape ============================================================="
   ]
  },
  {
   "cell_type": "code",
   "execution_count": 632,
   "metadata": {},
   "outputs": [
    {
     "name": "stdout",
     "output_type": "stream",
     "text": [
      "\n",
      "    1     2     3 \n",
      "   ---   ---   ---\n",
      "A | 0 | | 0 | | 0 |\n",
      "   ---   ---   ---\n",
      "B | 0 | | 0 | | 0 |\n",
      "   ---   ---   ---\n",
      "C | 0 | | 0 | | 0 |\n",
      "   ---   ---   ---\n",
      "\n"
     ]
    }
   ],
   "source": [
    "# Test your solution here\n",
    "board = make_shape(3,3)"
   ]
  },
  {
   "cell_type": "markdown",
   "metadata": {},
   "source": [
    "*Exercise 7:* Write a function that takes a board, player number, and location specified as in exercise 6 and then calls exercise 5 to correctly modify the board.  (10 Points)"
   ]
  },
  {
   "cell_type": "code",
   "execution_count": 676,
   "metadata": {},
   "outputs": [],
   "source": [
    "# Write you solution here\n",
    "def make_shape(n):\n",
    "    # Initialize the variables, and create the matrix.\n",
    "    empty=0\n",
    "    matrix = [[empty*n]*n for i in range(n)]\n",
    "\n",
    "    # Row and Col maps =============================\n",
    "    row_map = {\n",
    "        0: 'A',\n",
    "        1: 'B',\n",
    "        2: 'C'\n",
    "    }\n",
    "    col_map = list(range(1,n+1))\n",
    "    # Row and Col maps =============================\n",
    "    return matrix, row_map, col_map\n",
    "\n",
    "        \n",
    "def board_build(matrix, row_map, col_map):\n",
    "    # Board Shape =============================================================\n",
    "    size=len(matrix)\n",
    "    print()\n",
    "    for i in range(size):\n",
    "        print(\"   \",col_map[i], end=\" \")\n",
    "\n",
    "    print()\n",
    "    print(\"   ---\"*size)\n",
    "    for i in range(len(matrix)):\n",
    "        print(row_map[i], end=\"\")\n",
    "        \n",
    "        for k in range(size):\n",
    "            print(f\" | {matrix[i][k]} |\",end=\"\")\n",
    "        print()\n",
    "        print(\"\", end=\"\")\n",
    "        print(\"   ---\"*size)\n",
    "    print()\n",
    "    return matrix\n",
    "    # Board Shape =============================================================\n",
    "\n",
    "    def move_piece(board, Player_num, x, y):\n",
    "        piece_map = {\n",
    "            1:\"X\",\n",
    "            2:\"O\"\n",
    "        }\n",
    "        \n",
    "        if Player_num not in piece_map:\n",
    "            return False\n",
    "    \n",
    "        if board[x][y] not in piece_map.values():\n",
    "            board[x][y]= piece_map[Player_num]\n",
    "            return True\n",
    "        else:\n",
    "            return False\n",
    "        return board"
   ]
  },
  {
   "cell_type": "code",
   "execution_count": 677,
   "metadata": {},
   "outputs": [
    {
     "name": "stdout",
     "output_type": "stream",
     "text": [
      "\n",
      "    1     2     3 \n",
      "   ---   ---   ---\n",
      "A | 0 | | 0 | | 0 |\n",
      "   ---   ---   ---\n",
      "B | 0 | | 0 | | 0 |\n",
      "   ---   ---   ---\n",
      "C | 0 | | 0 | | 0 |\n",
      "   ---   ---   ---\n",
      "\n"
     ]
    }
   ],
   "source": [
    "# Test your solution here\n",
    "matrix, row_map, col_map = make_shape(3)\n",
    "board = board_build(matrix, row_map, col_map)"
   ]
  },
  {
   "cell_type": "code",
   "execution_count": 680,
   "metadata": {},
   "outputs": [
    {
     "name": "stdout",
     "output_type": "stream",
     "text": [
      "\n",
      "    1     2     3 \n",
      "   ---   ---   ---\n",
      "A | 0 | | X | | 0 |\n",
      "   ---   ---   ---\n",
      "B | 0 | | 0 | | 0 |\n",
      "   ---   ---   ---\n",
      "C | 0 | | 0 | | 0 |\n",
      "   ---   ---   ---\n",
      "\n"
     ]
    }
   ],
   "source": [
    "move_piece(board, 1, 0, 1)\n",
    "board = board_build(matrix, row_map, col_map)"
   ]
  },
  {
   "cell_type": "markdown",
   "metadata": {},
   "source": [
    "*Exercise 8:* Write a function is called with a board and player number, takes input from the player using python's `input`, and modifies the board using your function from exercise 7. Note that you should keep asking for input until you have gotten a valid input that results in a valid move. (10 Points)"
   ]
  },
  {
   "cell_type": "code",
   "execution_count": 693,
   "metadata": {},
   "outputs": [],
   "source": [
    "# Write you solution here\n",
    "# Write you solution here\n",
    "def make_shape(n):\n",
    "    # Initialize the variables, and create the matrix.\n",
    "    empty=0\n",
    "    matrix = [[empty*n]*n for i in range(n)]\n",
    "\n",
    "    # Row and Col maps =============================\n",
    "    row_map = {\n",
    "        0: 'A',\n",
    "        1: 'B',\n",
    "        2: 'C'\n",
    "    }\n",
    "    col_map = list(range(1,n+1))\n",
    "    # Row and Col maps =============================\n",
    "    return matrix, row_map, col_map\n",
    "\n",
    "        \n",
    "def board_build(matrix, row_map, col_map):\n",
    "    # Board Shape =============================================================\n",
    "    size=len(matrix)\n",
    "    print()\n",
    "    for i in range(size):\n",
    "        print(\"   \",col_map[i], end=\" \")\n",
    "\n",
    "    print()\n",
    "    print(\"   ---\"*size)\n",
    "    for i in range(len(matrix)):\n",
    "        print(row_map[i], end=\"\")\n",
    "        \n",
    "        for k in range(size):\n",
    "            print(f\" | {matrix[i][k]} |\",end=\"\")\n",
    "        print()\n",
    "        print(\"\", end=\"\")\n",
    "        print(\"   ---\"*size)\n",
    "    print()\n",
    "    return matrix\n",
    "    # Board Shape =============================================================\n",
    "\n",
    "def move_piece(board, Player_num, relative_location):\n",
    "    piece_map = {\n",
    "        1:\"X\",\n",
    "        2:\"O\"\n",
    "    }\n",
    "    x,y=relative_location\n",
    "    if Player_num not in piece_map:\n",
    "        return False\n",
    "\n",
    "    if board[x][y] not in piece_map.values():\n",
    "        board[x][y]= piece_map[Player_num]\n",
    "        return True\n",
    "    else:\n",
    "        return False\n",
    "    return board\n",
    "\n",
    "# Location =============================================================\n",
    "def parse_location(l_string):\n",
    "    # Row and Col maps =============================\n",
    "    row_map = {\n",
    "        'A': 0,\n",
    "        'B': 1,\n",
    "        'C': 2\n",
    "    }\n",
    "    col_map = {\n",
    "        '1':0,\n",
    "        '2':1,\n",
    "        '3':2\n",
    "    }\n",
    "    # Row and Col maps =============================        \n",
    "    \n",
    "    if not isinstance(l_string, str):\n",
    "        raise ValueError(\"Must be a string.\")\n",
    "    if len(l_string)!=2:\n",
    "        raise ValueError(\"Must be a length of two characters.\")\n",
    "\n",
    "    row=l_string[0].upper().strip()\n",
    "    col=l_string[1].upper().strip()\n",
    "\n",
    "    if not row in row_map:\n",
    "        raise ValueError(\"not in row map\")\n",
    "    if not col in col_map:\n",
    "        raise ValueError(\"not in col map\")\n",
    "        \n",
    "    relative_location = list([row_map[row], col_map[col]])\n",
    "    print(row_map[row], col_map[col])\n",
    "    return relative_location\n",
    "# Location ============================================================="
   ]
  },
  {
   "cell_type": "code",
   "execution_count": 694,
   "metadata": {},
   "outputs": [
    {
     "name": "stdout",
     "output_type": "stream",
     "text": [
      "\n",
      "    1     2     3 \n",
      "   ---   ---   ---\n",
      "A | 0 | | 0 | | 0 |\n",
      "   ---   ---   ---\n",
      "B | 0 | | 0 | | 0 |\n",
      "   ---   ---   ---\n",
      "C | 0 | | 0 | | 0 |\n",
      "   ---   ---   ---\n",
      "\n"
     ]
    },
    {
     "name": "stdin",
     "output_type": "stream",
     "text": [
      " A1\n"
     ]
    },
    {
     "name": "stdout",
     "output_type": "stream",
     "text": [
      "0 0\n",
      "\n",
      "    1     2     3 \n",
      "   ---   ---   ---\n",
      "A | X | | 0 | | 0 |\n",
      "   ---   ---   ---\n",
      "B | 0 | | 0 | | 0 |\n",
      "   ---   ---   ---\n",
      "C | 0 | | 0 | | 0 |\n",
      "   ---   ---   ---\n",
      "\n"
     ]
    },
    {
     "name": "stdin",
     "output_type": "stream",
     "text": [
      " a1\n"
     ]
    },
    {
     "name": "stdout",
     "output_type": "stream",
     "text": [
      "0 0\n",
      "\n",
      "    1     2     3 \n",
      "   ---   ---   ---\n",
      "A | X | | 0 | | 0 |\n",
      "   ---   ---   ---\n",
      "B | 0 | | 0 | | 0 |\n",
      "   ---   ---   ---\n",
      "C | 0 | | 0 | | 0 |\n",
      "   ---   ---   ---\n",
      "\n"
     ]
    },
    {
     "name": "stdin",
     "output_type": "stream",
     "text": [
      " A1\n"
     ]
    },
    {
     "name": "stdout",
     "output_type": "stream",
     "text": [
      "0 0\n",
      "\n",
      "    1     2     3 \n",
      "   ---   ---   ---\n",
      "A | X | | 0 | | 0 |\n",
      "   ---   ---   ---\n",
      "B | 0 | | 0 | | 0 |\n",
      "   ---   ---   ---\n",
      "C | 0 | | 0 | | 0 |\n",
      "   ---   ---   ---\n",
      "\n"
     ]
    },
    {
     "name": "stdin",
     "output_type": "stream",
     "text": [
      " A2\n"
     ]
    },
    {
     "name": "stdout",
     "output_type": "stream",
     "text": [
      "0 1\n",
      "\n",
      "    1     2     3 \n",
      "   ---   ---   ---\n",
      "A | X | | X | | 0 |\n",
      "   ---   ---   ---\n",
      "B | 0 | | 0 | | 0 |\n",
      "   ---   ---   ---\n",
      "C | 0 | | 0 | | 0 |\n",
      "   ---   ---   ---\n",
      "\n"
     ]
    },
    {
     "ename": "KeyboardInterrupt",
     "evalue": "Interrupted by user",
     "output_type": "error",
     "traceback": [
      "\u001b[0;31m---------------------------------------------------------------------------\u001b[0m",
      "\u001b[0;31mKeyboardInterrupt\u001b[0m                         Traceback (most recent call last)",
      "Cell \u001b[0;32mIn[694], line 5\u001b[0m\n\u001b[1;32m      3\u001b[0m board \u001b[38;5;241m=\u001b[39m board_build(matrix, row_map, col_map)\n\u001b[1;32m      4\u001b[0m \u001b[38;5;28;01mwhile\u001b[39;00m \u001b[38;5;28;01mTrue\u001b[39;00m:\n\u001b[0;32m----> 5\u001b[0m     relative_location \u001b[38;5;241m=\u001b[39m parse_location(\u001b[38;5;28;43minput\u001b[39;49m\u001b[43m(\u001b[49m\u001b[38;5;124;43m\"\u001b[39;49m\u001b[38;5;124;43m\"\u001b[39;49m\u001b[43m)\u001b[49m)\n\u001b[1;32m      6\u001b[0m     move_piece(board, \u001b[38;5;241m1\u001b[39m, relative_location)\n\u001b[1;32m      7\u001b[0m     board \u001b[38;5;241m=\u001b[39m board_build(matrix, row_map, col_map)\n",
      "File \u001b[0;32m~/.local/lib/python3.10/site-packages/ipykernel/kernelbase.py:1282\u001b[0m, in \u001b[0;36mKernel.raw_input\u001b[0;34m(self, prompt)\u001b[0m\n\u001b[1;32m   1280\u001b[0m     msg \u001b[38;5;241m=\u001b[39m \u001b[38;5;124m\"\u001b[39m\u001b[38;5;124mraw_input was called, but this frontend does not support input requests.\u001b[39m\u001b[38;5;124m\"\u001b[39m\n\u001b[1;32m   1281\u001b[0m     \u001b[38;5;28;01mraise\u001b[39;00m StdinNotImplementedError(msg)\n\u001b[0;32m-> 1282\u001b[0m \u001b[38;5;28;01mreturn\u001b[39;00m \u001b[38;5;28;43mself\u001b[39;49m\u001b[38;5;241;43m.\u001b[39;49m\u001b[43m_input_request\u001b[49m\u001b[43m(\u001b[49m\n\u001b[1;32m   1283\u001b[0m \u001b[43m    \u001b[49m\u001b[38;5;28;43mstr\u001b[39;49m\u001b[43m(\u001b[49m\u001b[43mprompt\u001b[49m\u001b[43m)\u001b[49m\u001b[43m,\u001b[49m\n\u001b[1;32m   1284\u001b[0m \u001b[43m    \u001b[49m\u001b[38;5;28;43mself\u001b[39;49m\u001b[38;5;241;43m.\u001b[39;49m\u001b[43m_parent_ident\u001b[49m\u001b[43m[\u001b[49m\u001b[38;5;124;43m\"\u001b[39;49m\u001b[38;5;124;43mshell\u001b[39;49m\u001b[38;5;124;43m\"\u001b[39;49m\u001b[43m]\u001b[49m\u001b[43m,\u001b[49m\n\u001b[1;32m   1285\u001b[0m \u001b[43m    \u001b[49m\u001b[38;5;28;43mself\u001b[39;49m\u001b[38;5;241;43m.\u001b[39;49m\u001b[43mget_parent\u001b[49m\u001b[43m(\u001b[49m\u001b[38;5;124;43m\"\u001b[39;49m\u001b[38;5;124;43mshell\u001b[39;49m\u001b[38;5;124;43m\"\u001b[39;49m\u001b[43m)\u001b[49m\u001b[43m,\u001b[49m\n\u001b[1;32m   1286\u001b[0m \u001b[43m    \u001b[49m\u001b[43mpassword\u001b[49m\u001b[38;5;241;43m=\u001b[39;49m\u001b[38;5;28;43;01mFalse\u001b[39;49;00m\u001b[43m,\u001b[49m\n\u001b[1;32m   1287\u001b[0m \u001b[43m\u001b[49m\u001b[43m)\u001b[49m\n",
      "File \u001b[0;32m~/.local/lib/python3.10/site-packages/ipykernel/kernelbase.py:1325\u001b[0m, in \u001b[0;36mKernel._input_request\u001b[0;34m(self, prompt, ident, parent, password)\u001b[0m\n\u001b[1;32m   1322\u001b[0m \u001b[38;5;28;01mexcept\u001b[39;00m \u001b[38;5;167;01mKeyboardInterrupt\u001b[39;00m:\n\u001b[1;32m   1323\u001b[0m     \u001b[38;5;66;03m# re-raise KeyboardInterrupt, to truncate traceback\u001b[39;00m\n\u001b[1;32m   1324\u001b[0m     msg \u001b[38;5;241m=\u001b[39m \u001b[38;5;124m\"\u001b[39m\u001b[38;5;124mInterrupted by user\u001b[39m\u001b[38;5;124m\"\u001b[39m\n\u001b[0;32m-> 1325\u001b[0m     \u001b[38;5;28;01mraise\u001b[39;00m \u001b[38;5;167;01mKeyboardInterrupt\u001b[39;00m(msg) \u001b[38;5;28;01mfrom\u001b[39;00m\u001b[38;5;250m \u001b[39m\u001b[38;5;28;01mNone\u001b[39;00m\n\u001b[1;32m   1326\u001b[0m \u001b[38;5;28;01mexcept\u001b[39;00m \u001b[38;5;167;01mException\u001b[39;00m:\n\u001b[1;32m   1327\u001b[0m     \u001b[38;5;28mself\u001b[39m\u001b[38;5;241m.\u001b[39mlog\u001b[38;5;241m.\u001b[39mwarning(\u001b[38;5;124m\"\u001b[39m\u001b[38;5;124mInvalid Message:\u001b[39m\u001b[38;5;124m\"\u001b[39m, exc_info\u001b[38;5;241m=\u001b[39m\u001b[38;5;28;01mTrue\u001b[39;00m)\n",
      "\u001b[0;31mKeyboardInterrupt\u001b[0m: Interrupted by user"
     ]
    }
   ],
   "source": [
    "# Test your solution here\n",
    "matrix, row_map, col_map = make_shape(3)\n",
    "board = board_build(matrix, row_map, col_map)\n",
    "while True:\n",
    "    relative_location = parse_location(input(\"\"))\n",
    "    move_piece(board, 1, relative_location)\n",
    "    board = board_build(matrix, row_map, col_map)"
   ]
  },
  {
   "cell_type": "code",
   "execution_count": null,
   "metadata": {},
   "outputs": [],
   "source": []
  },
  {
   "cell_type": "markdown",
   "metadata": {},
   "source": [
    "*Exercise 9:* Use all of the previous exercises to implement a full tic-tac-toe game, where an appropriate board is drawn, 2 players are repeatedly asked for a location coordinates of where they wish to place a mark, and the game status is checked until a player wins or a draw occurs. (10 Points)"
   ]
  },
  {
   "cell_type": "code",
   "execution_count": 695,
   "metadata": {},
   "outputs": [],
   "source": [
    "# Write you solution here\n",
    "def make_shape(n):\n",
    "    # Initialize the variables, and create the matrix.\n",
    "    empty=0\n",
    "    matrix = [[empty*n]*n for i in range(n)]\n",
    "\n",
    "    # Row and Col maps =============================\n",
    "    row_map = {\n",
    "        0: 'A',\n",
    "        1: 'B',\n",
    "        2: 'C'\n",
    "    }\n",
    "    col_map = list(range(1,n+1))\n",
    "    # Row and Col maps =============================\n",
    "    return matrix, row_map, col_map\n",
    "\n",
    "        \n",
    "def board_build(matrix, row_map, col_map):\n",
    "    # Board Shape =============================================================\n",
    "    size=len(matrix)\n",
    "    print()\n",
    "    for i in range(size):\n",
    "        print(\"   \",col_map[i], end=\" \")\n",
    "\n",
    "    print()\n",
    "    print(\"   ---\"*size)\n",
    "    for i in range(len(matrix)):\n",
    "        print(row_map[i], end=\"\")\n",
    "        \n",
    "        for k in range(size):\n",
    "            print(f\" | {matrix[i][k]} |\",end=\"\")\n",
    "        print()\n",
    "        print(\"\", end=\"\")\n",
    "        print(\"   ---\"*size)\n",
    "    print()\n",
    "    return matrix\n",
    "    # Board Shape =============================================================\n",
    "\n",
    "def move_piece(board, Player_num, relative_location):\n",
    "    piece_map = {\n",
    "        1:\"X\",\n",
    "        2:\"O\"\n",
    "    }\n",
    "    x,y=relative_location\n",
    "    if Player_num not in piece_map:\n",
    "        return False\n",
    "\n",
    "    if board[x][y] not in piece_map.values():\n",
    "        board[x][y]= piece_map[Player_num]\n",
    "        return True\n",
    "    else:\n",
    "        return False\n",
    "    return board\n",
    "\n",
    "# Location =============================================================\n",
    "def parse_location(l_string):\n",
    "    # Row and Col maps =============================\n",
    "    row_map = {\n",
    "        'A': 0,\n",
    "        'B': 1,\n",
    "        'C': 2\n",
    "    }\n",
    "    col_map = {\n",
    "        '1':0,\n",
    "        '2':1,\n",
    "        '3':2\n",
    "    }\n",
    "    # Row and Col maps =============================        \n",
    "    \n",
    "    if not isinstance(l_string, str):\n",
    "        raise ValueError(\"Must be a string.\")\n",
    "    if len(l_string)!=2:\n",
    "        raise ValueError(\"Must be a length of two characters.\")\n",
    "\n",
    "    row=l_string[0].upper().strip()\n",
    "    col=l_string[1].upper().strip()\n",
    "\n",
    "    if not row in row_map:\n",
    "        raise ValueError(\"not in row map\")\n",
    "    if not col in col_map:\n",
    "        raise ValueError(\"not in col map\")\n",
    "        \n",
    "    relative_location = list([row_map[row], col_map[col]])\n",
    "    print(row_map[row], col_map[col])\n",
    "    return relative_location\n",
    "# Location ============================================================="
   ]
  },
  {
   "cell_type": "code",
   "execution_count": 700,
   "metadata": {},
   "outputs": [
    {
     "name": "stdout",
     "output_type": "stream",
     "text": [
      "\n",
      "    1     2     3 \n",
      "   ---   ---   ---\n",
      "A | 0 | | 0 | | 0 |\n",
      "   ---   ---   ---\n",
      "B | 0 | | 0 | | 0 |\n",
      "   ---   ---   ---\n",
      "C | 0 | | 0 | | 0 |\n",
      "   ---   ---   ---\n",
      "\n"
     ]
    },
    {
     "name": "stdin",
     "output_type": "stream",
     "text": [
      "Type 1 or 2 1\n"
     ]
    },
    {
     "name": "stdout",
     "output_type": "stream",
     "text": [
      "Player 1's turn:\n",
      "\n",
      "====================================\n",
      "Enter in a field position\n"
     ]
    },
    {
     "name": "stdin",
     "output_type": "stream",
     "text": [
      " A1\n"
     ]
    },
    {
     "name": "stdout",
     "output_type": "stream",
     "text": [
      "0 0\n",
      "\n",
      "    1     2     3 \n",
      "   ---   ---   ---\n",
      "A | X | | 0 | | 0 |\n",
      "   ---   ---   ---\n",
      "B | 0 | | 0 | | 0 |\n",
      "   ---   ---   ---\n",
      "C | 0 | | 0 | | 0 |\n",
      "   ---   ---   ---\n",
      "\n"
     ]
    },
    {
     "name": "stdin",
     "output_type": "stream",
     "text": [
      "Type 1 or 2 2\n"
     ]
    },
    {
     "name": "stdout",
     "output_type": "stream",
     "text": [
      "Player 2's turn:\n",
      "\n",
      "====================================\n",
      "Enter in a field position\n"
     ]
    },
    {
     "name": "stdin",
     "output_type": "stream",
     "text": [
      " B3\n"
     ]
    },
    {
     "name": "stdout",
     "output_type": "stream",
     "text": [
      "1 2\n",
      "\n",
      "    1     2     3 \n",
      "   ---   ---   ---\n",
      "A | X | | 0 | | 0 |\n",
      "   ---   ---   ---\n",
      "B | 0 | | 0 | | O |\n",
      "   ---   ---   ---\n",
      "C | 0 | | 0 | | 0 |\n",
      "   ---   ---   ---\n",
      "\n"
     ]
    },
    {
     "ename": "KeyboardInterrupt",
     "evalue": "Interrupted by user",
     "output_type": "error",
     "traceback": [
      "\u001b[0;31m---------------------------------------------------------------------------\u001b[0m",
      "\u001b[0;31mKeyboardInterrupt\u001b[0m                         Traceback (most recent call last)",
      "Cell \u001b[0;32mIn[700], line 5\u001b[0m\n\u001b[1;32m      3\u001b[0m board \u001b[38;5;241m=\u001b[39m board_build(matrix, row_map, col_map)\n\u001b[1;32m      4\u001b[0m \u001b[38;5;28;01mwhile\u001b[39;00m \u001b[38;5;28;01mTrue\u001b[39;00m:\n\u001b[0;32m----> 5\u001b[0m     player \u001b[38;5;241m=\u001b[39m \u001b[38;5;28mint\u001b[39m(\u001b[38;5;28;43minput\u001b[39;49m\u001b[43m(\u001b[49m\u001b[38;5;124;43m\"\u001b[39;49m\u001b[38;5;124;43mType 1 or 2\u001b[39;49m\u001b[38;5;124;43m\"\u001b[39;49m\u001b[43m)\u001b[49m)\n\u001b[1;32m      6\u001b[0m     \u001b[38;5;28mprint\u001b[39m(\u001b[38;5;124mf\u001b[39m\u001b[38;5;124m\"\u001b[39m\u001b[38;5;124mPlayer \u001b[39m\u001b[38;5;132;01m{\u001b[39;00mplayer\u001b[38;5;132;01m}\u001b[39;00m\u001b[38;5;124m'\u001b[39m\u001b[38;5;124ms turn:\u001b[39m\u001b[38;5;130;01m\\n\u001b[39;00m\u001b[38;5;124m\"\u001b[39m)\n\u001b[1;32m      7\u001b[0m     \u001b[38;5;28mprint\u001b[39m(\u001b[38;5;124m\"\u001b[39m\u001b[38;5;124m====================================\u001b[39m\u001b[38;5;124m\"\u001b[39m)\n",
      "File \u001b[0;32m~/.local/lib/python3.10/site-packages/ipykernel/kernelbase.py:1282\u001b[0m, in \u001b[0;36mKernel.raw_input\u001b[0;34m(self, prompt)\u001b[0m\n\u001b[1;32m   1280\u001b[0m     msg \u001b[38;5;241m=\u001b[39m \u001b[38;5;124m\"\u001b[39m\u001b[38;5;124mraw_input was called, but this frontend does not support input requests.\u001b[39m\u001b[38;5;124m\"\u001b[39m\n\u001b[1;32m   1281\u001b[0m     \u001b[38;5;28;01mraise\u001b[39;00m StdinNotImplementedError(msg)\n\u001b[0;32m-> 1282\u001b[0m \u001b[38;5;28;01mreturn\u001b[39;00m \u001b[38;5;28;43mself\u001b[39;49m\u001b[38;5;241;43m.\u001b[39;49m\u001b[43m_input_request\u001b[49m\u001b[43m(\u001b[49m\n\u001b[1;32m   1283\u001b[0m \u001b[43m    \u001b[49m\u001b[38;5;28;43mstr\u001b[39;49m\u001b[43m(\u001b[49m\u001b[43mprompt\u001b[49m\u001b[43m)\u001b[49m\u001b[43m,\u001b[49m\n\u001b[1;32m   1284\u001b[0m \u001b[43m    \u001b[49m\u001b[38;5;28;43mself\u001b[39;49m\u001b[38;5;241;43m.\u001b[39;49m\u001b[43m_parent_ident\u001b[49m\u001b[43m[\u001b[49m\u001b[38;5;124;43m\"\u001b[39;49m\u001b[38;5;124;43mshell\u001b[39;49m\u001b[38;5;124;43m\"\u001b[39;49m\u001b[43m]\u001b[49m\u001b[43m,\u001b[49m\n\u001b[1;32m   1285\u001b[0m \u001b[43m    \u001b[49m\u001b[38;5;28;43mself\u001b[39;49m\u001b[38;5;241;43m.\u001b[39;49m\u001b[43mget_parent\u001b[49m\u001b[43m(\u001b[49m\u001b[38;5;124;43m\"\u001b[39;49m\u001b[38;5;124;43mshell\u001b[39;49m\u001b[38;5;124;43m\"\u001b[39;49m\u001b[43m)\u001b[49m\u001b[43m,\u001b[49m\n\u001b[1;32m   1286\u001b[0m \u001b[43m    \u001b[49m\u001b[43mpassword\u001b[49m\u001b[38;5;241;43m=\u001b[39;49m\u001b[38;5;28;43;01mFalse\u001b[39;49;00m\u001b[43m,\u001b[49m\n\u001b[1;32m   1287\u001b[0m \u001b[43m\u001b[49m\u001b[43m)\u001b[49m\n",
      "File \u001b[0;32m~/.local/lib/python3.10/site-packages/ipykernel/kernelbase.py:1325\u001b[0m, in \u001b[0;36mKernel._input_request\u001b[0;34m(self, prompt, ident, parent, password)\u001b[0m\n\u001b[1;32m   1322\u001b[0m \u001b[38;5;28;01mexcept\u001b[39;00m \u001b[38;5;167;01mKeyboardInterrupt\u001b[39;00m:\n\u001b[1;32m   1323\u001b[0m     \u001b[38;5;66;03m# re-raise KeyboardInterrupt, to truncate traceback\u001b[39;00m\n\u001b[1;32m   1324\u001b[0m     msg \u001b[38;5;241m=\u001b[39m \u001b[38;5;124m\"\u001b[39m\u001b[38;5;124mInterrupted by user\u001b[39m\u001b[38;5;124m\"\u001b[39m\n\u001b[0;32m-> 1325\u001b[0m     \u001b[38;5;28;01mraise\u001b[39;00m \u001b[38;5;167;01mKeyboardInterrupt\u001b[39;00m(msg) \u001b[38;5;28;01mfrom\u001b[39;00m\u001b[38;5;250m \u001b[39m\u001b[38;5;28;01mNone\u001b[39;00m\n\u001b[1;32m   1326\u001b[0m \u001b[38;5;28;01mexcept\u001b[39;00m \u001b[38;5;167;01mException\u001b[39;00m:\n\u001b[1;32m   1327\u001b[0m     \u001b[38;5;28mself\u001b[39m\u001b[38;5;241m.\u001b[39mlog\u001b[38;5;241m.\u001b[39mwarning(\u001b[38;5;124m\"\u001b[39m\u001b[38;5;124mInvalid Message:\u001b[39m\u001b[38;5;124m\"\u001b[39m, exc_info\u001b[38;5;241m=\u001b[39m\u001b[38;5;28;01mTrue\u001b[39;00m)\n",
      "\u001b[0;31mKeyboardInterrupt\u001b[0m: Interrupted by user"
     ]
    }
   ],
   "source": [
    "# Test your solution here\n",
    "matrix, row_map, col_map = make_shape(3)\n",
    "board = board_build(matrix, row_map, col_map)\n",
    "while True:\n",
    "    player = int(input(\"Type 1 or 2\"))\n",
    "    print(f\"Player {player}'s turn:\\n\")\n",
    "    print(\"====================================\")\n",
    "\n",
    "    print(\"Enter in a field position\")\n",
    "    relative_location = parse_location(input(\"\"))\n",
    "    move_piece(board, player, relative_location)\n",
    "    board = board_build(matrix, row_map, col_map)"
   ]
  },
  {
   "cell_type": "markdown",
   "metadata": {},
   "source": [
    "*Exercise 10:* Test that your game works for 5x5 Tic Tac Toe.  (10 Points)"
   ]
  },
  {
   "cell_type": "code",
   "execution_count": null,
   "metadata": {
    "collapsed": true,
    "jupyter": {
     "outputs_hidden": true
    }
   },
   "outputs": [],
   "source": [
    "# Test your solution here"
   ]
  },
  {
   "cell_type": "markdown",
   "metadata": {},
   "source": [
    "*Exercise 11:* (Advanced / Challenge) Develop a version of the game where one player is the computer. Note that you don't need to do an extensive seach for the best move. You can have the computer simply protect against loosing and otherwise try to win with straight or diagonal patterns. (Bonus 10 Points)"
   ]
  },
  {
   "cell_type": "code",
   "execution_count": null,
   "metadata": {
    "collapsed": true,
    "jupyter": {
     "outputs_hidden": true
    }
   },
   "outputs": [],
   "source": [
    "# Write you solution here"
   ]
  },
  {
   "cell_type": "code",
   "execution_count": null,
   "metadata": {
    "collapsed": true,
    "jupyter": {
     "outputs_hidden": true
    }
   },
   "outputs": [],
   "source": [
    "# Test your solution here"
   ]
  }
 ],
 "metadata": {
  "kernelspec": {
   "display_name": "Python 3 (ipykernel)",
   "language": "python",
   "name": "python3"
  },
  "language_info": {
   "codemirror_mode": {
    "name": "ipython",
    "version": 3
   },
   "file_extension": ".py",
   "mimetype": "text/x-python",
   "name": "python",
   "nbconvert_exporter": "python",
   "pygments_lexer": "ipython3",
   "version": "3.10.12"
  }
 },
 "nbformat": 4,
 "nbformat_minor": 4
}
