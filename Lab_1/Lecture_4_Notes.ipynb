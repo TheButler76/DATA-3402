{
 "cells": [
  {
   "cell_type": "markdown",
   "id": "a7114277-6ac2-4723-aa8a-a3e8428679d4",
   "metadata": {},
   "source": [
    "# Welcome! These are the annotated notes from lecture 2 (2025 - 08 - 20)"
   ]
  },
  {
   "cell_type": "markdown",
   "id": "97c4bcd3-86bb-4ae5-92f7-27893bfc28b7",
   "metadata": {},
   "source": [
    "# Goal\n",
    ">##### Represent checker board pieces in memory, and then write a function to create a game board with the pieces in the starting position. Function.\n",
    ">##### Build a 8x8 board, top pieces start from the 1th element, the botthom starts from the 0th element. Each are spaced by one element, and there are three rows for each. There should be two empty rows in the middle. This is a function.\n",
    ">##### Pieces may only move ones space diagonally. This is a function.\n",
    ">##### Define conventions to move pieces in a human freindly way."
   ]
  },
  {
   "cell_type": "markdown",
   "id": "5d8c2c78-b8ac-4813-a6bf-668f751fe408",
   "metadata": {},
   "source": [
    "#### Make a note after every cell."
   ]
  },
  {
   "cell_type": "code",
   "execution_count": 1,
   "id": "18e4320a-f81a-4154-8f63-5cd7b96d46ee",
   "metadata": {},
   "outputs": [],
   "source": [
    "Player_1=1\n",
    "Player_2=2\n",
    "empty=0\n",
    "size=8"
   ]
  },
  {
   "cell_type": "markdown",
   "id": "6111e6c3-df6a-4267-84df-270d7dc69d2f",
   "metadata": {},
   "source": [
    "#### Made a board variable using list comprehension "
   ]
  },
  {
   "cell_type": "code",
   "execution_count": 2,
   "id": "64e11326-cfe3-4141-9d93-af91f4137947",
   "metadata": {},
   "outputs": [
    {
     "data": {
      "text/plain": [
       "[[0, 0, 0, 0, 0, 0, 0, 0],\n",
       " [0, 0, 0, 0, 0, 0, 0, 0],\n",
       " [0, 0, 0, 0, 0, 0, 0, 0],\n",
       " [0, 0, 0, 0, 0, 0, 0, 0],\n",
       " [0, 0, 0, 0, 0, 0, 0, 0],\n",
       " [0, 0, 0, 0, 0, 0, 0, 0],\n",
       " [0, 0, 0, 0, 0, 0, 0, 0],\n",
       " [0, 0, 0, 0, 0, 0, 0, 0]]"
      ]
     },
     "execution_count": 2,
     "metadata": {},
     "output_type": "execute_result"
    }
   ],
   "source": [
    "board = list([empty*size]*size for i in range(size))\n",
    "board"
   ]
  },
  {
   "cell_type": "markdown",
   "id": "30cd918c-8c04-4779-9789-e55fcd98ee9b",
   "metadata": {},
   "source": [
    "#### test to see how we can start placing Player 1 positions."
   ]
  },
  {
   "cell_type": "code",
   "execution_count": 3,
   "id": "04acc505-115b-42ac-a2a4-7024be5b586c",
   "metadata": {},
   "outputs": [
    {
     "data": {
      "text/plain": [
       "[0, 0, 0, 0, 0, 0, 0, 0]"
      ]
     },
     "execution_count": 3,
     "metadata": {},
     "output_type": "execute_result"
    }
   ],
   "source": [
    "board[0]"
   ]
  },
  {
   "cell_type": "markdown",
   "id": "6f3cece0-9534-4e9f-ae28-dbb1e573452c",
   "metadata": {},
   "source": [
    "#### Loops and function that place the Player 1 & 2 positions on the board."
   ]
  },
  {
   "cell_type": "code",
   "execution_count": 4,
   "id": "6a0fd76c-1206-401c-9795-f5e6e305b83a",
   "metadata": {},
   "outputs": [
    {
     "data": {
      "text/plain": [
       "[[0, 1, 0, 1, 0, 1, 0, 1],\n",
       " [1, 0, 1, 0, 1, 0, 1, 0],\n",
       " [0, 1, 0, 1, 0, 1, 0, 1],\n",
       " [0, 0, 0, 0, 0, 0, 0, 0],\n",
       " [0, 0, 0, 0, 0, 0, 0, 0],\n",
       " [2, 0, 2, 0, 2, 0, 2, 0],\n",
       " [0, 2, 0, 2, 0, 2, 0, 2],\n",
       " [2, 0, 2, 0, 2, 0, 2, 0]]"
      ]
     },
     "execution_count": 4,
     "metadata": {},
     "output_type": "execute_result"
    }
   ],
   "source": [
    "def make_game_board():\n",
    "    # Makes an empty board\n",
    "    board = list([empty*size]*size for i in range(size))\n",
    "\n",
    "    # Even columns\n",
    "    for i in range(0,size,2):\n",
    "        board[1][i]=Player_1\n",
    "        board[-1][i]=Player_2\n",
    "        board[-3][i]=Player_2\n",
    "\n",
    "    # Odd Columns\n",
    "    for i in range(1,size,2):\n",
    "        board[0][i]=Player_1\n",
    "        board[2][i]=Player_1\n",
    "        board[-2][i]=Player_2\n",
    "\n",
    "    return board\n",
    "make_game_board()"
   ]
  },
  {
   "cell_type": "code",
   "execution_count": 5,
   "id": "a3153e91-b81d-4c46-ad61-64d4ca859840",
   "metadata": {},
   "outputs": [
    {
     "data": {
      "text/plain": [
       "[[0, 1, 0, 1, 0, 1, 0, 1],\n",
       " [1, 0, 1, 0, 1, 0, 1, 0],\n",
       " [0, 1, 0, 1, 0, 1, 0, 1],\n",
       " [0, 0, 0, 0, 0, 0, 0, 0],\n",
       " [0, 0, 0, 0, 0, 0, 0, 0],\n",
       " [2, 0, 2, 0, 2, 0, 2, 0],\n",
       " [0, 2, 0, 2, 0, 2, 0, 2],\n",
       " [2, 0, 2, 0, 2, 0, 2, 0]]"
      ]
     },
     "execution_count": 5,
     "metadata": {},
     "output_type": "execute_result"
    }
   ],
   "source": [
    "board_0=make_game_board()\n",
    "board_0"
   ]
  },
  {
   "cell_type": "markdown",
   "id": "204d29c2-0b55-48af-8ecc-2e404a5ebf56",
   "metadata": {},
   "source": [
    "# Game Rules\n",
    ">#### How the pieces move\n",
    ">##### Commit variables to memory. `left_move` & `right_move`"
   ]
  },
  {
   "cell_type": "markdown",
   "id": "ad14eb95",
   "metadata": {},
   "source": [
    "##### Optional function we can create to make player moves (personally, I do not recommend)."
   ]
  },
  {
   "cell_type": "code",
   "execution_count": 6,
   "id": "4b361217-2da2-434a-b422-c799c79551c0",
   "metadata": {},
   "outputs": [],
   "source": [
    "left_move=0\n",
    "right_move=1\n",
    "\n",
    "def player_moves(player, direction):\n",
    "    if player == Player_1:\n",
    "        if direction == left_move:\n",
    "            return (1,1)\n",
    "        elif direction == right_move:\n",
    "            return (1,-1)\n",
    "\n",
    "    if player == Player_2:\n",
    "        if direction == left_move:\n",
    "            return (-1,-1)\n",
    "        elif direction == right_move:\n",
    "            return (-1,1)"
   ]
  },
  {
   "cell_type": "markdown",
   "id": "b16bc744-3ac2-42ba-b98f-ef64a1562497",
   "metadata": {},
   "source": [
    "##### Generate a move dictionary that we will use to play our game (preferred method)."
   ]
  },
  {
   "cell_type": "code",
   "execution_count": 7,
   "id": "d1954931-d84c-451b-bb05-9d86c7eeb9bd",
   "metadata": {},
   "outputs": [
    {
     "data": {
      "text/plain": [
       "{1: {0: (1, 1), 1: (1, -1)}, 2: {0: (-1, -1), 1: (-1, 1)}}"
      ]
     },
     "execution_count": 7,
     "metadata": {},
     "output_type": "execute_result"
    }
   ],
   "source": [
    "player_1_left_move=(1,1)\n",
    "player_1_right_move=(1,-1)\n",
    "\n",
    "player_2_left_move=(-1,-1)\n",
    "player_2_right_move=(-1,1)\n",
    "\n",
    "moves={\n",
    "    Player_1:{\n",
    "        left_move:player_1_left_move,\n",
    "        right_move:player_1_right_move\n",
    "    },\n",
    "    Player_2:{\n",
    "        left_move:player_2_left_move,\n",
    "        right_move:player_2_right_move\n",
    "    }\n",
    "}\n",
    "moves"
   ]
  },
  {
   "cell_type": "markdown",
   "id": "ffae695e",
   "metadata": {},
   "source": [
    "##### I made a for loop that illustrates what each move does, this won't be used in our project and is just for reference."
   ]
  },
  {
   "cell_type": "code",
   "execution_count": 8,
   "id": "5f68adcd-a454-4bc6-92f1-059cc4960125",
   "metadata": {},
   "outputs": [
    {
     "name": "stdout",
     "output_type": "stream",
     "text": [
      "Player 1 moves:  {0: (1, 1), 1: (1, -1)}\n",
      "Left:  (1, 1)\n",
      "Right:  (1, -1)\n",
      "Player 2 moves:  {0: (-1, -1), 1: (-1, 1)}\n",
      "Left:  (-1, -1)\n",
      "Right:  (-1, 1)\n"
     ]
    }
   ],
   "source": [
    "for key in moves:\n",
    "    if key == Player_1:\n",
    "        print(\"Player 1 moves: \", moves[Player_1])\n",
    "        print(\"Left: \", moves[Player_1][left_move])\n",
    "        print(\"Right: \", moves[Player_1][right_move])\n",
    "\n",
    "    elif key == Player_2:\n",
    "        print(\"Player 2 moves: \", moves[Player_2])\n",
    "        print(\"Left: \", moves[Player_2][left_move])\n",
    "        print(\"Right: \", moves[Player_2][right_move])"
   ]
  },
  {
   "cell_type": "markdown",
   "id": "6ed471c1",
   "metadata": {},
   "source": [
    "### Start of Lecture 3 (2025-08-25)"
   ]
  },
  {
   "cell_type": "markdown",
   "id": "9eb8f9f6",
   "metadata": {},
   "source": [
    "### Questions to ask:\n",
    "> 1.) How many variables do we need?\n",
    ">> * boards, players, pieces, location, direction.\n",
    "\n",
    "> 2.) Coding part (each dot represents a function):\n",
    ">> * (a) Check player's pieces at correct location, or not.\n",
    ">> * (b) Fetch the offset for the move.\n",
    ">>> (x & y are the coordinators) (x,y) -> (x_new, y_new) (x_new = x + delta_x) (y_new = y + delta_y)\n",
    ">>> More about the logic: Checker pieces can only move in a diagonal from the furthest row first. We fetch the offset for each move.\n",
    ">> * (c) Add logic to prevent the moves from exceeding the bounds of the board. In other words, keep the pieces on the board.\n",
    ">> * (d) If the target is empty, move the piece by emptying the starting position. After, we place the piece in the target.\n",
    ">> * (e) If the target is filled with the opponent's piece, but the next target space along the diagonal is empty, empty the start, remove the target and place next along the diagonal.\n",
    ">> * (f) If there is an invalid move, return to False. Otherwise, return to True."
   ]
  },
  {
   "cell_type": "markdown",
   "id": "fafd4b98",
   "metadata": {},
   "source": [
    "##### Following the steps"
   ]
  },
  {
   "cell_type": "code",
   "execution_count": 9,
   "id": "8891f9b1",
   "metadata": {},
   "outputs": [],
   "source": [
    "player_1_left_move=(1,1)\n",
    "player_1_right_move=(1,-1)\n",
    "\n",
    "player_2_left_move=(-1,-1)\n",
    "player_2_right_move=(-1,1)\n",
    "\n",
    "moves={\n",
    "    Player_1:{\n",
    "        left_move:player_1_left_move,\n",
    "        right_move:player_1_right_move\n",
    "    },\n",
    "    Player_2:{\n",
    "        left_move:player_2_left_move,\n",
    "        right_move:player_2_right_move\n",
    "    }\n",
    "}"
   ]
  },
  {
   "cell_type": "code",
   "execution_count": 10,
   "id": "99a538b2",
   "metadata": {},
   "outputs": [],
   "source": [
    "def print_message(message, verbose=True):\n",
    "    if verbose:\n",
    "        print(message)"
   ]
  },
  {
   "cell_type": "code",
   "execution_count": 76,
   "id": "2b41fd5d",
   "metadata": {},
   "outputs": [],
   "source": [
    "def move_piece(board, player, location, move, verbose=True):\n",
    "    #============================================================================================#\n",
    "    #============================================================================================#\n",
    "    # First we need to know the location. The x & y.\n",
    "    x,y=location\n",
    "    \n",
    "    # Check if player's piece is at correct location.\n",
    "    if board[x][y]!=player:\n",
    "        print_message('Player does not have pieces at correct location.', verbose)\n",
    "        return False\n",
    "    \n",
    "    # Continue with the moving logic. Fetch the moveset dictionary so that we can start to our moves.\n",
    "    # remember that in these initializations, we use the function arguements to map our our dictionary keys and vals.\n",
    "    # The dictionary keys and vals match the function arguements, in other words, so we can map them out.\n",
    "    x_offset,y_offset=moves[player][move]\n",
    "    \n",
    "    #============================================================================================#\n",
    "    #============================================================================================#\n",
    "    # Make sure the move is on the board.\n",
    "    # For each move, x & y delta is less than size of board, and it must be greater than or equal to zero.\n",
    "    move_possible=x+x_offset<size and\\\n",
    "                  x+x_offset>=0 and\\\n",
    "                  y+y_offset<size and\\\n",
    "                  y+y_offset>=0\n",
    "    \n",
    "    # We jump from one position, to the next two positions. For each x and y, we have two unique changes.\n",
    "    jump_possible=x+2*x_offset<size and\\\n",
    "                  x+2*x_offset>0 and\\\n",
    "                  y+2*y_offset<size and\\\n",
    "                  y+2*y_offset>0 \n",
    "    \n",
    "    # if we cant move, that means the move would land us out of the bounds of the board.\n",
    "    if not(move_possible or jump_possible):\n",
    "        print_message('Move is out of the board.', verbose)\n",
    "        return False\n",
    "    #============================================================================================#\n",
    "    #============================================================================================#\n",
    "    # Try the move.\n",
    "    # If the move is possible, and the board space is empty, fill it up. (we do that math of the offset to check)...\n",
    "    if move_possible and \\\n",
    "        board[x+x_offset][y+y_offset]==empty:\n",
    "        \n",
    "        # The board space is now zero/empty...\n",
    "        board[x][y]=empty\n",
    "        \n",
    "        # The target spot is filled with the player.\n",
    "        board[x+x_offset][y+y_offset]=player\n",
    "        print_message(\"Moved.\", verbose)\n",
    "        return True\n",
    "    #============================================================================================#\n",
    "    #============================================================================================#\n",
    "    # Does the target space have an opponent's piece, and the diagonal space after it is empty?\n",
    "    elif jump_possible and \\\n",
    "    board[x+x_offset][y+y_offset]!=player and \\\n",
    "    board[x+2*x_offset][y+2*y_offset]==empty:\n",
    "        \n",
    "        # Make the move and empty the spot.\n",
    "        board[x][y]=empty\n",
    "        \n",
    "        # Remove the opponent's piece.\n",
    "        board[x+x_offset][y+y_offset]=empty\n",
    "\n",
    "        # Place the player in the opponent's position.\n",
    "        board[x+2*x_offset][y+2*y_offset]=player\n",
    "        print_message(\"Jumped over opponent and took their piece.\", verbose)\n",
    "        return True\n",
    "\n",
    "    else:\n",
    "        print_message(\"Move not possible\", verbose)\n",
    "        return False\n",
    "\n",
    "        \n",
    "        "
   ]
  },
  {
   "cell_type": "code",
   "execution_count": 77,
   "id": "2705c4e6",
   "metadata": {},
   "outputs": [
    {
     "data": {
      "text/plain": [
       "[[0, 1, 0, 1, 0, 1, 0, 1],\n",
       " [1, 0, 1, 0, 1, 0, 1, 0],\n",
       " [0, 1, 0, 1, 0, 1, 0, 1],\n",
       " [0, 0, 0, 0, 0, 0, 0, 0],\n",
       " [0, 0, 0, 0, 0, 0, 0, 0],\n",
       " [2, 0, 2, 0, 2, 0, 2, 0],\n",
       " [0, 2, 0, 2, 0, 2, 0, 2],\n",
       " [2, 0, 2, 0, 2, 0, 2, 0]]"
      ]
     },
     "execution_count": 77,
     "metadata": {},
     "output_type": "execute_result"
    }
   ],
   "source": [
    "board_0=make_game_board()\n",
    "board_0"
   ]
  },
  {
   "cell_type": "code",
   "execution_count": 78,
   "id": "0a7467af",
   "metadata": {},
   "outputs": [
    {
     "name": "stdout",
     "output_type": "stream",
     "text": [
      "Moved.\n"
     ]
    },
    {
     "data": {
      "text/plain": [
       "True"
      ]
     },
     "execution_count": 78,
     "metadata": {},
     "output_type": "execute_result"
    }
   ],
   "source": [
    "# moving Player_1 left\n",
    "move_piece(board_0, Player_1, (2,1), left_move)\n"
   ]
  },
  {
   "cell_type": "code",
   "execution_count": 79,
   "id": "b55f6bcc",
   "metadata": {},
   "outputs": [
    {
     "data": {
      "text/plain": [
       "[[0, 1, 0, 1, 0, 1, 0, 1],\n",
       " [1, 0, 1, 0, 1, 0, 1, 0],\n",
       " [0, 0, 0, 1, 0, 1, 0, 1],\n",
       " [0, 0, 1, 0, 0, 0, 0, 0],\n",
       " [0, 0, 0, 0, 0, 0, 0, 0],\n",
       " [2, 0, 2, 0, 2, 0, 2, 0],\n",
       " [0, 2, 0, 2, 0, 2, 0, 2],\n",
       " [2, 0, 2, 0, 2, 0, 2, 0]]"
      ]
     },
     "execution_count": 79,
     "metadata": {},
     "output_type": "execute_result"
    }
   ],
   "source": [
    "board_0"
   ]
  },
  {
   "cell_type": "code",
   "execution_count": 80,
   "id": "544ae12f",
   "metadata": {},
   "outputs": [
    {
     "name": "stdout",
     "output_type": "stream",
     "text": [
      "Moved.\n"
     ]
    },
    {
     "data": {
      "text/plain": [
       "[[0, 1, 0, 1, 0, 1, 0, 1],\n",
       " [1, 0, 1, 0, 1, 0, 1, 0],\n",
       " [0, 0, 0, 1, 0, 1, 0, 1],\n",
       " [0, 0, 1, 0, 0, 0, 0, 0],\n",
       " [0, 0, 0, 2, 0, 0, 0, 0],\n",
       " [2, 0, 2, 0, 0, 0, 2, 0],\n",
       " [0, 2, 0, 2, 0, 2, 0, 2],\n",
       " [2, 0, 2, 0, 2, 0, 2, 0]]"
      ]
     },
     "execution_count": 80,
     "metadata": {},
     "output_type": "execute_result"
    }
   ],
   "source": [
    "# Moving Player 2 left\n",
    "move_piece(board_0, Player_2, (5,4), left_move)\n",
    "board_0"
   ]
  },
  {
   "cell_type": "markdown",
   "id": "0ec5e37e",
   "metadata": {},
   "source": [
    "#### Start of Lecture 4: Optimization"
   ]
  },
  {
   "cell_type": "markdown",
   "id": "62c154bb",
   "metadata": {},
   "source": [
    "##### We want to try to eliminate a piece now."
   ]
  },
  {
   "cell_type": "code",
   "execution_count": 81,
   "id": "863bf881",
   "metadata": {},
   "outputs": [
    {
     "name": "stdout",
     "output_type": "stream",
     "text": [
      "Jumped over opponent and took their piece.\n"
     ]
    },
    {
     "data": {
      "text/plain": [
       "[[0, 1, 0, 1, 0, 1, 0, 1],\n",
       " [1, 0, 1, 0, 1, 0, 1, 0],\n",
       " [0, 0, 0, 1, 0, 1, 0, 1],\n",
       " [0, 0, 0, 0, 0, 0, 0, 0],\n",
       " [0, 0, 0, 0, 0, 0, 0, 0],\n",
       " [2, 0, 2, 0, 1, 0, 2, 0],\n",
       " [0, 2, 0, 2, 0, 2, 0, 2],\n",
       " [2, 0, 2, 0, 2, 0, 2, 0]]"
      ]
     },
     "execution_count": 81,
     "metadata": {},
     "output_type": "execute_result"
    }
   ],
   "source": [
    "# note that we have to call the function each cell, which is annoying.\n",
    "move_piece(board_0, Player_1, (3,2), left_move)\n",
    "board_0"
   ]
  },
  {
   "cell_type": "markdown",
   "id": "097d616c",
   "metadata": {},
   "source": [
    "#### We must optimize this workflow so that we don't have to call the function every cell."
   ]
  },
  {
   "cell_type": "markdown",
   "id": "076fcd42",
   "metadata": {},
   "source": [
    "> ##### 1.) Pieces\n",
    "> ##### 2.) Board\n",
    "> ##### 3.) User Experience\n"
   ]
  },
  {
   "cell_type": "code",
   "execution_count": 82,
   "id": "45f7bd3b",
   "metadata": {},
   "outputs": [],
   "source": [
    "# Rename characters\n",
    "Player_1_piece = 'X'\n",
    "Player_2_piece = 'O'\n",
    "empty_space=' '\n",
    "board_0=make_game_board()"
   ]
  },
  {
   "cell_type": "code",
   "execution_count": 83,
   "id": "9f62fc81",
   "metadata": {},
   "outputs": [],
   "source": [
    "# Define chars\n",
    "def space_character(player):\n",
    "    if player==Player_1:\n",
    "        return Player_1_piece\n",
    "    elif player==Player_2:\n",
    "        return Player_2_piece\n",
    "    \n",
    "    else:\n",
    "        return empty_space"
   ]
  },
  {
   "cell_type": "code",
   "execution_count": 84,
   "id": "1f2bf853",
   "metadata": {},
   "outputs": [
    {
     "data": {
      "text/plain": [
       "{1: 'X', 2: 'O', 0: ' '}"
      ]
     },
     "execution_count": 84,
     "metadata": {},
     "output_type": "execute_result"
    }
   ],
   "source": [
    "space_character={\n",
    "    Player_1: Player_1_piece,\n",
    "    Player_2: Player_2_piece,\n",
    "    empty: empty_space\n",
    "}\n",
    "space_character"
   ]
  },
  {
   "cell_type": "code",
   "execution_count": 85,
   "id": "d2d52679",
   "metadata": {},
   "outputs": [
    {
     "name": "stdout",
     "output_type": "stream",
     "text": [
      " X X X X\n",
      "X X X X \n",
      " X X X X\n",
      "        \n",
      "        \n",
      "O O O O \n",
      " O O O O\n",
      "O O O O \n"
     ]
    }
   ],
   "source": [
    "def draw_board(board):\n",
    "    for i in range(size): #column\n",
    "        for j in range(size): #row\n",
    "            print(space_character[board[i][j]], end='')\n",
    "        print()\n",
    "draw_board(board_0)"
   ]
  },
  {
   "cell_type": "code",
   "execution_count": 86,
   "id": "cbad6330",
   "metadata": {},
   "outputs": [
    {
     "data": {
      "text/plain": [
       "{'A': 0, 'B': 1, 'C': 2, 'D': 3, 'E': 4, 'F': 5, 'G': 6, 'H': 7}"
      ]
     },
     "execution_count": 86,
     "metadata": {},
     "output_type": "execute_result"
    }
   ],
   "source": [
    "# We need to make it better for the user by reindexing with the alphabet.\n",
    "row_names=list('ABCDEFGHIJKLMNOPQRSTUVWXYZ')\n",
    "# assign map to be a dictionary by zipping the row_names list.\n",
    "row_map=dict(zip(row_names, range(size)))\n",
    "row_map\n",
    "# Optionally, you can create a dictionary manually. That is too long though\n"
   ]
  },
  {
   "cell_type": "code",
   "execution_count": 87,
   "id": "b5ab5138",
   "metadata": {},
   "outputs": [
    {
     "data": {
      "text/plain": [
       "[0, 1, 2, 3, 4, 5, 6, 7]"
      ]
     },
     "execution_count": 87,
     "metadata": {},
     "output_type": "execute_result"
    }
   ],
   "source": [
    "# Just double-checkinig if the lengths match\n",
    "list(range(size))"
   ]
  },
  {
   "cell_type": "code",
   "execution_count": 88,
   "id": "1b04fe94",
   "metadata": {},
   "outputs": [
    {
     "data": {
      "text/plain": [
       "[('A', 0),\n",
       " ('B', 1),\n",
       " ('C', 2),\n",
       " ('D', 3),\n",
       " ('E', 4),\n",
       " ('F', 5),\n",
       " ('G', 6),\n",
       " ('H', 7)]"
      ]
     },
     "execution_count": 88,
     "metadata": {},
     "output_type": "execute_result"
    }
   ],
   "source": [
    "list(zip(row_names, range(size)))"
   ]
  },
  {
   "cell_type": "code",
   "execution_count": 89,
   "id": "cc3e5c7a",
   "metadata": {},
   "outputs": [
    {
     "data": {
      "text/plain": [
       "{'A': 0, 'B': 1, 'C': 2, 'D': 3, 'E': 4, 'F': 5, 'G': 6, 'H': 7}"
      ]
     },
     "execution_count": 89,
     "metadata": {},
     "output_type": "execute_result"
    }
   ],
   "source": [
    "dict(zip(row_names, range(size)))"
   ]
  },
  {
   "cell_type": "code",
   "execution_count": 90,
   "id": "9c9cf2e8",
   "metadata": {},
   "outputs": [
    {
     "data": {
      "text/plain": [
       "{'1': 0, '2': 1, '3': 2, '4': 3, '5': 4, '6': 5, '7': 6, '8': 7}"
      ]
     },
     "execution_count": 90,
     "metadata": {},
     "output_type": "execute_result"
    }
   ],
   "source": [
    "column_names=list(map(str, range(1, size+1)))\n",
    "column_map=dict(zip(column_names, range(size)))\n",
    "column_map\n",
    "# The keys are the columns, which are represented by the Python list syntax.\n",
    "# e.g. board[0-7]. There is a length of 8, and so, we make the keys in the dict literally from 1-8.\n",
    "# This is to avoid confusion for the player."
   ]
  },
  {
   "cell_type": "markdown",
   "id": "51ce7df7",
   "metadata": {},
   "source": [
    "#### draw our board"
   ]
  },
  {
   "cell_type": "code",
   "execution_count": 91,
   "id": "0661d241",
   "metadata": {},
   "outputs": [
    {
     "name": "stdout",
     "output_type": "stream",
     "text": [
      "  1 2 3 4 5 6 7 8 \n",
      "A   X   X   X   X \n",
      "B X   X   X   X   \n",
      "C   X   X   X   X \n",
      "D                 \n",
      "E                 \n",
      "F O   O   O   O   \n",
      "G   O   O   O   O \n",
      "H O   O   O   O   \n"
     ]
    }
   ],
   "source": [
    "def draw_board(board):\n",
    "    print(\" \", end=' ')\n",
    "    for j in range(size):\n",
    "        print(column_names[j], end=' ')\n",
    "    print()\n",
    "    \n",
    "    for i in range(size):\n",
    "        print(row_names[i], end=' ')\n",
    "        for j in range(size):\n",
    "            print(space_character[board[i][j]], end=' ')\n",
    "        print()\n",
    "draw_board(board_0)"
   ]
  },
  {
   "cell_type": "markdown",
   "id": "e605dda5",
   "metadata": {},
   "source": [
    "###### User experience"
   ]
  },
  {
   "cell_type": "code",
   "execution_count": 92,
   "id": "85dcc1ad",
   "metadata": {},
   "outputs": [],
   "source": [
    "# l_string is location string.\n",
    "def parse_location(l_string):\n",
    "    if not isinstance(l_string, str):\n",
    "        print_message(\"Bad Input. Location must be a string.\")\n",
    "        return False\n",
    "\n",
    "    if len(l_string)!= 2:\n",
    "        print_message(\"Bad Input. Location must be two characters.\")\n",
    "        return False\n",
    "        \n",
    "    row=l_string[0].upper()\n",
    "    col=l_string[1].upper()\n",
    "    \n",
    "    if not row in row_names:\n",
    "        print_message(f\"Bad Row. Not in the list: {print(row_names)}\")\n",
    "        return False\n",
    "    if not col in column_names:\n",
    "        print_message(f\"Bad Column. Not in the list: {print(column_names)}\")\n",
    "        return False\n",
    "    \n",
    "    return row_map[row], column_map[col]\n",
    "\n",
    "                    \n",
    "        "
   ]
  },
  {
   "cell_type": "code",
   "execution_count": 93,
   "id": "e30260f6",
   "metadata": {},
   "outputs": [
    {
     "data": {
      "text/plain": [
       "(1, 1)"
      ]
     },
     "execution_count": 93,
     "metadata": {},
     "output_type": "execute_result"
    }
   ],
   "source": [
    "parse_location(\"B2\")"
   ]
  },
  {
   "cell_type": "code",
   "execution_count": 94,
   "id": "c6ab21de",
   "metadata": {},
   "outputs": [],
   "source": [
    "#### We want to make it easier for the user, so we can change the left and right move definitions."
   ]
  },
  {
   "cell_type": "code",
   "execution_count": 95,
   "id": "48e82c1a",
   "metadata": {},
   "outputs": [],
   "source": [
    "# m_string is move direction. Left or Right.\n",
    "def parse_move(m_string):\n",
    "    if not isinstance(m_string, str):\n",
    "        print_message(\"Bad Input. Location must be string.\")\n",
    "        return -1 # or False\n",
    "    \n",
    "    if len(m_string)!= 1:\n",
    "        print_message(\"Bad Input. Location must be one string.\")\n",
    "        return -1 # or False\n",
    "    \n",
    "    if m_string.upper()==\"L\":\n",
    "        return left_move\n",
    "    if m_string.upper()==\"R\":\n",
    "        return right_move\n",
    "    \n",
    "    print_message(\"Bad Move. Must be R/L.\")\n",
    "    \n",
    "    return -1"
   ]
  },
  {
   "cell_type": "code",
   "execution_count": 101,
   "id": "6a1cee07",
   "metadata": {},
   "outputs": [],
   "source": [
    "def nice_move_piece(board, player, location, move):\n",
    "    loc=parse_location(location)\n",
    "    mov=parse_move(move)\n",
    "    \n",
    "    if loc and mov != -1:\n",
    "        return move_piece(board, player, loc, mov)\n",
    "    else:\n",
    "        print_message(\"Bad Move.\")\n",
    "        return False"
   ]
  },
  {
   "cell_type": "code",
   "execution_count": 102,
   "id": "6408a87e",
   "metadata": {},
   "outputs": [
    {
     "name": "stdout",
     "output_type": "stream",
     "text": [
      "  1 2 3 4 5 6 7 8 \n",
      "A   X   X   X   X \n",
      "B X   X   X   X   \n",
      "C   X   X   X   X \n",
      "D                 \n",
      "E                 \n",
      "F O   O   O   O   \n",
      "G   O   O   O   O \n",
      "H O   O   O   O   \n",
      "Moved.\n"
     ]
    },
    {
     "data": {
      "text/plain": [
       "True"
      ]
     },
     "execution_count": 102,
     "metadata": {},
     "output_type": "execute_result"
    }
   ],
   "source": [
    "board_0=make_game_board()\n",
    "draw_board(board_0)\n",
    "nice_move_piece(board_0, Player_1, \"C4\", \"R\")"
   ]
  },
  {
   "cell_type": "code",
   "execution_count": 103,
   "id": "56f2a938",
   "metadata": {},
   "outputs": [],
   "source": [
    "def take_move(board, player):\n",
    "    good_move=False\n",
    "    \n",
    "    while not good_move:\n",
    "        loc_str=input(\"Input Location: \")\n",
    "        mov_str=input(\"Input Move: \")\n",
    "        \n",
    "        good_move=nice_move_piece(board, player, loc_str, mov_str)\n",
    "        "
   ]
  },
  {
   "cell_type": "code",
   "execution_count": 105,
   "id": "a5d08636",
   "metadata": {},
   "outputs": [],
   "source": [
    "def count_piece(board, player):\n",
    "    # Counts the pieces for player 1 and player 2\n",
    "    n=0\n",
    "    for i in range(size):\n",
    "        for j in range(size):\n",
    "            if board[i][j]==player:\n",
    "                n+=1\n",
    "    return n\n",
    "\n",
    "def game_won(board):\n",
    "    Player_1_n=count_piece(board,Player_1)\n",
    "    Player_2_n=count_piece(board,Player_2)\n",
    "    \n",
    "    if Player_1_n==0:\n",
    "        return Player_2\n",
    "    if Player_2_n==0:\n",
    "        return Player_1\n",
    "    \n",
    "    return False"
   ]
  },
  {
   "cell_type": "code",
   "execution_count": null,
   "id": "b417c157",
   "metadata": {},
   "outputs": [
    {
     "name": "stdout",
     "output_type": "stream",
     "text": [
      "Welcome to the Checkers Game.\n",
      "--------------------------------------\n",
      "  1 2 3 4 5 6 7 8 \n",
      "A   X   X   X   X \n",
      "B X   X   X   X   \n",
      "C   X   X   X   X \n",
      "D                 \n",
      "E                 \n",
      "F O   O   O   O   \n",
      "G   O   O   O   O \n",
      "H O   O   O   O   \n",
      "Input Location: C4\n",
      "Input Move: L\n",
      "Moved.\n",
      "  1 2 3 4 5 6 7 8 \n",
      "A   X   X   X   X \n",
      "B X   X   X   X   \n",
      "C   X       X   X \n",
      "D         X       \n",
      "E                 \n",
      "F O   O   O   O   \n",
      "G   O   O   O   O \n",
      "H O   O   O   O   \n",
      "Input Location: C3\n",
      "Input Move: L\n",
      "Player does not have pieces at correct location.\n",
      "Input Location: C4\n",
      "Input Move: L\n",
      "Player does not have pieces at correct location.\n",
      "Input Location: C6\n",
      "Input Move: R\n",
      "Player does not have pieces at correct location.\n",
      "Input Location: \n",
      "Input Move: G2\n",
      "Bad Input. Location must be two characters.\n",
      "Bad Input. Location must be one string.\n",
      "Bad Move.\n"
     ]
    }
   ],
   "source": [
    "def checkers_game():\n",
    "    \n",
    "    print(\"Welcome to the Checkers Game.\")\n",
    "    print(\"--------------------------------------\")\n",
    "    \n",
    "    # make a game board\n",
    "    board_0 = make_game_board()\n",
    "    \n",
    "    # Start with Player_1\n",
    "    player=Player_1\n",
    "    \n",
    "    this_game_won=False\n",
    "    \n",
    "    while not this_game_won:\n",
    "        # start the game\n",
    "        draw_board(board_0)\n",
    "        \n",
    "        #take the piece\n",
    "        take_move(board_0, player)\n",
    "        \n",
    "        this_game_won=game_won(board_0)\n",
    "        \n",
    "        if player==Player_1:\n",
    "            player=Player_2\n",
    "            \n",
    "        else:\n",
    "            player=Player_1\n",
    "            \n",
    "            \n",
    "    print(\"Winner is player: \", this_game_won())\n",
    "    \n",
    "checkers_game()"
   ]
  },
  {
   "cell_type": "code",
   "execution_count": null,
   "id": "42c5d517",
   "metadata": {},
   "outputs": [],
   "source": []
  }
 ],
 "metadata": {
  "kernelspec": {
   "display_name": "Python 3 (ipykernel)",
   "language": "python",
   "name": "python3"
  },
  "language_info": {
   "codemirror_mode": {
    "name": "ipython",
    "version": 3
   },
   "file_extension": ".py",
   "mimetype": "text/x-python",
   "name": "python",
   "nbconvert_exporter": "python",
   "pygments_lexer": "ipython3",
   "version": "3.12.3"
  }
 },
 "nbformat": 4,
 "nbformat_minor": 5
}
