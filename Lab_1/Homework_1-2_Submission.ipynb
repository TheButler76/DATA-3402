{
 "cells": [
  {
   "cell_type": "code",
   "execution_count": 5,
   "id": "aa9c2fdc-cde7-49dd-9a97-6a9294d3a413",
   "metadata": {},
   "outputs": [],
   "source": [
    "# Variables represent spaces on the checker board.\n",
    "empty=0\n",
    "## game board size\n",
    "size=8\n",
    "\n",
    "# Chess Piece dictionary. \n",
    "\"\"\"\n",
    "Here, the chess pieces are ordered in a list.\n",
    "The values of this dictionary has to be a list,\n",
    "so that we can use loop logic.\n",
    "\"\"\"\n",
    "Pieces = { \n",
    "    \"White\": [\"WP\", \"WR\", \"WN\", \"WB\", \"WQ\", \"WK\"],\n",
    "    \"Black\": [\"BP\", \"BR\", \"BN\", \"BB\", \"BQ\", \"BK\"]\n",
    "}"
   ]
  },
  {
   "cell_type": "code",
   "execution_count": 6,
   "id": "13a8e5d9-028f-45fe-9b9d-86502202d616",
   "metadata": {},
   "outputs": [
    {
     "data": {
      "text/plain": [
       "[['BR', 'BN', 'BB', 'BQ', 'BK', 'BB', 'BN', 'BR'],\n",
       " ['BP', 'BP', 'BP', 'BP', 'BP', 'BP', 'BP', 'BP'],\n",
       " [0, 0, 0, 0, 0, 0, 0, 0],\n",
       " [0, 0, 0, 0, 0, 0, 0, 0],\n",
       " [0, 0, 0, 0, 0, 0, 0, 0],\n",
       " [0, 0, 0, 0, 0, 0, 0, 0],\n",
       " ['WP', 'WP', 'WP', 'WP', 'WP', 'WP', 'WP', 'WP'],\n",
       " ['WR', 'WN', 'WB', 'WQ', 'WK', 'WB', 'WN', 'WR']]"
      ]
     },
     "execution_count": 6,
     "metadata": {},
     "output_type": "execute_result"
    }
   ],
   "source": [
    "def create_board(size):\n",
    "    # Creates an empty 8x8 board\n",
    "    board=[[empty]*size for i in range(size)]\n",
    "\n",
    "    # Loops through the dict and appends chess pieces to their place on the 8x8 board.\n",
    "    for color in Pieces.keys():\n",
    "        if color == \"Black\":\n",
    "            # Sets Pawns in place.\n",
    "            board[1]=[Pieces[color][0] for i in range(size)]\n",
    "    \n",
    "            # Sets other chess pieces in place using list slicing.\n",
    "            board[0][0:8:7]=[Pieces[color][1] for i in range(2)]\n",
    "            board[0][1:7:5]=[Pieces[color][2] for i in range(2)]\n",
    "            board[0][2:6:3]=[Pieces[color][3] for i in range(2)]\n",
    "            board[0][3]=Pieces[color][4]\n",
    "            board[0][4]=Pieces[color][5]\n",
    "            \n",
    "        if color == \"White\":\n",
    "            # Sets Pawns in place.\n",
    "            board[-2]=[Pieces[color][0] for i in range(size)]\n",
    "            \n",
    "            # Sets other chess pieces in place using list slicing.\n",
    "            board[7][0:8:7]=[Pieces[color][1] for i in range(2)]\n",
    "            board[7][1:7:5]=[Pieces[color][2] for i in range(2)]\n",
    "            board[7][2:6:3]=[Pieces[color][3] for i in range(2)]\n",
    "            board[7][3]=Pieces[color][4]\n",
    "            board[7][4]=Pieces[color][5]\n",
    "    return board\n",
    "create_board(size)"
   ]
  },
  {
   "cell_type": "code",
   "execution_count": 9,
   "id": "2b52acd9-e919-4ed2-97cc-3d06d4fa02ce",
   "metadata": {},
   "outputs": [
    {
     "data": {
      "text/plain": [
       "[['BR', 'BN', 'BB', 'BQ', 'BK', 'BB', 'BN', 'BR'],\n",
       " ['BP', 'BP', 'BP', 'BP', 'BP', 'BP', 'BP', 'BP'],\n",
       " [0, 0, 0, 0, 0, 0, 0, 0],\n",
       " [0, 0, 0, 0, 0, 0, 0, 0],\n",
       " [0, 0, 0, 0, 0, 0, 0, 0],\n",
       " [0, 0, 0, 0, 0, 0, 0, 0],\n",
       " ['WP', 'WP', 'WP', 'WP', 'WP', 'WP', 'WP', 'WP'],\n",
       " ['WR', 'WN', 'WB', 'WQ', 'WK', 'WB', 'WN', 'WR']]"
      ]
     },
     "execution_count": 9,
     "metadata": {},
     "output_type": "execute_result"
    }
   ],
   "source": [
    "# We can create a fresh board by initializing a new variable\n",
    "board=create_board(size)\n",
    "board"
   ]
  }
 ],
 "metadata": {
  "kernelspec": {
   "display_name": "Python 3 (ipykernel)",
   "language": "python",
   "name": "python3"
  },
  "language_info": {
   "codemirror_mode": {
    "name": "ipython",
    "version": 3
   },
   "file_extension": ".py",
   "mimetype": "text/x-python",
   "name": "python",
   "nbconvert_exporter": "python",
   "pygments_lexer": "ipython3",
   "version": "3.12.3"
  }
 },
 "nbformat": 4,
 "nbformat_minor": 5
}
