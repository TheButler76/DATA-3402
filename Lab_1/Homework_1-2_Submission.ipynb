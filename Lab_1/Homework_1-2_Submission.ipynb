{
 "cells": [
  {
   "cell_type": "code",
   "execution_count": 245,
   "id": "aa9c2fdc-cde7-49dd-9a97-6a9294d3a413",
   "metadata": {},
   "outputs": [],
   "source": [
    "# Variables represent spaces on the checker board.\n",
    "empty=0\n",
    "## game board size\n",
    "size=8\n",
    "\n",
    "# Chess Piece dictionary. \n",
    "# Here, the chess pieces are ordered in the orientation of a chess board.\n",
    "# In other words, the order of this dictionary is important because it makes looping easy.\n",
    "Pieces = { \n",
    "    \"White\": [\"WP\", \"WR\", \"WN\", \"WB\", \"WQ\", \"WK\"],\n",
    "    \"Black\": [\"BP\", \"BR\", \"BN\", \"BB\", \"BQ\", \"BK\"]\n",
    "}"
   ]
  },
  {
   "cell_type": "code",
   "execution_count": 244,
   "id": "13a8e5d9-028f-45fe-9b9d-86502202d616",
   "metadata": {},
   "outputs": [
    {
     "data": {
      "text/plain": [
       "[['BR', 'BN', 'BB', 'BQ', 'BK', 'BB', 'BN', 'BR'],\n",
       " ['BP', 'BP', 'BP', 'BP', 'BP', 'BP', 'BP', 'BP'],\n",
       " [0, 0, 0, 0, 0, 0, 0, 0],\n",
       " [0, 0, 0, 0, 0, 0, 0, 0],\n",
       " [0, 0, 0, 0, 0, 0, 0, 0],\n",
       " [0, 0, 0, 0, 0, 0, 0, 0],\n",
       " ['WP', 'WP', 'WP', 'WP', 'WP', 'WP', 'WP', 'WP'],\n",
       " ['WR', 'WN', 'WB', 'WQ', 'WK', 'WB', 'WN', 'WR']]"
      ]
     },
     "execution_count": 244,
     "metadata": {},
     "output_type": "execute_result"
    }
   ],
   "source": [
    "def create_board(size):\n",
    "    # Creates an empty 8x8 board\n",
    "    board=[[empty]*size for i in range(size)]\n",
    "\n",
    "    # Loops through the dict and appends chess pieces to their place on the 8x8 board.\n",
    "    for color in Pieces.keys():\n",
    "        if color == \"Black\":\n",
    "            # Sets Pawns in place.\n",
    "            board[1]=[Pieces[color][0] for i in range(size)]\n",
    "    \n",
    "            # Sets other chess pieces in place.\n",
    "            board[0][0:8:7]=[Pieces[color][1] for i in range(2)]\n",
    "            board[0][1:7:5]=[Pieces[color][2] for i in range(2)]\n",
    "            board[0][2:6:3]=[Pieces[color][3] for i in range(2)]\n",
    "            board[0][3]=Pieces[color][4]\n",
    "            board[0][4]=Pieces[color][5]\n",
    "            \n",
    "        if color == \"White\":\n",
    "            # Sets Pawns in place.\n",
    "            board[-2]=[Pieces[color][0] for i in range(size)]\n",
    "            \n",
    "            # Sets other chess pieces in place.\n",
    "            board[7][0:8:7]=[Pieces[color][1] for i in range(2)]\n",
    "            board[7][1:7:5]=[Pieces[color][2] for i in range(2)]\n",
    "            board[7][2:6:3]=[Pieces[color][3] for i in range(2)]\n",
    "            board[7][3]=Pieces[color][4]\n",
    "            board[7][4]=Pieces[color][5]\n",
    "    return board\n",
    "create_board(size)"
   ]
  }
 ],
 "metadata": {
  "kernelspec": {
   "display_name": "Python 3 (ipykernel)",
   "language": "python",
   "name": "python3"
  },
  "language_info": {
   "codemirror_mode": {
    "name": "ipython",
    "version": 3
   },
   "file_extension": ".py",
   "mimetype": "text/x-python",
   "name": "python",
   "nbconvert_exporter": "python",
   "pygments_lexer": "ipython3",
   "version": "3.10.12"
  }
 },
 "nbformat": 4,
 "nbformat_minor": 5
}
