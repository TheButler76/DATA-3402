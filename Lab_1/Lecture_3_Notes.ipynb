{
 "cells": [
  {
   "cell_type": "markdown",
   "id": "a7114277-6ac2-4723-aa8a-a3e8428679d4",
   "metadata": {},
   "source": [
    "# Welcome! These are the annotated notes from lecture 2 (2025 - 08 - 20)"
   ]
  },
  {
   "cell_type": "markdown",
   "id": "97c4bcd3-86bb-4ae5-92f7-27893bfc28b7",
   "metadata": {},
   "source": [
    "# Goal\n",
    ">##### Represent checker board pieces in memory, and then write a function to create a game board with the pieces in the starting position. Function.\n",
    ">##### Build a 8x8 board, top pieces start from the 1th element, the botthom starts from the 0th element. Each are spaced by one element, and there are three rows for each. There should be two empty rows in the middle. This is a function.\n",
    ">##### Pieces may only move ones space diagonally. This is a function.\n",
    ">##### Define conventions to move pieces in a human freindly way."
   ]
  },
  {
   "cell_type": "markdown",
   "id": "5d8c2c78-b8ac-4813-a6bf-668f751fe408",
   "metadata": {},
   "source": [
    "#### Make a note after every cell."
   ]
  },
  {
   "cell_type": "code",
   "execution_count": 2,
   "id": "18e4320a-f81a-4154-8f63-5cd7b96d46ee",
   "metadata": {},
   "outputs": [],
   "source": [
    "Player_1=1\n",
    "Player_2=2\n",
    "empty=0\n",
    "size=8"
   ]
  },
  {
   "cell_type": "markdown",
   "id": "6111e6c3-df6a-4267-84df-270d7dc69d2f",
   "metadata": {},
   "source": [
    "#### Made a board variable using list comprehension "
   ]
  },
  {
   "cell_type": "code",
   "execution_count": 3,
   "id": "64e11326-cfe3-4141-9d93-af91f4137947",
   "metadata": {},
   "outputs": [
    {
     "data": {
      "text/plain": [
       "[[0, 0, 0, 0, 0, 0, 0, 0],\n",
       " [0, 0, 0, 0, 0, 0, 0, 0],\n",
       " [0, 0, 0, 0, 0, 0, 0, 0],\n",
       " [0, 0, 0, 0, 0, 0, 0, 0],\n",
       " [0, 0, 0, 0, 0, 0, 0, 0],\n",
       " [0, 0, 0, 0, 0, 0, 0, 0],\n",
       " [0, 0, 0, 0, 0, 0, 0, 0],\n",
       " [0, 0, 0, 0, 0, 0, 0, 0]]"
      ]
     },
     "execution_count": 3,
     "metadata": {},
     "output_type": "execute_result"
    }
   ],
   "source": [
    "board = list([empty*size]*size for i in range(size))\n",
    "board"
   ]
  },
  {
   "cell_type": "markdown",
   "id": "30cd918c-8c04-4779-9789-e55fcd98ee9b",
   "metadata": {},
   "source": [
    "#### test to see how we can start placing Player 1 positions."
   ]
  },
  {
   "cell_type": "code",
   "execution_count": 4,
   "id": "04acc505-115b-42ac-a2a4-7024be5b586c",
   "metadata": {},
   "outputs": [
    {
     "data": {
      "text/plain": [
       "[0, 0, 0, 0, 0, 0, 0, 0]"
      ]
     },
     "execution_count": 4,
     "metadata": {},
     "output_type": "execute_result"
    }
   ],
   "source": [
    "board[0]"
   ]
  },
  {
   "cell_type": "markdown",
   "id": "6f3cece0-9534-4e9f-ae28-dbb1e573452c",
   "metadata": {},
   "source": [
    "#### Loops and function that place the Player 1 & 2 positions on the board."
   ]
  },
  {
   "cell_type": "code",
   "execution_count": 5,
   "id": "6a0fd76c-1206-401c-9795-f5e6e305b83a",
   "metadata": {},
   "outputs": [
    {
     "data": {
      "text/plain": [
       "[[0, 1, 0, 1, 0, 1, 0, 1],\n",
       " [1, 0, 1, 0, 1, 0, 1, 0],\n",
       " [0, 1, 0, 1, 0, 1, 0, 1],\n",
       " [0, 0, 0, 0, 0, 0, 0, 0],\n",
       " [0, 0, 0, 0, 0, 0, 0, 0],\n",
       " [2, 0, 2, 0, 2, 0, 2, 0],\n",
       " [0, 2, 0, 2, 0, 2, 0, 2],\n",
       " [2, 0, 2, 0, 2, 0, 2, 0]]"
      ]
     },
     "execution_count": 5,
     "metadata": {},
     "output_type": "execute_result"
    }
   ],
   "source": [
    "def make_game_board():\n",
    "    # Makes an empty board\n",
    "    board = list([empty*size]*size for i in range(size))\n",
    "\n",
    "    # Even columns\n",
    "    for i in range(0,size,2):\n",
    "        board[1][i]=Player_1\n",
    "        board[-1][i]=Player_2\n",
    "        board[-3][i]=Player_2\n",
    "\n",
    "    # Odd Columns\n",
    "    for i in range(1,size,2):\n",
    "        board[0][i]=Player_1\n",
    "        board[2][i]=Player_1\n",
    "        board[-2][i]=Player_2\n",
    "\n",
    "    return board\n",
    "make_game_board()"
   ]
  },
  {
   "cell_type": "code",
   "execution_count": 6,
   "id": "a3153e91-b81d-4c46-ad61-64d4ca859840",
   "metadata": {},
   "outputs": [
    {
     "data": {
      "text/plain": [
       "[[0, 1, 0, 1, 0, 1, 0, 1],\n",
       " [1, 0, 1, 0, 1, 0, 1, 0],\n",
       " [0, 1, 0, 1, 0, 1, 0, 1],\n",
       " [0, 0, 0, 0, 0, 0, 0, 0],\n",
       " [0, 0, 0, 0, 0, 0, 0, 0],\n",
       " [2, 0, 2, 0, 2, 0, 2, 0],\n",
       " [0, 2, 0, 2, 0, 2, 0, 2],\n",
       " [2, 0, 2, 0, 2, 0, 2, 0]]"
      ]
     },
     "execution_count": 6,
     "metadata": {},
     "output_type": "execute_result"
    }
   ],
   "source": [
    "board_0=make_game_board()\n",
    "board_0"
   ]
  },
  {
   "cell_type": "markdown",
   "id": "204d29c2-0b55-48af-8ecc-2e404a5ebf56",
   "metadata": {},
   "source": [
    "# Game Rules\n",
    ">#### How the pieces move\n",
    ">##### Commit variables to memory. `left_move` & `right_move`"
   ]
  },
  {
   "cell_type": "markdown",
   "id": "ad14eb95",
   "metadata": {},
   "source": [
    "##### Optional function we can create to make player moves (personally, I do not recommend)."
   ]
  },
  {
   "cell_type": "code",
   "execution_count": 7,
   "id": "4b361217-2da2-434a-b422-c799c79551c0",
   "metadata": {},
   "outputs": [],
   "source": [
    "left_move=0\n",
    "right_move=1\n",
    "\n",
    "def player_moves(player, direction):\n",
    "    if player == Player_1:\n",
    "        if direction == left_move:\n",
    "            return (1,1)\n",
    "        elif direction == right_move:\n",
    "            return (1,-1)\n",
    "\n",
    "    if player == Player_2:\n",
    "        if direction == left_move:\n",
    "            return (-1,-1)\n",
    "        elif direction == right_move:\n",
    "            return (-1,1)"
   ]
  },
  {
   "cell_type": "markdown",
   "id": "b16bc744-3ac2-42ba-b98f-ef64a1562497",
   "metadata": {},
   "source": [
    "##### Generate a move dictionary that we will use to play our game (preferred method)."
   ]
  },
  {
   "cell_type": "code",
   "execution_count": 17,
   "id": "d1954931-d84c-451b-bb05-9d86c7eeb9bd",
   "metadata": {},
   "outputs": [
    {
     "data": {
      "text/plain": [
       "{1: {0: (1, 1), 1: (1, -1)}, 2: {0: (-1, -1), 1: (-1, 1)}}"
      ]
     },
     "execution_count": 17,
     "metadata": {},
     "output_type": "execute_result"
    }
   ],
   "source": [
    "player_1_left_move=(1,1)\n",
    "player_1_right_move=(1,-1)\n",
    "\n",
    "player_2_left_move=(-1,-1)\n",
    "player_2_right_move=(-1,1)\n",
    "\n",
    "moves={\n",
    "    Player_1:{\n",
    "        left_move:player_1_left_move,\n",
    "        right_move:player_1_right_move\n",
    "    },\n",
    "    Player_2:{\n",
    "        left_move:player_2_left_move,\n",
    "        right_move:player_2_right_move\n",
    "    }\n",
    "}\n",
    "moves"
   ]
  },
  {
   "cell_type": "markdown",
   "id": "ffae695e",
   "metadata": {},
   "source": [
    "##### I made a for loop that illustrates what each move does, this won't be used in our project and is just for reference."
   ]
  },
  {
   "cell_type": "code",
   "execution_count": 9,
   "id": "5f68adcd-a454-4bc6-92f1-059cc4960125",
   "metadata": {},
   "outputs": [
    {
     "name": "stdout",
     "output_type": "stream",
     "text": [
      "Player 1 moves:  {0: (1, 1), 1: (1, -1)}\n",
      "Left:  (1, 1)\n",
      "Right:  (1, -1)\n",
      "Player 2 moves:  {0: (-1, -1), 1: (-1, 1)}\n",
      "Left:  (-1, -1)\n",
      "Right:  (-1, 1)\n"
     ]
    }
   ],
   "source": [
    "for key in moves:\n",
    "    if key == Player_1:\n",
    "        print(\"Player 1 moves: \", moves[Player_1])\n",
    "        print(\"Left: \", moves[Player_1][left_move])\n",
    "        print(\"Right: \", moves[Player_1][right_move])\n",
    "\n",
    "    elif key == Player_2:\n",
    "        print(\"Player 2 moves: \", moves[Player_2])\n",
    "        print(\"Left: \", moves[Player_2][left_move])\n",
    "        print(\"Right: \", moves[Player_2][right_move])"
   ]
  },
  {
   "cell_type": "markdown",
   "id": "6ed471c1",
   "metadata": {},
   "source": [
    "### Start of Lecture 3 (2025-08-25)"
   ]
  },
  {
   "cell_type": "markdown",
   "id": "9eb8f9f6",
   "metadata": {},
   "source": [
    "### Questions to ask:\n",
    "> 1.) How many variables do we need?\n",
    ">> * boards, players, pieces, location, direction.\n",
    "\n",
    "> 2.) Coding part (each dot represents a function):\n",
    ">> * (a) Check player's pieces at correct location, or not.\n",
    ">> * (b) Fetch the offset for the move.\n",
    ">>> (x & y are the coordinators) (x,y) -> (x_new, y_new) (x_new = x + delta_x) (y_new = y + delta_y)\n",
    ">>> More about the logic: Checker pieces can only move in a diagonal from the furthest row first. We fetch the offset for each move.\n",
    ">> * (c) Add logic to prevent the moves from exceeding the bounds of the board. In other words, keep the pieces on the board.\n",
    ">> * (d) If the target is empty, move the piece by emptying the starting position. After, we place the piece in the target.\n",
    ">> * (e) If the target is filled with the opponent's piece, but the next target space along the diagonal is empty, empty the start, remove the target and place next along the diagonal.\n",
    ">> * (f) If there is an invalid move, return to False. Otherwise, return to True."
   ]
  },
  {
   "cell_type": "markdown",
   "id": "fafd4b98",
   "metadata": {},
   "source": [
    "##### Following the steps"
   ]
  },
  {
   "cell_type": "code",
   "execution_count": null,
   "id": "8891f9b1",
   "metadata": {},
   "outputs": [],
   "source": [
    "player_1_left_move=(1,1)\n",
    "player_1_right_move=(1,-1)\n",
    "\n",
    "player_2_left_move=(-1,-1)\n",
    "player_2_right_move=(-1,1)\n",
    "\n",
    "moves={\n",
    "    Player_1:{\n",
    "        left_move:player_1_left_move,\n",
    "        right_move:player_1_right_move\n",
    "    },\n",
    "    Player_2:{\n",
    "        left_move:player_2_left_move,\n",
    "        right_move:player_2_right_move\n",
    "    }\n",
    "}"
   ]
  },
  {
   "cell_type": "code",
   "execution_count": 10,
   "id": "99a538b2",
   "metadata": {},
   "outputs": [],
   "source": [
    "def print_message(message, verbose=True):\n",
    "    if verbose:\n",
    "        print(message)"
   ]
  },
  {
   "cell_type": "code",
   "execution_count": 12,
   "id": "2b41fd5d",
   "metadata": {},
   "outputs": [],
   "source": [
    "def move_piece(board, player, location, move, verbose=True):\n",
    "    #============================================================================================#\n",
    "    #============================================================================================#\n",
    "    # First we need to know the location. The x & y.\n",
    "    x,y=location\n",
    "    \n",
    "    # Check if player's piece is at correct location.\n",
    "    if board[x][y]!=player:\n",
    "        print_message('Player does not have pieces at correct location.', verbose)\n",
    "        return False\n",
    "    \n",
    "    # Continue with the moving logic. Fetch the moveset dictionary so that we can start to our moves.\n",
    "    # remember that in these initializations, we use the function arguements to map our our dictionary keys and vals.\n",
    "    # The dictionary keys and vals match the function arguements, in other words, so we can map them out.\n",
    "    x_offset,y_offset=moves[player][move]\n",
    "    \n",
    "    #============================================================================================#\n",
    "    #============================================================================================#\n",
    "    # Make sure the move is on the board.\n",
    "    # For each move, x & y delta is less than size of board, and it must be greater than or equal to zero.\n",
    "    move_possible=x+x_offset<size and\\\n",
    "                  x+x_offset>=0 and\\\n",
    "                  y+y_offset<size and\\\n",
    "                  y+y_offset>=0\n",
    "    \n",
    "    # We jump from one position, to the next two positions. For each x and y, we have two unique changes.\n",
    "    jump_possible=x+2*x_offset<size and\\\n",
    "                  x+2*x_offset>0 and\\\n",
    "                  y+2*y_offset<size and\\\n",
    "                  y+2*y_offset>0 \n",
    "    \n",
    "    # if we cant move, that means the move would land us out of the bounds of the board.\n",
    "    if not(move_possible or jump_possible):\n",
    "        print_message('Move is out of the board.', verbose)\n",
    "        return False\n",
    "    #============================================================================================#\n",
    "    #============================================================================================#\n",
    "    # Try the move.\n",
    "    # If the move is possible, and the board space is empty, fill it up. (we do that math of the offset to check)...\n",
    "    if move_possible and \\\n",
    "        board[x+x_offset][y+y_offset]==empty:\n",
    "        \n",
    "        # The board space is now zero/empty...\n",
    "        board[x][y]=empty\n",
    "        \n",
    "        # The target spot is filled with the player.\n",
    "        board[x+x_offset][y+y_offset]=player\n",
    "        print_message(\"Moved.\", verbose)\n",
    "        return True\n",
    "    #============================================================================================#\n",
    "    #============================================================================================#\n",
    "    # Does the target space have an opponent's piece, and the diagonal space after it is empty?\n",
    "    elif jump_possible and \\\n",
    "    board[x+x_offset][y+y_offset]!=player and \\\n",
    "    board[x+2*x_offset][y+2*y_offset]==empty:\n",
    "        \n",
    "        # Make the move and empty the spot.\n",
    "        board[x][y]=empty\n",
    "        \n",
    "        # Remove the opponent's piece.\n",
    "        board[x+x_offset][y+y_offset]=empty\n",
    "\n",
    "        # Place the player in the opponent's position.\n",
    "        board[x+2*x_offset][y+2*y_offset]=player\n",
    "        print_message(\"Jumped over opponent and took their piece.\", verbose)\n",
    "        return True\n",
    "\n",
    "    else:\n",
    "        print_message(\"Move not possible\", verbose)\n",
    "        return False\n",
    "\n",
    "        \n",
    "        "
   ]
  },
  {
   "cell_type": "code",
   "execution_count": 13,
   "id": "2705c4e6",
   "metadata": {},
   "outputs": [
    {
     "data": {
      "text/plain": [
       "[[0, 1, 0, 1, 0, 1, 0, 1],\n",
       " [1, 0, 1, 0, 1, 0, 1, 0],\n",
       " [0, 1, 0, 1, 0, 1, 0, 1],\n",
       " [0, 0, 0, 0, 0, 0, 0, 0],\n",
       " [0, 0, 0, 0, 0, 0, 0, 0],\n",
       " [2, 0, 2, 0, 2, 0, 2, 0],\n",
       " [0, 2, 0, 2, 0, 2, 0, 2],\n",
       " [2, 0, 2, 0, 2, 0, 2, 0]]"
      ]
     },
     "execution_count": 13,
     "metadata": {},
     "output_type": "execute_result"
    }
   ],
   "source": [
    "board_0=make_game_board()\n",
    "board_0"
   ]
  },
  {
   "cell_type": "code",
   "execution_count": 14,
   "id": "0a7467af",
   "metadata": {},
   "outputs": [
    {
     "name": "stdout",
     "output_type": "stream",
     "text": [
      "Moved.\n"
     ]
    },
    {
     "data": {
      "text/plain": [
       "True"
      ]
     },
     "execution_count": 14,
     "metadata": {},
     "output_type": "execute_result"
    }
   ],
   "source": [
    "# moving Player_1 left\n",
    "move_piece(board_0, Player_1, (2,1), left_move)\n"
   ]
  },
  {
   "cell_type": "code",
   "execution_count": 15,
   "id": "b55f6bcc",
   "metadata": {},
   "outputs": [
    {
     "data": {
      "text/plain": [
       "[[0, 1, 0, 1, 0, 1, 0, 1],\n",
       " [1, 0, 1, 0, 1, 0, 1, 0],\n",
       " [0, 0, 0, 1, 0, 1, 0, 1],\n",
       " [0, 0, 1, 0, 0, 0, 0, 0],\n",
       " [0, 0, 0, 0, 0, 0, 0, 0],\n",
       " [2, 0, 2, 0, 2, 0, 2, 0],\n",
       " [0, 2, 0, 2, 0, 2, 0, 2],\n",
       " [2, 0, 2, 0, 2, 0, 2, 0]]"
      ]
     },
     "execution_count": 15,
     "metadata": {},
     "output_type": "execute_result"
    }
   ],
   "source": [
    "board_0"
   ]
  },
  {
   "cell_type": "code",
   "execution_count": 16,
   "id": "544ae12f",
   "metadata": {},
   "outputs": [
    {
     "name": "stdout",
     "output_type": "stream",
     "text": [
      "Moved.\n"
     ]
    },
    {
     "data": {
      "text/plain": [
       "[[0, 1, 0, 1, 0, 1, 0, 1],\n",
       " [1, 0, 1, 0, 1, 0, 1, 0],\n",
       " [0, 0, 0, 1, 0, 1, 0, 1],\n",
       " [0, 0, 1, 0, 0, 0, 0, 0],\n",
       " [0, 0, 0, 2, 0, 0, 0, 0],\n",
       " [2, 0, 2, 0, 0, 0, 2, 0],\n",
       " [0, 2, 0, 2, 0, 2, 0, 2],\n",
       " [2, 0, 2, 0, 2, 0, 2, 0]]"
      ]
     },
     "execution_count": 16,
     "metadata": {},
     "output_type": "execute_result"
    }
   ],
   "source": [
    "# Moving Player 2 left\n",
    "move_piece(board_0, Player_2, (5,4), left_move)\n",
    "board_0"
   ]
  }
 ],
 "metadata": {
  "kernelspec": {
   "display_name": "Python 3 (ipykernel)",
   "language": "python",
   "name": "python3"
  },
  "language_info": {
   "codemirror_mode": {
    "name": "ipython",
    "version": 3
   },
   "file_extension": ".py",
   "mimetype": "text/x-python",
   "name": "python",
   "nbconvert_exporter": "python",
   "pygments_lexer": "ipython3",
   "version": "3.10.12"
  }
 },
 "nbformat": 4,
 "nbformat_minor": 5
}
