{
 "cells": [
  {
   "cell_type": "markdown",
   "id": "cc31429d",
   "metadata": {},
   "source": [
    "#### Python Week 4 - Lecture 2 (Basic Python Functions)"
   ]
  },
  {
   "cell_type": "markdown",
   "id": "05783159",
   "metadata": {},
   "source": [
    "#### What is important: Loop Patterns"
   ]
  },
  {
   "cell_type": "code",
   "execution_count": 3,
   "id": "bbebe252",
   "metadata": {},
   "outputs": [
    {
     "name": "stdout",
     "output_type": "stream",
     "text": [
      "0\n",
      "1\n",
      "2\n",
      "3\n",
      "4\n",
      "5\n",
      "6\n",
      "7\n",
      "8\n",
      "9\n"
     ]
    }
   ],
   "source": [
    "n=10\n",
    "for i in range(n):\n",
    "    print(i)"
   ]
  },
  {
   "cell_type": "code",
   "execution_count": 4,
   "id": "2ab52a18",
   "metadata": {},
   "outputs": [
    {
     "data": {
      "text/plain": [
       "[0, 1, 2, 3, 4, 5, 6, 7, 8, 9]"
      ]
     },
     "execution_count": 4,
     "metadata": {},
     "output_type": "execute_result"
    }
   ],
   "source": [
    "list(range(10))"
   ]
  },
  {
   "cell_type": "code",
   "execution_count": 5,
   "id": "6d91e011",
   "metadata": {},
   "outputs": [
    {
     "name": "stdout",
     "output_type": "stream",
     "text": [
      "a\n",
      "b\n",
      "c\n"
     ]
    }
   ],
   "source": [
    "l = ['a', 'b', 'c']\n",
    "for i in l:\n",
    "    print(i)"
   ]
  },
  {
   "cell_type": "code",
   "execution_count": 7,
   "id": "4cb08d1d",
   "metadata": {},
   "outputs": [
    {
     "name": "stdout",
     "output_type": "stream",
     "text": [
      "a\n",
      "b\n",
      "c\n"
     ]
    }
   ],
   "source": [
    "for i in range(len(l)):\n",
    "    print(l[i])"
   ]
  },
  {
   "cell_type": "code",
   "execution_count": 8,
   "id": "d7d1deb8",
   "metadata": {},
   "outputs": [
    {
     "data": {
      "text/plain": [
       "[(0, 'a'), (1, 'b'), (2, 'c')]"
      ]
     },
     "execution_count": 8,
     "metadata": {},
     "output_type": "execute_result"
    }
   ],
   "source": [
    "# How to show the index of the list\n",
    "list(enumerate(l))"
   ]
  },
  {
   "cell_type": "code",
   "execution_count": 10,
   "id": "11bcd14f",
   "metadata": {},
   "outputs": [
    {
     "name": "stdout",
     "output_type": "stream",
     "text": [
      "0 a\n",
      "1 b\n",
      "2 c\n"
     ]
    }
   ],
   "source": [
    "# For clarity:\n",
    "for i,item in enumerate(l):\n",
    "    print(i,item)"
   ]
  },
  {
   "cell_type": "code",
   "execution_count": 13,
   "id": "e38e1b39",
   "metadata": {},
   "outputs": [
    {
     "name": "stdout",
     "output_type": "stream",
     "text": [
      "A a\n",
      "B b\n",
      "C c\n"
     ]
    }
   ],
   "source": [
    "# How to reassign index locations to items\n",
    "lit_1=['a','b','c']\n",
    "lit_2=['A', 'B', 'C']\n",
    "\n",
    "# We want to use both lists, so we use zip()\n",
    "for lit_1,lit_2 in zip(lit_1, lit_2):\n",
    "    print(lit_2, lit_1)"
   ]
  },
  {
   "cell_type": "code",
   "execution_count": 16,
   "id": "2ae521d1",
   "metadata": {},
   "outputs": [
    {
     "data": {
      "text/plain": [
       "<zip at 0x7e91dc768740>"
      ]
     },
     "execution_count": 16,
     "metadata": {},
     "output_type": "execute_result"
    }
   ],
   "source": [
    "# The purpose of zip is to combine lists\n",
    "lit_1=['a','b','c']\n",
    "lit_2=['A', 'B', 'C']\n",
    "\n",
    "zip(lit_1, lit_2)"
   ]
  },
  {
   "cell_type": "code",
   "execution_count": 17,
   "id": "b54491fe",
   "metadata": {},
   "outputs": [
    {
     "data": {
      "text/plain": [
       "[('a', 'A'), ('b', 'B'), ('c', 'C')]"
      ]
     },
     "execution_count": 17,
     "metadata": {},
     "output_type": "execute_result"
    }
   ],
   "source": [
    "# an example of combining lists\n",
    "list(zip(lit_1, lit_2))"
   ]
  },
  {
   "cell_type": "code",
   "execution_count": 20,
   "id": "46e22863",
   "metadata": {},
   "outputs": [
    {
     "data": {
      "text/plain": [
       "[('H', 'W'), ('e', 'o'), ('l', 'r'), ('l', 'l'), ('o', 'd')]"
      ]
     },
     "execution_count": 20,
     "metadata": {},
     "output_type": "execute_result"
    }
   ],
   "source": [
    "# A string example\n",
    "list(zip(\"Hello\", \"Worlddddd\"))"
   ]
  },
  {
   "cell_type": "markdown",
   "id": "f7a5da05",
   "metadata": {},
   "source": [
    "#### Number to list"
   ]
  },
  {
   "cell_type": "code",
   "execution_count": 24,
   "id": "920c14ee",
   "metadata": {},
   "outputs": [],
   "source": [
    "def odds(max_odd):\n",
    "    # We create an empty list to hold the outputs.\n",
    "    out_list=[]\n",
    "    \n",
    "    for num in range(max_odd):\n",
    "        # Percentage sign is used for division, and returns only the remainder.\n",
    "        if num%2==1:\n",
    "            out_list.append(num)\n",
    "            \n",
    "    return out_list"
   ]
  },
  {
   "cell_type": "code",
   "execution_count": 25,
   "id": "fe829237",
   "metadata": {},
   "outputs": [
    {
     "data": {
      "text/plain": [
       "[1, 3, 5, 7, 9, 11, 13]"
      ]
     },
     "execution_count": 25,
     "metadata": {},
     "output_type": "execute_result"
    }
   ],
   "source": [
    "odds(15)"
   ]
  },
  {
   "cell_type": "markdown",
   "id": "e632eb03",
   "metadata": {},
   "source": [
    "#### List to shorter list"
   ]
  },
  {
   "cell_type": "code",
   "execution_count": 26,
   "id": "0671a7bb",
   "metadata": {},
   "outputs": [],
   "source": [
    "def filter_odd(l):\n",
    "    out_list=list()\n",
    "    \n",
    "    for num in l:\n",
    "        if num%2==1:\n",
    "            out_list.append(num)\n",
    "    return out_list"
   ]
  },
  {
   "cell_type": "code",
   "execution_count": 27,
   "id": "dc51208d",
   "metadata": {},
   "outputs": [
    {
     "data": {
      "text/plain": [
       "[1, 3, 5, 7, 9]"
      ]
     },
     "execution_count": 27,
     "metadata": {},
     "output_type": "execute_result"
    }
   ],
   "source": [
    "filter_odd([1,2,3,4,5,6,7,8,9])"
   ]
  },
  {
   "cell_type": "code",
   "execution_count": 28,
   "id": "54410c92",
   "metadata": {},
   "outputs": [],
   "source": [
    "def filter_even(l):\n",
    "    out_list=list()\n",
    "    \n",
    "    for num in l:\n",
    "        if num%2==0:\n",
    "            out_list.append(num)\n",
    "    return out_list"
   ]
  },
  {
   "cell_type": "code",
   "execution_count": 29,
   "id": "f236a69a",
   "metadata": {},
   "outputs": [
    {
     "data": {
      "text/plain": [
       "[2, 4, 6, 8]"
      ]
     },
     "execution_count": 29,
     "metadata": {},
     "output_type": "execute_result"
    }
   ],
   "source": [
    "filter_even([1,2,3,4,5,6,7,8,9])"
   ]
  },
  {
   "cell_type": "markdown",
   "id": "f4fc346c",
   "metadata": {},
   "source": [
    "#### scalar multiplication"
   ]
  },
  {
   "cell_type": "code",
   "execution_count": 30,
   "id": "97e470d3",
   "metadata": {},
   "outputs": [],
   "source": [
    "def multiply_scalar(scalar, b):\n",
    "    out = list()\n",
    "    \n",
    "    for item in b:\n",
    "        out.append(scalar*item)\n",
    "        \n",
    "    return out"
   ]
  },
  {
   "cell_type": "code",
   "execution_count": 31,
   "id": "e177893e",
   "metadata": {},
   "outputs": [
    {
     "data": {
      "text/plain": [
       "[2, 4, 6]"
      ]
     },
     "execution_count": 31,
     "metadata": {},
     "output_type": "execute_result"
    }
   ],
   "source": [
    "multiply_scalar(2, [1,2,3])"
   ]
  },
  {
   "cell_type": "markdown",
   "id": "9d911e11",
   "metadata": {},
   "source": [
    "#### More complexity. Combining two functions, by inserting one inside another."
   ]
  },
  {
   "cell_type": "code",
   "execution_count": 53,
   "id": "1e92c1e9",
   "metadata": {},
   "outputs": [],
   "source": [
    "def mult(a,b):\n",
    "    out=list()\n",
    "    \n",
    "    if isinstance(a, (int, float)) and isinstance(b, (int, float)):\n",
    "        return a*b\n",
    "    elif isinstance(a, (int, float)) and isinstance(b, list):\n",
    "        return multiply_scalar(a,b)\n",
    "    elif isinstance(a, list) and isinstance(b, (int, float)):\n",
    "        return mult_list(list,a)\n",
    "    \n",
    "    else:\n",
    "        raise ValueError(\"Invalid Input.\")\n",
    "    \n",
    "def multiply_scalar(scalar, b):\n",
    "    out = list()\n",
    "\n",
    "    for item in b:\n",
    "        out.append(scalar*item)\n",
    "\n",
    "    return out    \n",
    "\n",
    "def mult_list(a,b):\n",
    "    out=list()\n",
    "    for item_a in zip(a,b):\n",
    "        out.append(a*item_a)\n",
    "    return out"
   ]
  },
  {
   "cell_type": "markdown",
   "id": "18e4058c",
   "metadata": {},
   "source": [
    "### Professor messed up, but we basically just reference a function inside another function."
   ]
  },
  {
   "cell_type": "code",
   "execution_count": 54,
   "id": "7f0830d3",
   "metadata": {},
   "outputs": [
    {
     "data": {
      "text/plain": [
       "10"
      ]
     },
     "execution_count": 54,
     "metadata": {},
     "output_type": "execute_result"
    }
   ],
   "source": [
    "mult(2,5)"
   ]
  },
  {
   "cell_type": "code",
   "execution_count": 56,
   "id": "e5c5eca6",
   "metadata": {},
   "outputs": [
    {
     "data": {
      "text/plain": [
       "[2, 4, 6]"
      ]
     },
     "execution_count": 56,
     "metadata": {},
     "output_type": "execute_result"
    }
   ],
   "source": [
    "multiply_scalar(2,[1,2,3])"
   ]
  },
  {
   "cell_type": "markdown",
   "id": "6cb6b3ff",
   "metadata": {},
   "source": [
    "#### Define a function of a function"
   ]
  },
  {
   "cell_type": "code",
   "execution_count": 66,
   "id": "03520360",
   "metadata": {},
   "outputs": [],
   "source": [
    "def my_map(f, lst):\n",
    "    out=list()\n",
    "    for item in lst:\n",
    "        out.append(f(item))\n",
    "    return out"
   ]
  },
  {
   "cell_type": "code",
   "execution_count": 67,
   "id": "24979bd9",
   "metadata": {},
   "outputs": [],
   "source": [
    "def square(x):\n",
    "    return x*x\n",
    "\n",
    "def cube(x):\n",
    "    return x*x*x"
   ]
  },
  {
   "cell_type": "markdown",
   "id": "b0f8305b",
   "metadata": {},
   "source": [
    "#### Useful for direct results..."
   ]
  },
  {
   "cell_type": "code",
   "execution_count": 69,
   "id": "e85f8087",
   "metadata": {},
   "outputs": [
    {
     "name": "stdout",
     "output_type": "stream",
     "text": [
      "[1, 4, 9]\n"
     ]
    }
   ],
   "source": [
    "print(my_map(square, [1,2,3]))"
   ]
  },
  {
   "cell_type": "code",
   "execution_count": 70,
   "id": "21f7db21",
   "metadata": {},
   "outputs": [
    {
     "name": "stdout",
     "output_type": "stream",
     "text": [
      "[1, 8, 27]\n"
     ]
    }
   ],
   "source": [
    "print(my_map(cube, [1,2,3]))"
   ]
  },
  {
   "cell_type": "markdown",
   "id": "028f3e99",
   "metadata": {},
   "source": [
    "#### Lambda functions \n",
    "> #### Great for working with lists.\n",
    "> #### Great for simple operations."
   ]
  },
  {
   "cell_type": "code",
   "execution_count": 71,
   "id": "eadbc367",
   "metadata": {},
   "outputs": [],
   "source": [
    "square = lambda x: x*x"
   ]
  },
  {
   "cell_type": "code",
   "execution_count": 72,
   "id": "6ccd2c7f",
   "metadata": {},
   "outputs": [
    {
     "data": {
      "text/plain": [
       "64"
      ]
     },
     "execution_count": 72,
     "metadata": {},
     "output_type": "execute_result"
    }
   ],
   "source": [
    "square(8)"
   ]
  },
  {
   "cell_type": "markdown",
   "id": "c6079380",
   "metadata": {},
   "source": [
    "#### Recursions, Constructing function args"
   ]
  },
  {
   "cell_type": "code",
   "execution_count": 74,
   "id": "0a917c2a",
   "metadata": {},
   "outputs": [
    {
     "name": "stdout",
     "output_type": "stream",
     "text": [
      "1 2\n"
     ]
    }
   ],
   "source": [
    "x=[1,2]\n",
    "def f(one, two):\n",
    "    print(one, two)\n",
    "f(x[0],x[1])"
   ]
  },
  {
   "cell_type": "code",
   "execution_count": 76,
   "id": "3c59ad14",
   "metadata": {},
   "outputs": [
    {
     "name": "stdout",
     "output_type": "stream",
     "text": [
      "1 2\n"
     ]
    }
   ],
   "source": [
    "# star symbol means every arguement will use whatever is after the star.\n",
    "f(*x)"
   ]
  },
  {
   "cell_type": "code",
   "execution_count": 77,
   "id": "69ecc8b8",
   "metadata": {},
   "outputs": [
    {
     "name": "stdout",
     "output_type": "stream",
     "text": [
      "[1, 2, 3]\n",
      "1 2 3\n"
     ]
    }
   ],
   "source": [
    "x=[1,2,3]\n",
    "print(x)\n",
    "# star x only prints the elements in the list.\n",
    "print(*x)"
   ]
  },
  {
   "cell_type": "code",
   "execution_count": 79,
   "id": "5c4ed7da",
   "metadata": {},
   "outputs": [],
   "source": [
    "y={\"a\":1, \"b\":2}"
   ]
  },
  {
   "cell_type": "code",
   "execution_count": 80,
   "id": "d0f9999d",
   "metadata": {},
   "outputs": [
    {
     "name": "stdout",
     "output_type": "stream",
     "text": [
      "a b\n"
     ]
    }
   ],
   "source": [
    "f(*y)"
   ]
  },
  {
   "cell_type": "code",
   "execution_count": 81,
   "id": "344d3e16",
   "metadata": {},
   "outputs": [
    {
     "ename": "TypeError",
     "evalue": "f() got an unexpected keyword argument 'a'",
     "output_type": "error",
     "traceback": [
      "\u001b[0;31m---------------------------------------------------------------------------\u001b[0m",
      "\u001b[0;31mTypeError\u001b[0m                                 Traceback (most recent call last)",
      "Cell \u001b[0;32mIn[81], line 1\u001b[0m\n\u001b[0;32m----> 1\u001b[0m \u001b[43mf\u001b[49m\u001b[43m(\u001b[49m\u001b[38;5;241;43m*\u001b[39;49m\u001b[38;5;241;43m*\u001b[39;49m\u001b[43my\u001b[49m\u001b[43m)\u001b[49m\n",
      "\u001b[0;31mTypeError\u001b[0m: f() got an unexpected keyword argument 'a'"
     ]
    }
   ],
   "source": [
    "f(**y)"
   ]
  },
  {
   "cell_type": "markdown",
   "id": "eb57a448",
   "metadata": {},
   "source": [
    "### Exercise 1"
   ]
  },
  {
   "cell_type": "code",
   "execution_count": 87,
   "id": "2a39854f",
   "metadata": {},
   "outputs": [
    {
     "data": {
      "text/plain": [
       "29.6"
      ]
     },
     "execution_count": 87,
     "metadata": {},
     "output_type": "execute_result"
    }
   ],
   "source": [
    "def movement(a,t,x_0,v_0):\n",
    "    x= x_0 + v_0*t + 0.5*a*t**2\n",
    "    return x\n",
    "movement(a=9.8, t=2, x_0=2, v_0=4)"
   ]
  },
  {
   "cell_type": "code",
   "execution_count": 90,
   "id": "bd776e96",
   "metadata": {},
   "outputs": [
    {
     "name": "stdout",
     "output_type": "stream",
     "text": [
      "4\n"
     ]
    }
   ],
   "source": [
    "# Printing the length of a list (while also using len)\n",
    "args=[[1,2], [1,2,3], [1,2,3,4], 1]\n",
    "max_len=0\n",
    "for a in args:\n",
    "    if isinstance(a, list):\n",
    "        max_len=max(max_len, len(a))\n",
    "\n",
    "print(max_len)"
   ]
  },
  {
   "cell_type": "code",
   "execution_count": null,
   "id": "b24fb655",
   "metadata": {},
   "outputs": [],
   "source": [
    "#### Checking to see if every arguement is the same length."
   ]
  },
  {
   "cell_type": "code",
   "execution_count": 95,
   "id": "f0ee5aa9",
   "metadata": {},
   "outputs": [
    {
     "name": "stdout",
     "output_type": "stream",
     "text": [
      "Err\n"
     ]
    }
   ],
   "source": [
    "def create_new_arg(args):\n",
    "    max_len = max(map(len,\n",
    "                      filter(lambda x: isinstance(x,list), args)\n",
    "                        ))\n",
    "    \n",
    "    new_args=list()\n",
    "    \n",
    "    for a in args:\n",
    "        if not isinstance(a, list):\n",
    "            a0 = [a]*max_len\n",
    "        elif len(a) != max_len:\n",
    "            print(\"Err\")\n",
    "            return\n",
    "        else:\n",
    "            a0=a\n",
    "        new_args.append(a0)\n",
    "    return new_args\n",
    "\n",
    "create_new_arg([[1,2], [1,2,3], 1])"
   ]
  },
  {
   "cell_type": "code",
   "execution_count": null,
   "id": "51df2180",
   "metadata": {},
   "outputs": [],
   "source": []
  }
 ],
 "metadata": {
  "kernelspec": {
   "display_name": "Python 3 (ipykernel)",
   "language": "python",
   "name": "python3"
  },
  "language_info": {
   "codemirror_mode": {
    "name": "ipython",
    "version": 3
   },
   "file_extension": ".py",
   "mimetype": "text/x-python",
   "name": "python",
   "nbconvert_exporter": "python",
   "pygments_lexer": "ipython3",
   "version": "3.12.3"
  }
 },
 "nbformat": 4,
 "nbformat_minor": 5
}
