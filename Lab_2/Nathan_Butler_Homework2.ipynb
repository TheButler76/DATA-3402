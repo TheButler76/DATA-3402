{
 "cells": [
  {
   "cell_type": "markdown",
   "metadata": {
    "id": "ghnvM5IJ2X35",
    "jupyter": {
     "source_hidden": true
    }
   },
   "source": [
    "# DATA 3402-Python II\n",
    "\n",
    "## Homework 2- Recursion Functions\n",
    "### Due: 09/10/2025 23:59PM\n",
    "\n",
    "\n",
    "# **Assignment Submission Guidelines**\n",
    "\n",
    "\n",
    "Please follow the guidelines below for submitting your assignment:\n",
    "\n",
    "1. **Submission Deadline:**\n",
    "   - All assignments must be submitted **no later than 09/10/2025 11:59 PM**.\n",
    "   - Late submissions will not be accepted unless prior arrangements have been made by the instructor.\n",
    "\n",
    "2. **Submission Platform:**\n",
    "   - Submit your assignment through **Canvas**. Ensure that you upload the files to the correct assignment link.\n",
    "\n",
    "3. **Required Files:**\n",
    "   - **Jupyter Notebook file (.ipynb):** Submit the Jupyter Notebook file you used to complete the assignment. The file should contain your well-commented code.\n",
    "   - **PDF Version (.pdf file):** Additionally, submit a PDF version of your Python code. This can be a printout or export of your script, showing all the code with any necessary explanations or output results included.\n",
    "\n",
    "4. **File Naming Convention:**\n",
    "   - Please name your files as follows: `Lastname_Firstname_AssignmentName`\n",
    "   - Example: `Alex_John_Homework2.ipynb` and `Alex_John_Homework2.pdf`\n",
    "\n",
    "5. **Technical Issues:**\n",
    "   - If you encounter any technical issues with Canvas or your submission, please contact the TAs immediately **before the deadline** to avoid penalties."
   ]
  },
  {
   "cell_type": "markdown",
   "metadata": {
    "id": "AWU1D5ku2X36",
    "jupyter": {
     "source_hidden": true
    }
   },
   "source": [
    "## Problem 1\n",
    "Factorial Calculation – Write a recursive function to compute the factorial of a given number `n`.\n",
    "\n",
    "**Task:** Implement the recursive function below."
   ]
  },
  {
   "cell_type": "code",
   "execution_count": 2,
   "metadata": {
    "id": "LHf695nz2Zh6",
    "jupyter": {
     "source_hidden": true
    }
   },
   "outputs": [
    {
     "data": {
      "text/plain": [
       "24"
      ]
     },
     "execution_count": 2,
     "metadata": {},
     "output_type": "execute_result"
    }
   ],
   "source": [
    "# Write your recursive solution here\n",
    "def factorial(n):\n",
    "    # n! = n*(n-1).\n",
    "    if n==1:\n",
    "        return n\n",
    "    \n",
    "    # Where recursion starts.\n",
    "    else:\n",
    "        return n*factorial(n-1)\n",
    "factorial(4)"
   ]
  },
  {
   "cell_type": "markdown",
   "metadata": {
    "id": "T3iR7l2H2X36",
    "jupyter": {
     "source_hidden": true
    }
   },
   "source": [
    "## Problem 2\n",
    "Sum of Digits – Write a recursive function that takes an integer `n` and returns the sum of its digits.\n",
    "\n",
    "**Task:** Implement the recursive function below."
   ]
  },
  {
   "cell_type": "code",
   "execution_count": 84,
   "metadata": {
    "id": "uPu_3FIl2bZL",
    "jupyter": {
     "source_hidden": true
    }
   },
   "outputs": [
    {
     "data": {
      "text/plain": [
       "6"
      ]
     },
     "execution_count": 84,
     "metadata": {},
     "output_type": "execute_result"
    }
   ],
   "source": [
    "# Write your recursive solution here\n",
    "def sum_digits(n):\n",
    "    if n<=10:\n",
    "        return n\n",
    "    else:\n",
    "        return n % 10 + sum_digits(n // 10)\n",
    "sum_digits(123)"
   ]
  },
  {
   "cell_type": "markdown",
   "metadata": {
    "id": "hFTmLkGM2X36",
    "jupyter": {
     "source_hidden": true
    }
   },
   "source": [
    "## Problem 3\n",
    "Reverse a String – Write a recursive function to reverse a string without using slicing.\n",
    "\n",
    "**Task:** Implement the recursive function below."
   ]
  },
  {
   "cell_type": "code",
   "execution_count": 81,
   "metadata": {
    "id": "3DceDXyB2b6u",
    "jupyter": {
     "source_hidden": true
    }
   },
   "outputs": [
    {
     "data": {
      "text/plain": [
       "['T', 'A', 'O', 'B']"
      ]
     },
     "execution_count": 81,
     "metadata": {},
     "output_type": "execute_result"
    }
   ],
   "source": [
    "# Write your recursive solution here\n",
    "def string_rec(string):\n",
    "    if isinstance(string, list):\n",
    "        return string\n",
    "    else:\n",
    "        return string_rec(list(reversed(string)))\n",
    "string_rec('BOAT')"
   ]
  },
  {
   "cell_type": "markdown",
   "metadata": {
    "id": "49-KnZhD2X36",
    "jupyter": {
     "source_hidden": true
    }
   },
   "source": [
    "## Problem 4\n",
    "Power Function – Write a recursive function that computes `x^n` (x to the power of n).\n",
    "\n",
    "**Task:** Implement the recursive function below."
   ]
  },
  {
   "cell_type": "code",
   "execution_count": 68,
   "metadata": {
    "id": "JKr9wExG2csd",
    "jupyter": {
     "source_hidden": true
    }
   },
   "outputs": [
    {
     "data": {
      "text/plain": [
       "8"
      ]
     },
     "execution_count": 68,
     "metadata": {},
     "output_type": "execute_result"
    }
   ],
   "source": [
    "# Write your recursive solution here\n",
    "def power(x, n):\n",
    "    if not isinstance(x, int) and not isinstance(n, int):\n",
    "        return TypeError(\"PLEASE ENTER A NUMBER\")\n",
    "    else:\n",
    "        return x**n\n",
    "power(2,3)"
   ]
  },
  {
   "cell_type": "markdown",
   "metadata": {
    "id": "iZ31ffj42X36",
    "jupyter": {
     "source_hidden": true
    }
   },
   "source": [
    "## Problem 5\n",
    "Binary Search – Implement recursive binary search on a sorted list. Return the index if found, otherwise `-1`.\n",
    "\n",
    "**Task:** Implement the recursive function below."
   ]
  },
  {
   "cell_type": "code",
   "execution_count": 125,
   "metadata": {
    "id": "T0tBX5Ou2eV9",
    "jupyter": {
     "source_hidden": true
    }
   },
   "outputs": [
    {
     "name": "stdout",
     "output_type": "stream",
     "text": [
      "index location: 0"
     ]
    },
    {
     "data": {
      "text/plain": [
       "[None]"
      ]
     },
     "execution_count": 125,
     "metadata": {},
     "output_type": "execute_result"
    }
   ],
   "source": [
    "# Write your recursive solution here\n",
    "sorted_list = [3, 4, 5, 6, 7, 8, 9, 10]\n",
    "def binary_search(search_q, this_list):\n",
    "    if search_q not in this_list:\n",
    "        return -1\n",
    "    else:\n",
    "        return [print(f\"index location: {n}\") for n in range(len(this_list)) if this_list[n]==search_q]\n",
    "\n",
    "binary_search(3, sorted_list)"
   ]
  },
  {
   "cell_type": "code",
   "execution_count": null,
   "metadata": {},
   "outputs": [],
   "source": [
    "# pseudo\n",
    "# Try to find a index position.\n",
    "# return that index position.\n",
    "# stop if index position is found"
   ]
  },
  {
   "cell_type": "code",
   "execution_count": 3,
   "metadata": {},
   "outputs": [
    {
     "ename": "IndexError",
     "evalue": "list index out of range",
     "output_type": "error",
     "traceback": [
      "\u001b[0;31m---------------------------------------------------------------------------\u001b[0m",
      "\u001b[0;31mIndexError\u001b[0m                                Traceback (most recent call last)",
      "Cell \u001b[0;32mIn[3], line 7\u001b[0m\n\u001b[1;32m      5\u001b[0m     \u001b[38;5;28;01melse\u001b[39;00m:\n\u001b[1;32m      6\u001b[0m         \u001b[38;5;28;01mreturn\u001b[39;00m binary_search(index, (this_list[i] \u001b[38;5;28;01mfor\u001b[39;00m i \u001b[38;5;129;01min\u001b[39;00m this_list))\n\u001b[0;32m----> 7\u001b[0m \u001b[43mbinary_search\u001b[49m\u001b[43m(\u001b[49m\u001b[38;5;241;43m3\u001b[39;49m\u001b[43m,\u001b[49m\u001b[43m \u001b[49m\u001b[43msorted_list\u001b[49m\u001b[43m)\u001b[49m\n",
      "Cell \u001b[0;32mIn[3], line 6\u001b[0m, in \u001b[0;36mbinary_search\u001b[0;34m(index, this_list)\u001b[0m\n\u001b[1;32m      4\u001b[0m     \u001b[38;5;28;01mreturn\u001b[39;00m \u001b[38;5;241m-\u001b[39m\u001b[38;5;241m1\u001b[39m\n\u001b[1;32m      5\u001b[0m \u001b[38;5;28;01melse\u001b[39;00m:\n\u001b[0;32m----> 6\u001b[0m     \u001b[38;5;28;01mreturn\u001b[39;00m \u001b[43mbinary_search\u001b[49m\u001b[43m(\u001b[49m\u001b[43mindex\u001b[49m\u001b[43m,\u001b[49m\u001b[43m \u001b[49m\u001b[43m(\u001b[49m\u001b[43mthis_list\u001b[49m\u001b[43m[\u001b[49m\u001b[43mi\u001b[49m\u001b[43m]\u001b[49m\u001b[43m \u001b[49m\u001b[38;5;28;43;01mfor\u001b[39;49;00m\u001b[43m \u001b[49m\u001b[43mi\u001b[49m\u001b[43m \u001b[49m\u001b[38;5;129;43;01min\u001b[39;49;00m\u001b[43m \u001b[49m\u001b[43mthis_list\u001b[49m\u001b[43m)\u001b[49m\u001b[43m)\u001b[49m\n",
      "Cell \u001b[0;32mIn[3], line 3\u001b[0m, in \u001b[0;36mbinary_search\u001b[0;34m(index, this_list)\u001b[0m\n\u001b[1;32m      2\u001b[0m \u001b[38;5;28;01mdef\u001b[39;00m \u001b[38;5;21mbinary_search\u001b[39m(index, this_list):\n\u001b[0;32m----> 3\u001b[0m     \u001b[38;5;28;01mif\u001b[39;00m \u001b[43mindex\u001b[49m\u001b[43m \u001b[49m\u001b[38;5;129;43;01mnot\u001b[39;49;00m\u001b[43m \u001b[49m\u001b[38;5;129;43;01min\u001b[39;49;00m\u001b[43m \u001b[49m\u001b[43mthis_list\u001b[49m:\n\u001b[1;32m      4\u001b[0m         \u001b[38;5;28;01mreturn\u001b[39;00m \u001b[38;5;241m-\u001b[39m\u001b[38;5;241m1\u001b[39m\n\u001b[1;32m      5\u001b[0m     \u001b[38;5;28;01melse\u001b[39;00m:\n",
      "Cell \u001b[0;32mIn[3], line 6\u001b[0m, in \u001b[0;36m<genexpr>\u001b[0;34m(.0)\u001b[0m\n\u001b[1;32m      4\u001b[0m     \u001b[38;5;28;01mreturn\u001b[39;00m \u001b[38;5;241m-\u001b[39m\u001b[38;5;241m1\u001b[39m\n\u001b[1;32m      5\u001b[0m \u001b[38;5;28;01melse\u001b[39;00m:\n\u001b[0;32m----> 6\u001b[0m     \u001b[38;5;28;01mreturn\u001b[39;00m binary_search(index, (\u001b[43mthis_list\u001b[49m\u001b[43m[\u001b[49m\u001b[43mi\u001b[49m\u001b[43m]\u001b[49m \u001b[38;5;28;01mfor\u001b[39;00m i \u001b[38;5;129;01min\u001b[39;00m this_list))\n",
      "\u001b[0;31mIndexError\u001b[0m: list index out of range"
     ]
    }
   ],
   "source": [
    "sorted_list = [3, 4, 5, 6, 7, 8, 9, 10]\n",
    "def binary_search(index, this_list):\n",
    "    if index not in this_list:\n",
    "        return -1\n",
    "    else:\n",
    "        return binary_search(index, (this_list[i] for i in this_list))\n",
    "binary_search(3, sorted_list)"
   ]
  },
  {
   "cell_type": "markdown",
   "metadata": {
    "id": "EpuvSdnr2X37",
    "jupyter": {
     "source_hidden": true
    }
   },
   "source": [
    "## Problem 6\n",
    "Generate All Subsets (Power Set) – Write a recursive function that returns all subsets of a list. Example: [1,2] → [[  ], [1], [2], [1,2]]\n",
    "\n",
    "**Task:** Implement the recursive function below."
   ]
  },
  {
   "cell_type": "code",
   "execution_count": 7,
   "metadata": {
    "id": "bO-oI0rO2fXB",
    "jupyter": {
     "source_hidden": true
    }
   },
   "outputs": [
    {
     "name": "stdout",
     "output_type": "stream",
     "text": [
      "0th:  0\n",
      "nth:  4\n"
     ]
    },
    {
     "data": {
      "text/plain": [
       "[[], [1], [2], [3], [4], [1, 2, 3, 4]]"
      ]
     },
     "execution_count": 7,
     "metadata": {},
     "output_type": "execute_result"
    }
   ],
   "source": [
    "# Write your recursive solution here\n",
    "## returns the empty position, the 0th position, the nth postion, then an element containing all values\n",
    "sub_list = [1,2,3,4]\n",
    "def subsets(sub_list, empty=[], el_str=[]):\n",
    "    if sub_list==0:\n",
    "        return False\n",
    "    else:\n",
    "        for el in range(len(sub_list)+1):\n",
    "            if el==0:\n",
    "                print(\"0th: \", el)\n",
    "                empty.append([])\n",
    "            else:\n",
    "                el_str.append(el)\n",
    "                empty.append([el])\n",
    "                \n",
    "            if el>len(sub_list)-1:\n",
    "                print(\"nth: \", el)\n",
    "                empty.append(el_str)\n",
    "    return empty\n",
    "                              \n",
    "subsets(sub_list)"
   ]
  },
  {
   "cell_type": "markdown",
   "metadata": {
    "id": "UIdRiW8t2X37",
    "jupyter": {
     "source_hidden": true
    }
   },
   "source": [
    "## Problem 7\n",
    "Sum of List – Compute the sum of all elements in a list recursively.\n",
    "\n",
    "**Task:** Implement the recursive function below."
   ]
  },
  {
   "cell_type": "code",
   "execution_count": 147,
   "metadata": {
    "id": "gDTLkewS2f1j",
    "jupyter": {
     "source_hidden": true
    }
   },
   "outputs": [
    {
     "data": {
      "text/plain": [
       "9"
      ]
     },
     "execution_count": 147,
     "metadata": {},
     "output_type": "execute_result"
    }
   ],
   "source": [
    "# Write your recursive solution here\n",
    "# Basically, make a summation function for all the elements in number list.\n",
    "numbers = [1,2,3,3]\n",
    "def summation(list_to_sum):\n",
    "    if list_to_sum==None:\n",
    "        return False\n",
    "    else:\n",
    "        return sum(list_to_sum)\n",
    "summation(numbers)"
   ]
  },
  {
   "cell_type": "markdown",
   "metadata": {
    "id": "efiOsgmL2X37"
   },
   "source": [
    "## Problem 8\n",
    "Find Minimum in List – Find the minimum element in a list recursively (without using `min()`).\n",
    "\n",
    "**Task:** Implement the recursive function below."
   ]
  },
  {
   "cell_type": "code",
   "execution_count": 16,
   "metadata": {
    "id": "umnRFlmA2hFd"
   },
   "outputs": [
    {
     "data": {
      "text/plain": [
       "1"
      ]
     },
     "execution_count": 16,
     "metadata": {},
     "output_type": "execute_result"
    }
   ],
   "source": [
    "# Write your recursive solution here\n",
    "numbers = [5,3,2,9,1,2,3,6]\n",
    "def min_list(find_me):\n",
    "    if len(find_me)==1:\n",
    "        return find_me[0]\n",
    "    else:\n",
    "        n = min_list(find_me[1:])\n",
    "        return find_me[0] if find_me[0] < n else n\n",
    "min_list(numbers)\n",
    "#[find_me[n] for n in range(len(find_me)) if find_me[n] > n]"
   ]
  },
  {
   "cell_type": "markdown",
   "metadata": {
    "id": "7rHAKWCo2X37",
    "jupyter": {
     "source_hidden": true
    }
   },
   "source": [
    "## Problem 9\n",
    "Decimal to Binary Conversion – Convert a decimal number into binary using recursion.\n",
    "\n",
    "**Task:** Implement the recursive function below."
   ]
  },
  {
   "cell_type": "code",
   "execution_count": 10,
   "metadata": {
    "id": "rXLwjZJZ2i2t",
    "jupyter": {
     "source_hidden": true
    }
   },
   "outputs": [
    {
     "data": {
      "text/plain": [
       "1"
      ]
     },
     "execution_count": 10,
     "metadata": {},
     "output_type": "execute_result"
    }
   ],
   "source": [
    "# Write your recursive solution here\n",
    "def convert(decimal):\n",
    "    if not isinstance(decimal, float):\n",
    "        raise TypeError(\"PLEASE ENTER A DECIMAL NUMBER\")\n",
    "    if isinstance(decimal, int):\n",
    "        raise TypeError(\"PLEASE ENTER A DECIMAL NUMBER\")\n",
    "    else:\n",
    "        return int(decimal)\n",
    "convert(1.0)"
   ]
  },
  {
   "cell_type": "markdown",
   "metadata": {
    "id": "7MgBBSi-2X37"
   },
   "source": [
    "## Problem 10\n",
    "String Length – Calculate the length of a string recursively (without using `len()`).\n",
    "\n",
    "**Task:** Implement the recursive function below."
   ]
  },
  {
   "cell_type": "code",
   "execution_count": 226,
   "metadata": {},
   "outputs": [
    {
     "data": {
      "text/plain": [
       "'TIURF'"
      ]
     },
     "execution_count": 226,
     "metadata": {},
     "output_type": "execute_result"
    }
   ],
   "source": [
    "string = \"FRUIT\"\n",
    "string[::-1]"
   ]
  },
  {
   "cell_type": "code",
   "execution_count": 23,
   "metadata": {
    "id": "F7OrhYH_2j4d"
   },
   "outputs": [
    {
     "data": {
      "text/plain": [
       "4"
      ]
     },
     "execution_count": 23,
     "metadata": {},
     "output_type": "execute_result"
    }
   ],
   "source": [
    "def str_len(string):\n",
    "    if string == \"\":\n",
    "        return -1\n",
    "    else:\n",
    "        return 1 + str_len(string[:-1])\n",
    "str_len(\"FRUIT\")"
   ]
  },
  {
   "cell_type": "markdown",
   "metadata": {
    "id": "ibsT9MAE2X37",
    "jupyter": {
     "source_hidden": true
    }
   },
   "source": [
    "## Problem 11\n",
    "Nested List Sum – Sum all integers inside a nested list recursively. Example: [1, [2, [3, 4]], 5] → 15.\n",
    "\n",
    "**Task:** Implement the recursive function below."
   ]
  },
  {
   "cell_type": "code",
   "execution_count": 153,
   "metadata": {
    "id": "cHVxnHlX2ksS",
    "jupyter": {
     "source_hidden": true
    }
   },
   "outputs": [
    {
     "data": {
      "text/plain": [
       "15"
      ]
     },
     "execution_count": 153,
     "metadata": {},
     "output_type": "execute_result"
    }
   ],
   "source": [
    "# Write your recursive solution here\n",
    "nested_list = [1, [2, [3, 4]], 5]\n",
    "def nested_sum(L):\n",
    "    summ = 0\n",
    "    for element in L:\n",
    "        if isinstance(element, list):\n",
    "            summ += nested_sum(element)\n",
    "        else:\n",
    "            summ += element\n",
    "    return summ\n",
    "nested_sum(nested_list)"
   ]
  },
  {
   "cell_type": "markdown",
   "metadata": {
    "id": "RRVlpEF_2X37"
   },
   "source": [
    "## Problem 12\n",
    "Permutations of String – Print all permutations of a string using recursion. Example: \"abc\" → ['abc', 'acb', 'bac', 'bca', 'cab', 'cba'].\n",
    "\n",
    "**Task:** Implement the recursive function below."
   ]
  },
  {
   "cell_type": "code",
   "execution_count": null,
   "metadata": {
    "id": "Wz-VgB4Z2X37"
   },
   "outputs": [],
   "source": [
    "# Write your recursive solution here\n",
    "def permutation(string):\n",
    "    gnirts = []\n",
    "    perm = list(permutation(string))\n",
    "    if perm not isinstance(perm, str):\n",
    "        print(\"Not a string.\")\n",
    "    elif gnirts==None:\n",
    "        gnirts.append(perm)\n",
    "    \n",
    "    for word in range(len(gnirts)):\n",
    "        for letter in gnirts[word]:\n",
    "            if gnirts[word][letter] == string[word][letter]:\n",
    "                string[letter]\n",
    "        "
   ]
  }
 ],
 "metadata": {
  "colab": {
   "provenance": []
  },
  "kernelspec": {
   "display_name": "Python 3 (ipykernel)",
   "language": "python",
   "name": "python3"
  },
  "language_info": {
   "codemirror_mode": {
    "name": "ipython",
    "version": 3
   },
   "file_extension": ".py",
   "mimetype": "text/x-python",
   "name": "python",
   "nbconvert_exporter": "python",
   "pygments_lexer": "ipython3",
   "version": "3.12.3"
  }
 },
 "nbformat": 4,
 "nbformat_minor": 4
}
