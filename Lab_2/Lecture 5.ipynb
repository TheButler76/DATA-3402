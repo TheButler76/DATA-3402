{
 "cells": [
  {
   "cell_type": "markdown",
   "id": "c82491c6",
   "metadata": {},
   "source": [
    "# Week 3\n",
    "### Python Libraries"
   ]
  },
  {
   "cell_type": "markdown",
   "id": "2cf7e492",
   "metadata": {},
   "source": [
    "#### This is only for people who use Google Co-Lab, not really needed for people who use local machines."
   ]
  },
  {
   "cell_type": "code",
   "execution_count": 3,
   "id": "9940b4da",
   "metadata": {},
   "outputs": [],
   "source": [
    "#from google.colab import files\n",
    "#uploaded=files.upload()"
   ]
  },
  {
   "cell_type": "markdown",
   "id": "de730e53",
   "metadata": {},
   "source": [
    "#### To import a python script, simply import it, this only works if the file is in the current directory."
   ]
  },
  {
   "cell_type": "code",
   "execution_count": 5,
   "id": "fb25111d",
   "metadata": {},
   "outputs": [],
   "source": [
    "import checkers"
   ]
  },
  {
   "cell_type": "code",
   "execution_count": 6,
   "id": "d8c88e88",
   "metadata": {},
   "outputs": [
    {
     "name": "stdout",
     "output_type": "stream",
     "text": [
      "<module 'checkers' from '/home/tagenby/Desktop/PYTHON/DATA-3402/Lab_2/checkers.py'>\n",
      "<class 'module'>\n"
     ]
    }
   ],
   "source": [
    "print(checkers)\n",
    "print(type(checkers))"
   ]
  },
  {
   "cell_type": "markdown",
   "id": "86da1fcb",
   "metadata": {},
   "source": [
    "#### To find all the content in the module (our python checkers file), we use `dir`. Alternatively, we can use `help`"
   ]
  },
  {
   "cell_type": "code",
   "execution_count": 11,
   "id": "17d8f524",
   "metadata": {},
   "outputs": [],
   "source": [
    "#dir(checkers)\n",
    "#help(checkers)"
   ]
  },
  {
   "cell_type": "markdown",
   "id": "1b9735be",
   "metadata": {},
   "source": [
    "#### We call the one of the functions in the checkerboard. In this cell, we want to create a checkers board"
   ]
  },
  {
   "cell_type": "code",
   "execution_count": 14,
   "id": "84a8a4cf",
   "metadata": {},
   "outputs": [
    {
     "data": {
      "text/plain": [
       "[[0, 1, 0, 1, 0, 1, 0, 1],\n",
       " [1, 0, 1, 0, 1, 0, 1, 0],\n",
       " [0, 1, 0, 1, 0, 1, 0, 1],\n",
       " [0, 0, 0, 0, 0, 0, 0, 0],\n",
       " [0, 0, 0, 0, 0, 0, 0, 0],\n",
       " [2, 0, 2, 0, 2, 0, 2, 0],\n",
       " [0, 2, 0, 2, 0, 2, 0, 2],\n",
       " [2, 0, 2, 0, 2, 0, 2, 0]]"
      ]
     },
     "execution_count": 14,
     "metadata": {},
     "output_type": "execute_result"
    }
   ],
   "source": [
    "checkers.make_game_board()"
   ]
  },
  {
   "cell_type": "markdown",
   "id": "f2aa051f",
   "metadata": {},
   "source": [
    "#### To advance, we can call the module and also view the content."
   ]
  },
  {
   "cell_type": "code",
   "execution_count": 16,
   "id": "67dfddf9",
   "metadata": {},
   "outputs": [
    {
     "name": "stdout",
     "output_type": "stream",
     "text": [
      "[[0, 1, 0, 1, 0, 1, 0, 1], [1, 0, 1, 0, 1, 0, 1, 0], [0, 1, 0, 1, 0, 1, 0, 1], [0, 0, 0, 0, 0, 0, 0, 0], [0, 0, 0, 0, 0, 0, 0, 0], [2, 0, 2, 0, 2, 0, 2, 0], [0, 2, 0, 2, 0, 2, 0, 2], [2, 0, 2, 0, 2, 0, 2, 0]]\n"
     ]
    },
    {
     "data": {
      "text/plain": [
       "['In',\n",
       " 'Out',\n",
       " '_',\n",
       " '_12',\n",
       " '_13',\n",
       " '_14',\n",
       " '_15',\n",
       " '_8',\n",
       " '__',\n",
       " '___',\n",
       " '__builtin__',\n",
       " '__builtins__',\n",
       " '__doc__',\n",
       " '__loader__',\n",
       " '__name__',\n",
       " '__package__',\n",
       " '__spec__',\n",
       " '_dh',\n",
       " '_i',\n",
       " '_i1',\n",
       " '_i10',\n",
       " '_i11',\n",
       " '_i12',\n",
       " '_i13',\n",
       " '_i14',\n",
       " '_i15',\n",
       " '_i16',\n",
       " '_i2',\n",
       " '_i3',\n",
       " '_i4',\n",
       " '_i5',\n",
       " '_i6',\n",
       " '_i7',\n",
       " '_i8',\n",
       " '_i9',\n",
       " '_ih',\n",
       " '_ii',\n",
       " '_iii',\n",
       " '_oh',\n",
       " 'checkers',\n",
       " 'exit',\n",
       " 'get_ipython',\n",
       " 'make_game_board',\n",
       " 'open',\n",
       " 'quit']"
      ]
     },
     "execution_count": 16,
     "metadata": {},
     "output_type": "execute_result"
    }
   ],
   "source": [
    "from checkers import make_game_board\n",
    "print(make_game_board())\n",
    "dir()"
   ]
  },
  {
   "cell_type": "code",
   "execution_count": 17,
   "id": "6b824304",
   "metadata": {},
   "outputs": [
    {
     "data": {
      "text/plain": [
       "8"
      ]
     },
     "execution_count": 17,
     "metadata": {},
     "output_type": "execute_result"
    }
   ],
   "source": [
    "checkers.size"
   ]
  },
  {
   "cell_type": "markdown",
   "id": "22034463",
   "metadata": {},
   "source": [
    "#### We can change the content by calling a function from the module."
   ]
  },
  {
   "cell_type": "code",
   "execution_count": 20,
   "id": "8652fcd2",
   "metadata": {},
   "outputs": [
    {
     "name": "stdout",
     "output_type": "stream",
     "text": [
      "10\n"
     ]
    }
   ],
   "source": [
    "checkers.size=10\n",
    "print(checkers.size)"
   ]
  },
  {
   "cell_type": "markdown",
   "id": "46ee963a",
   "metadata": {},
   "source": [
    "#### When we make the change, it will make the change automatically if you try to import it again."
   ]
  },
  {
   "cell_type": "code",
   "execution_count": 22,
   "id": "fef85f33",
   "metadata": {},
   "outputs": [
    {
     "name": "stdout",
     "output_type": "stream",
     "text": [
      "10\n"
     ]
    }
   ],
   "source": [
    "import checkers\n",
    "print(checkers.size)"
   ]
  },
  {
   "cell_type": "markdown",
   "id": "1297c462",
   "metadata": {},
   "source": [
    "#### To reset everything, we can import `importlib` to reset our modules to their original import."
   ]
  },
  {
   "cell_type": "code",
   "execution_count": 25,
   "id": "ded14da7",
   "metadata": {},
   "outputs": [
    {
     "data": {
      "text/plain": [
       "<module 'checkers' from '/home/tagenby/Desktop/PYTHON/DATA-3402/Lab_2/checkers.py'>"
      ]
     },
     "execution_count": 25,
     "metadata": {},
     "output_type": "execute_result"
    }
   ],
   "source": [
    "import importlib\n",
    "importlib.reload(checkers)"
   ]
  },
  {
   "cell_type": "code",
   "execution_count": 26,
   "id": "d96c8163",
   "metadata": {},
   "outputs": [
    {
     "data": {
      "text/plain": [
       "8"
      ]
     },
     "execution_count": 26,
     "metadata": {},
     "output_type": "execute_result"
    }
   ],
   "source": [
    "checkers.size"
   ]
  },
  {
   "cell_type": "markdown",
   "id": "0a918de2",
   "metadata": {},
   "source": [
    "# Recursion"
   ]
  },
  {
   "cell_type": "markdown",
   "id": "0b2dfc6e",
   "metadata": {},
   "source": [
    "#### Important for factorials\n",
    "> #### n! = n * (n-1)\n",
    "> #### (n-1)! = (n!/n)\n",
    "> #### 0! = (1!/1)"
   ]
  },
  {
   "cell_type": "markdown",
   "id": "0330079d",
   "metadata": {},
   "source": [
    "#### This defines the factorial"
   ]
  },
  {
   "cell_type": "code",
   "execution_count": 27,
   "id": "948b0529",
   "metadata": {},
   "outputs": [],
   "source": [
    "def factorial(n):\n",
    "    if n==1:\n",
    "        return 1\n",
    "    else:\n",
    "        return n*factorial(n-1)"
   ]
  },
  {
   "cell_type": "code",
   "execution_count": 28,
   "id": "cccedfd0",
   "metadata": {},
   "outputs": [
    {
     "data": {
      "text/plain": [
       "1"
      ]
     },
     "execution_count": 28,
     "metadata": {},
     "output_type": "execute_result"
    }
   ],
   "source": [
    "factorial(1)"
   ]
  },
  {
   "cell_type": "code",
   "execution_count": 32,
   "id": "3389b953",
   "metadata": {},
   "outputs": [
    {
     "data": {
      "text/plain": [
       "5040"
      ]
     },
     "execution_count": 32,
     "metadata": {},
     "output_type": "execute_result"
    }
   ],
   "source": [
    "factorial(7)"
   ]
  },
  {
   "cell_type": "markdown",
   "id": "ae1ad4a2",
   "metadata": {},
   "source": [
    "#### This defines the factorial options, (recursion)."
   ]
  },
  {
   "cell_type": "code",
   "execution_count": 33,
   "id": "04336914",
   "metadata": {},
   "outputs": [],
   "source": [
    "def factorial_0(n):\n",
    "    if n==1:\n",
    "        return 1\n",
    "    else:\n",
    "        return (n, factorial_0(n-1))\n",
    "    "
   ]
  },
  {
   "cell_type": "code",
   "execution_count": 34,
   "id": "15bb5101",
   "metadata": {},
   "outputs": [
    {
     "data": {
      "text/plain": [
       "(7, (6, (5, (4, (3, (2, 1))))))"
      ]
     },
     "execution_count": 34,
     "metadata": {},
     "output_type": "execute_result"
    }
   ],
   "source": [
    "factorial_0(7)"
   ]
  },
  {
   "cell_type": "markdown",
   "id": "11d56b25",
   "metadata": {},
   "source": [
    "#### There are a lot of ways to code in our factorial. Sometimes we need recursion, sometimes we need to use for loops."
   ]
  },
  {
   "cell_type": "code",
   "execution_count": 37,
   "id": "b5374d6d",
   "metadata": {},
   "outputs": [
    {
     "data": {
      "text/plain": [
       "5040"
      ]
     },
     "execution_count": 37,
     "metadata": {},
     "output_type": "execute_result"
    }
   ],
   "source": [
    "def factorial_1(n):\n",
    "    prod = 1\n",
    "    for e in range(1,n+1):\n",
    "        # period times e\n",
    "        prod*=e\n",
    "    return prod\n",
    "\n",
    "factorial_1(7)"
   ]
  },
  {
   "cell_type": "markdown",
   "id": "6ba127c9",
   "metadata": {},
   "source": [
    "#### Experiment more with the concept of recursion using a simple countdown."
   ]
  },
  {
   "cell_type": "code",
   "execution_count": 39,
   "id": "c5b209b7",
   "metadata": {},
   "outputs": [
    {
     "name": "stdout",
     "output_type": "stream",
     "text": [
      "7\n",
      "6\n",
      "5\n",
      "4\n",
      "3\n",
      "2\n",
      "1\n",
      "0\n"
     ]
    }
   ],
   "source": [
    "def countdown(n):\n",
    "    print(n)\n",
    "    if n==0:\n",
    "        return\n",
    "    else:\n",
    "        countdown(n-1)\n",
    "countdown(7)"
   ]
  },
  {
   "cell_type": "markdown",
   "id": "3078c02c",
   "metadata": {},
   "source": [
    "#### Define recursion by the range. Similar to list indexing."
   ]
  },
  {
   "cell_type": "code",
   "execution_count": 46,
   "id": "45a300ad",
   "metadata": {},
   "outputs": [
    {
     "data": {
      "text/plain": [
       "[2, 4, 6, 8, 10, 12, 14, 16, 18]"
      ]
     },
     "execution_count": 46,
     "metadata": {},
     "output_type": "execute_result"
    }
   ],
   "source": [
    "def rec_range(start, stop=None, step=1):\n",
    "    # handle the default arguement.\n",
    "    if stop:\n",
    "        pass\n",
    "    else:\n",
    "        stop=start\n",
    "        start=0\n",
    "        \n",
    "    if start<stop:\n",
    "        return [start]+rec_range(start+step, stop, step)\n",
    "    else:\n",
    "        return[]\n",
    "    \n",
    "rec_range(2, 20, 2)"
   ]
  },
  {
   "cell_type": "markdown",
   "id": "ec54b6af",
   "metadata": {},
   "source": [
    "#### Cal 2 concept. Fibonachi Sequence. Still on the concept of recursion."
   ]
  },
  {
   "cell_type": "code",
   "execution_count": 48,
   "id": "de10ab08",
   "metadata": {},
   "outputs": [
    {
     "data": {
      "text/plain": [
       "13"
      ]
     },
     "execution_count": 48,
     "metadata": {},
     "output_type": "execute_result"
    }
   ],
   "source": [
    "def rec_fibo(n):\n",
    "    if n<=1:\n",
    "        return n\n",
    "    else:\n",
    "        return rec_fibo(n-1)+rec_fibo(n-2)\n",
    "    \n",
    "rec_fibo(7)"
   ]
  },
  {
   "cell_type": "markdown",
   "id": "6675f4c1",
   "metadata": {},
   "source": [
    "#### Checking Python's limits"
   ]
  },
  {
   "cell_type": "code",
   "execution_count": 49,
   "id": "5fdb7c4d",
   "metadata": {},
   "outputs": [
    {
     "data": {
      "text/plain": [
       "3000"
      ]
     },
     "execution_count": 49,
     "metadata": {},
     "output_type": "execute_result"
    }
   ],
   "source": [
    "from sys import getrecursionlimit\n",
    "getrecursionlimit()"
   ]
  },
  {
   "cell_type": "markdown",
   "id": "949bc440",
   "metadata": {},
   "source": [
    "#### How can we increase the limit? By ourselves lol"
   ]
  },
  {
   "cell_type": "code",
   "execution_count": 50,
   "id": "dc0e6138",
   "metadata": {},
   "outputs": [
    {
     "data": {
      "text/plain": [
       "10000"
      ]
     },
     "execution_count": 50,
     "metadata": {},
     "output_type": "execute_result"
    }
   ],
   "source": [
    "from sys import setrecursionlimit\n",
    "setrecursionlimit(10000)\n",
    "getrecursionlimit()"
   ]
  },
  {
   "cell_type": "markdown",
   "id": "0eab8c9f",
   "metadata": {},
   "source": [
    "#### Use recursion to try to create an option tree that we can traverse.\n",
    "> #### we need to count the layers, how many lists we have, and how many elements."
   ]
  },
  {
   "cell_type": "code",
   "execution_count": 55,
   "id": "c80c3d54",
   "metadata": {},
   "outputs": [
    {
     "data": {
      "text/plain": [
       "10"
      ]
     },
     "execution_count": 55,
     "metadata": {},
     "output_type": "execute_result"
    }
   ],
   "source": [
    "data=[1, [21,22], [23,[31,32]], [[33,34], [35,36]]]\n",
    "def leaf_count(range):\n",
    "    count=0\n",
    "    for item in range:\n",
    "        # isinstance checks for existence, so if item is instance in the list (data).\n",
    "        if isinstance(item, list):\n",
    "            count+= leaf_count(item)\n",
    "        else:\n",
    "            count += 1\n",
    "    return count\n",
    "leaf_count(data)"
   ]
  },
  {
   "cell_type": "code",
   "execution_count": 57,
   "id": "77c22058",
   "metadata": {},
   "outputs": [],
   "source": [
    "#### performing non-recursive operations."
   ]
  },
  {
   "cell_type": "code",
   "execution_count": 63,
   "id": "b5638eb8",
   "metadata": {},
   "outputs": [
    {
     "data": {
      "text/plain": [
       "3"
      ]
     },
     "execution_count": 63,
     "metadata": {},
     "output_type": "execute_result"
    }
   ],
   "source": [
    "data=[1, [21,22], [23,[31,32]], [[33,34], [35,36]]]\n",
    "def leaf_count_non_rec(range1):\n",
    "    count=0\n",
    "    stack=[]\n",
    "    current_range1=range1\n",
    "    i=0\n",
    "    \n",
    "    while True:\n",
    "        if i == len(current_range1):\n",
    "            if current_range1==current_range1:\n",
    "                return count\n",
    "            else:\n",
    "                # .pop() temporarily saves the list\n",
    "                current_range1, i=stack.pop()\n",
    "                i += 1\n",
    "                continue\n",
    "                \n",
    "        # check the next layer of the list.\n",
    "        if isinstance(current_range1[i],list):\n",
    "            stack.append([current_range1, i])\n",
    "            current_range1=current_range1[i]\n",
    "            i=0\n",
    "            \n",
    "        else:\n",
    "            count+=1\n",
    "            i+=1\n",
    "leaf_count_non_rec(data)"
   ]
  },
  {
   "cell_type": "code",
   "execution_count": null,
   "id": "a82aa60c",
   "metadata": {},
   "outputs": [],
   "source": []
  }
 ],
 "metadata": {
  "kernelspec": {
   "display_name": "Python 3 (ipykernel)",
   "language": "python",
   "name": "python3"
  },
  "language_info": {
   "codemirror_mode": {
    "name": "ipython",
    "version": 3
   },
   "file_extension": ".py",
   "mimetype": "text/x-python",
   "name": "python",
   "nbconvert_exporter": "python",
   "pygments_lexer": "ipython3",
   "version": "3.10.12"
  }
 },
 "nbformat": 4,
 "nbformat_minor": 5
}
