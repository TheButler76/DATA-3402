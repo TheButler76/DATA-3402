{
 "cells": [
  {
   "cell_type": "markdown",
   "metadata": {
    "id": "ghnvM5IJ2X35"
   },
   "source": [
    "# DATA 3402-Python II\n",
    "\n",
    "## Homework 2- Recursion Functions\n",
    "### Due: 09/10/2025 23:59PM\n",
    "\n",
    "\n",
    "# **Assignment Submission Guidelines**\n",
    "\n",
    "\n",
    "Please follow the guidelines below for submitting your assignment:\n",
    "\n",
    "1. **Submission Deadline:**\n",
    "   - All assignments must be submitted **no later than 09/10/2025 11:59 PM**.\n",
    "   - Late submissions will not be accepted unless prior arrangements have been made by the instructor.\n",
    "\n",
    "2. **Submission Platform:**\n",
    "   - Submit your assignment through **Canvas**. Ensure that you upload the files to the correct assignment link.\n",
    "\n",
    "3. **Required Files:**\n",
    "   - **Jupyter Notebook file (.ipynb):** Submit the Jupyter Notebook file you used to complete the assignment. The file should contain your well-commented code.\n",
    "   - **PDF Version (.pdf file):** Additionally, submit a PDF version of your Python code. This can be a printout or export of your script, showing all the code with any necessary explanations or output results included.\n",
    "\n",
    "4. **File Naming Convention:**\n",
    "   - Please name your files as follows: `Lastname_Firstname_AssignmentName`\n",
    "   - Example: `Alex_John_Homework2.ipynb` and `Alex_John_Homework2.pdf`\n",
    "\n",
    "5. **Technical Issues:**\n",
    "   - If you encounter any technical issues with Canvas or your submission, please contact the TAs immediately **before the deadline** to avoid penalties."
   ]
  },
  {
   "cell_type": "markdown",
   "metadata": {
    "id": "AWU1D5ku2X36"
   },
   "source": [
    "## Problem 1\n",
    "Factorial Calculation – Write a recursive function to compute the factorial of a given number `n`.\n",
    "\n",
    "**Task:** Implement the recursive function below."
   ]
  },
  {
   "cell_type": "code",
   "execution_count": 9,
   "metadata": {
    "id": "LHf695nz2Zh6"
   },
   "outputs": [
    {
     "data": {
      "text/plain": [
       "24"
      ]
     },
     "execution_count": 9,
     "metadata": {},
     "output_type": "execute_result"
    }
   ],
   "source": [
    "# Write your recursive solution here\n",
    "def factorial(n):\n",
    "    # n! = n*(n-1).\n",
    "    if n==1:\n",
    "        return n\n",
    "    \n",
    "    # Where recursion starts.\n",
    "    else:\n",
    "        return n*factorial(n-1)\n",
    "factorial(4)\n",
    "\n",
    "\n"
   ]
  },
  {
   "cell_type": "markdown",
   "metadata": {
    "id": "T3iR7l2H2X36"
   },
   "source": [
    "## Problem 2\n",
    "Sum of Digits – Write a recursive function that takes an integer `n` and returns the sum of its digits.\n",
    "\n",
    "**Task:** Implement the recursive function below."
   ]
  },
  {
   "cell_type": "code",
   "execution_count": 35,
   "metadata": {
    "id": "uPu_3FIl2bZL"
   },
   "outputs": [
    {
     "ename": "TypeError",
     "evalue": "'<=' not supported between instances of 'list' and 'int'",
     "output_type": "error",
     "traceback": [
      "\u001b[0;31m---------------------------------------------------------------------------\u001b[0m",
      "\u001b[0;31mTypeError\u001b[0m                                 Traceback (most recent call last)",
      "Cell \u001b[0;32mIn[35], line 9\u001b[0m\n\u001b[1;32m      6\u001b[0m         digits \u001b[38;5;241m=\u001b[39m [\u001b[38;5;28mint\u001b[39m(d) \u001b[38;5;28;01mfor\u001b[39;00m d \u001b[38;5;129;01min\u001b[39;00m \u001b[38;5;28mstr\u001b[39m(n)]\n\u001b[1;32m      7\u001b[0m         \u001b[38;5;28;01mreturn\u001b[39;00m sum_digits([n\u001b[38;5;241m+\u001b[39mdigit_n \u001b[38;5;28;01mfor\u001b[39;00m digit_n \u001b[38;5;129;01min\u001b[39;00m digits])\n\u001b[0;32m----> 9\u001b[0m \u001b[43msum_digits\u001b[49m\u001b[43m(\u001b[49m\u001b[38;5;241;43m11\u001b[39;49m\u001b[43m)\u001b[49m\n",
      "Cell \u001b[0;32mIn[35], line 7\u001b[0m, in \u001b[0;36msum_digits\u001b[0;34m(n)\u001b[0m\n\u001b[1;32m      5\u001b[0m \u001b[38;5;28;01melif\u001b[39;00m n\u001b[38;5;241m>\u001b[39m\u001b[38;5;241m10\u001b[39m:\n\u001b[1;32m      6\u001b[0m     digits \u001b[38;5;241m=\u001b[39m [\u001b[38;5;28mint\u001b[39m(d) \u001b[38;5;28;01mfor\u001b[39;00m d \u001b[38;5;129;01min\u001b[39;00m \u001b[38;5;28mstr\u001b[39m(n)]\n\u001b[0;32m----> 7\u001b[0m     \u001b[38;5;28;01mreturn\u001b[39;00m \u001b[43msum_digits\u001b[49m\u001b[43m(\u001b[49m\u001b[43m[\u001b[49m\u001b[43mn\u001b[49m\u001b[38;5;241;43m+\u001b[39;49m\u001b[43mdigit_n\u001b[49m\u001b[43m \u001b[49m\u001b[38;5;28;43;01mfor\u001b[39;49;00m\u001b[43m \u001b[49m\u001b[43mdigit_n\u001b[49m\u001b[43m \u001b[49m\u001b[38;5;129;43;01min\u001b[39;49;00m\u001b[43m \u001b[49m\u001b[43mdigits\u001b[49m\u001b[43m]\u001b[49m\u001b[43m)\u001b[49m\n",
      "Cell \u001b[0;32mIn[35], line 3\u001b[0m, in \u001b[0;36msum_digits\u001b[0;34m(n)\u001b[0m\n\u001b[1;32m      2\u001b[0m \u001b[38;5;28;01mdef\u001b[39;00m \u001b[38;5;21msum_digits\u001b[39m(n):\n\u001b[0;32m----> 3\u001b[0m     \u001b[38;5;28;01mif\u001b[39;00m \u001b[43mn\u001b[49m\u001b[38;5;241;43m<\u001b[39;49m\u001b[38;5;241;43m=\u001b[39;49m\u001b[38;5;241;43m10\u001b[39;49m:\n\u001b[1;32m      4\u001b[0m         \u001b[38;5;28;01mreturn\u001b[39;00m n\n\u001b[1;32m      5\u001b[0m     \u001b[38;5;28;01melif\u001b[39;00m n\u001b[38;5;241m>\u001b[39m\u001b[38;5;241m10\u001b[39m:\n",
      "\u001b[0;31mTypeError\u001b[0m: '<=' not supported between instances of 'list' and 'int'"
     ]
    }
   ],
   "source": [
    "# Write your recursive solution here\n",
    "def sum_digits(n):\n",
    "    if n<=10:\n",
    "        return n\n",
    "    elif n>10:\n",
    "        \n",
    "        \n",
    "sum_digits(11)"
   ]
  },
  {
   "cell_type": "code",
   "execution_count": 23,
   "metadata": {},
   "outputs": [
    {
     "data": {
      "text/plain": [
       "'1'"
      ]
     },
     "execution_count": 23,
     "metadata": {},
     "output_type": "execute_result"
    }
   ],
   "source": [
    "temp = list([str(19)])\n",
    "temp[0][0]"
   ]
  },
  {
   "cell_type": "markdown",
   "metadata": {
    "id": "hFTmLkGM2X36"
   },
   "source": [
    "## Problem 3\n",
    "Reverse a String – Write a recursive function to reverse a string without using slicing.\n",
    "\n",
    "**Task:** Implement the recursive function below."
   ]
  },
  {
   "cell_type": "code",
   "execution_count": null,
   "metadata": {
    "id": "3DceDXyB2b6u"
   },
   "outputs": [],
   "source": [
    "# Write your recursive solution here\n",
    "\n",
    "\n"
   ]
  },
  {
   "cell_type": "markdown",
   "metadata": {
    "id": "49-KnZhD2X36"
   },
   "source": [
    "## Problem 4\n",
    "Power Function – Write a recursive function that computes `x^n` (x to the power of n).\n",
    "\n",
    "**Task:** Implement the recursive function below."
   ]
  },
  {
   "cell_type": "code",
   "execution_count": null,
   "metadata": {
    "id": "JKr9wExG2csd"
   },
   "outputs": [],
   "source": [
    "# Write your recursive solution here\n",
    "\n",
    "\n"
   ]
  },
  {
   "cell_type": "markdown",
   "metadata": {
    "id": "iZ31ffj42X36"
   },
   "source": [
    "## Problem 5\n",
    "Binary Search – Implement recursive binary search on a sorted list. Return the index if found, otherwise `-1`.\n",
    "\n",
    "**Task:** Implement the recursive function below."
   ]
  },
  {
   "cell_type": "code",
   "execution_count": null,
   "metadata": {
    "id": "T0tBX5Ou2eV9"
   },
   "outputs": [],
   "source": [
    "# Write your recursive solution here\n",
    "\n",
    "\n"
   ]
  },
  {
   "cell_type": "markdown",
   "metadata": {
    "id": "EpuvSdnr2X37"
   },
   "source": [
    "## Problem 6\n",
    "Generate All Subsets (Power Set) – Write a recursive function that returns all subsets of a list. Example: [1,2] → [[  ], [1], [2], [1,2]]\n",
    "\n",
    "**Task:** Implement the recursive function below."
   ]
  },
  {
   "cell_type": "code",
   "execution_count": null,
   "metadata": {
    "id": "bO-oI0rO2fXB"
   },
   "outputs": [],
   "source": [
    "# Write your recursive solution here\n",
    "\n",
    "\n"
   ]
  },
  {
   "cell_type": "markdown",
   "metadata": {
    "id": "UIdRiW8t2X37"
   },
   "source": [
    "## Problem 7\n",
    "Sum of List – Compute the sum of all elements in a list recursively.\n",
    "\n",
    "**Task:** Implement the recursive function below."
   ]
  },
  {
   "cell_type": "code",
   "execution_count": null,
   "metadata": {
    "id": "gDTLkewS2f1j"
   },
   "outputs": [],
   "source": [
    "# Write your recursive solution here\n",
    "\n",
    "\n"
   ]
  },
  {
   "cell_type": "markdown",
   "metadata": {
    "id": "efiOsgmL2X37"
   },
   "source": [
    "## Problem 8\n",
    "Find Minimum in List – Find the minimum element in a list recursively (without using `min()`).\n",
    "\n",
    "**Task:** Implement the recursive function below."
   ]
  },
  {
   "cell_type": "code",
   "execution_count": null,
   "metadata": {
    "id": "umnRFlmA2hFd"
   },
   "outputs": [],
   "source": [
    "# Write your recursive solution here\n",
    "\n",
    "\n"
   ]
  },
  {
   "cell_type": "markdown",
   "metadata": {
    "id": "7rHAKWCo2X37"
   },
   "source": [
    "## Problem 9\n",
    "Decimal to Binary Conversion – Convert a decimal number into binary using recursion.\n",
    "\n",
    "**Task:** Implement the recursive function below."
   ]
  },
  {
   "cell_type": "code",
   "execution_count": null,
   "metadata": {
    "id": "rXLwjZJZ2i2t"
   },
   "outputs": [],
   "source": [
    "# Write your recursive solution here\n",
    "\n",
    "\n"
   ]
  },
  {
   "cell_type": "markdown",
   "metadata": {
    "id": "7MgBBSi-2X37"
   },
   "source": [
    "## Problem 10\n",
    "String Length – Calculate the length of a string recursively (without using `len()`).\n",
    "\n",
    "**Task:** Implement the recursive function below."
   ]
  },
  {
   "cell_type": "code",
   "execution_count": null,
   "metadata": {
    "id": "F7OrhYH_2j4d"
   },
   "outputs": [],
   "source": []
  },
  {
   "cell_type": "markdown",
   "metadata": {
    "id": "ibsT9MAE2X37"
   },
   "source": [
    "## Problem 11\n",
    "Nested List Sum – Sum all integers inside a nested list recursively. Example: [1, [2, [3, 4]], 5] → 15.\n",
    "\n",
    "**Task:** Implement the recursive function below."
   ]
  },
  {
   "cell_type": "code",
   "execution_count": null,
   "metadata": {
    "id": "cHVxnHlX2ksS"
   },
   "outputs": [],
   "source": [
    "# Write your recursive solution here\n",
    "\n",
    "\n"
   ]
  },
  {
   "cell_type": "markdown",
   "metadata": {
    "id": "RRVlpEF_2X37"
   },
   "source": [
    "## Problem 12\n",
    "Permutations of String – Print all permutations of a string using recursion. Example: \"abc\" → ['abc', 'acb', 'bac', 'bca', 'cab', 'cba'].\n",
    "\n",
    "**Task:** Implement the recursive function below."
   ]
  },
  {
   "cell_type": "code",
   "execution_count": null,
   "metadata": {
    "id": "Wz-VgB4Z2X37"
   },
   "outputs": [],
   "source": [
    "# Write your recursive solution here\n",
    "\n",
    "\n",
    "\n"
   ]
  }
 ],
 "metadata": {
  "colab": {
   "provenance": []
  },
  "kernelspec": {
   "display_name": "Python 3 (ipykernel)",
   "language": "python",
   "name": "python3"
  },
  "language_info": {
   "codemirror_mode": {
    "name": "ipython",
    "version": 3
   },
   "file_extension": ".py",
   "mimetype": "text/x-python",
   "name": "python",
   "nbconvert_exporter": "python",
   "pygments_lexer": "ipython3",
   "version": "3.12.3"
  }
 },
 "nbformat": 4,
 "nbformat_minor": 1
}
