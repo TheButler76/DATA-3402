{
 "cells": [
  {
   "cell_type": "markdown",
   "metadata": {
    "id": "ghnvM5IJ2X35"
   },
   "source": [
    "# DATA 3402-Python II\n",
    "\n",
    "## Homework 2- Recursion Functions\n",
    "### Due: 09/10/2025 23:59PM\n",
    "\n",
    "\n",
    "# **Assignment Submission Guidelines**\n",
    "\n",
    "\n",
    "Please follow the guidelines below for submitting your assignment:\n",
    "\n",
    "1. **Submission Deadline:**\n",
    "   - All assignments must be submitted **no later than 09/10/2025 11:59 PM**.\n",
    "   - Late submissions will not be accepted unless prior arrangements have been made by the instructor.\n",
    "\n",
    "2. **Submission Platform:**\n",
    "   - Submit your assignment through **Canvas**. Ensure that you upload the files to the correct assignment link.\n",
    "\n",
    "3. **Required Files:**\n",
    "   - **Jupyter Notebook file (.ipynb):** Submit the Jupyter Notebook file you used to complete the assignment. The file should contain your well-commented code.\n",
    "   - **PDF Version (.pdf file):** Additionally, submit a PDF version of your Python code. This can be a printout or export of your script, showing all the code with any necessary explanations or output results included.\n",
    "\n",
    "4. **File Naming Convention:**\n",
    "   - Please name your files as follows: `Lastname_Firstname_AssignmentName`\n",
    "   - Example: `Alex_John_Homework2.ipynb` and `Alex_John_Homework2.pdf`\n",
    "\n",
    "5. **Technical Issues:**\n",
    "   - If you encounter any technical issues with Canvas or your submission, please contact the TAs immediately **before the deadline** to avoid penalties."
   ]
  },
  {
   "cell_type": "markdown",
   "metadata": {
    "id": "AWU1D5ku2X36"
   },
   "source": [
    "## Problem 1\n",
    "Factorial Calculation – Write a recursive function to compute the factorial of a given number `n`.\n",
    "\n",
    "**Task:** Implement the recursive function below."
   ]
  },
  {
   "cell_type": "code",
   "execution_count": 9,
   "metadata": {
    "id": "LHf695nz2Zh6"
   },
   "outputs": [
    {
     "data": {
      "text/plain": [
       "24"
      ]
     },
     "execution_count": 9,
     "metadata": {},
     "output_type": "execute_result"
    }
   ],
   "source": [
    "# Write your recursive solution here\n",
    "def factorial(n):\n",
    "    # n! = n*(n-1).\n",
    "    if n==1:\n",
    "        return n\n",
    "    \n",
    "    # Where recursion starts.\n",
    "    else:\n",
    "        return n*factorial(n-1)\n",
    "factorial(4)"
   ]
  },
  {
   "cell_type": "markdown",
   "metadata": {
    "id": "T3iR7l2H2X36"
   },
   "source": [
    "## Problem 2\n",
    "Sum of Digits – Write a recursive function that takes an integer `n` and returns the sum of its digits.\n",
    "\n",
    "**Task:** Implement the recursive function below."
   ]
  },
  {
   "cell_type": "code",
   "execution_count": 8,
   "metadata": {
    "id": "uPu_3FIl2bZL"
   },
   "outputs": [
    {
     "data": {
      "text/plain": [
       "6"
      ]
     },
     "execution_count": 8,
     "metadata": {},
     "output_type": "execute_result"
    }
   ],
   "source": [
    "# Write your recursive solution here\n",
    "def sum_digits(n):\n",
    "    if n<10:\n",
    "        return n\n",
    "    else:\n",
    "        return n % 10 + sum_digits(n // 10)\n",
    "sum_digits(123)"
   ]
  },
  {
   "cell_type": "markdown",
   "metadata": {
    "id": "hFTmLkGM2X36"
   },
   "source": [
    "## Problem 3\n",
    "Reverse a String – Write a recursive function to reverse a string without using slicing.\n",
    "\n",
    "**Task:** Implement the recursive function below."
   ]
  },
  {
   "cell_type": "code",
   "execution_count": 25,
   "metadata": {
    "id": "3DceDXyB2b6u"
   },
   "outputs": [
    {
     "data": {
      "text/plain": [
       "TypeError('PLEASE ENTER A STRING.')"
      ]
     },
     "execution_count": 25,
     "metadata": {},
     "output_type": "execute_result"
    }
   ],
   "source": [
    "# Write your recursive solution here\n",
    "def string_rec(string):\n",
    "    if not isinstance(string, str):\n",
    "        return TypeError(\"PLEASE ENTER A STRING.\")\n",
    "    else:\n",
    "        return string_rec()\n",
    "        \n",
    "string_rec('BOAT')"
   ]
  },
  {
   "cell_type": "code",
   "execution_count": 11,
   "metadata": {},
   "outputs": [
    {
     "data": {
      "text/plain": [
       "<reversed at 0x7e32cebe2080>"
      ]
     },
     "execution_count": 11,
     "metadata": {},
     "output_type": "execute_result"
    }
   ],
   "source": [
    "tee = \"string\"\n",
    "tee.split()\n",
    "ree = reversed(tee)\n",
    "ree"
   ]
  },
  {
   "cell_type": "markdown",
   "metadata": {
    "id": "49-KnZhD2X36"
   },
   "source": [
    "## Problem 4\n",
    "Power Function – Write a recursive function that computes `x^n` (x to the power of n).\n",
    "\n",
    "**Task:** Implement the recursive function below."
   ]
  },
  {
   "cell_type": "code",
   "execution_count": 128,
   "metadata": {
    "id": "JKr9wExG2csd"
   },
   "outputs": [
    {
     "data": {
      "text/plain": [
       "8"
      ]
     },
     "execution_count": 128,
     "metadata": {},
     "output_type": "execute_result"
    }
   ],
   "source": [
    "# Write your recursive solution here\n",
    "def power(x, n):\n",
    "    if not isinstance(x, int) and not isinstance(n, int):\n",
    "        return TypeError(\"PLEASE ENTER A NUMBER\")\n",
    "    else:\n",
    "        return x**n\n",
    "power(2,3)\n"
   ]
  },
  {
   "cell_type": "markdown",
   "metadata": {
    "id": "iZ31ffj42X36"
   },
   "source": [
    "## Problem 5\n",
    "Binary Search – Implement recursive binary search on a sorted list. Return the index if found, otherwise `-1`.\n",
    "\n",
    "**Task:** Implement the recursive function below."
   ]
  },
  {
   "cell_type": "code",
   "execution_count": 135,
   "metadata": {
    "id": "T0tBX5Ou2eV9"
   },
   "outputs": [
    {
     "data": {
      "text/plain": [
       "-1"
      ]
     },
     "execution_count": 135,
     "metadata": {},
     "output_type": "execute_result"
    }
   ],
   "source": [
    "# Write your recursive solution here\n",
    "sorted_list = [3, 4, 5, 6, 7, 8, 9, 10]\n",
    "def binary_search(search_q, this_list):\n",
    "    if search_q not in this_list:\n",
    "        return -1\n",
    "    else:\n",
    "        return binary_search(index, this_list)\n",
    "\n",
    "binary_search(11, sorted_list)\n"
   ]
  },
  {
   "cell_type": "markdown",
   "metadata": {
    "id": "EpuvSdnr2X37"
   },
   "source": [
    "## Problem 6\n",
    "Generate All Subsets (Power Set) – Write a recursive function that returns all subsets of a list. Example: [1,2] → [[  ], [1], [2], [1,2]]\n",
    "\n",
    "**Task:** Implement the recursive function below."
   ]
  },
  {
   "cell_type": "code",
   "execution_count": 44,
   "metadata": {
    "id": "bO-oI0rO2fXB"
   },
   "outputs": [
    {
     "name": "stdout",
     "output_type": "stream",
     "text": [
      "0th:  0\n",
      "nth:  3\n"
     ]
    },
    {
     "data": {
      "text/plain": [
       "[[], [1], [2], [3], [1, 2, 3]]"
      ]
     },
     "execution_count": 44,
     "metadata": {},
     "output_type": "execute_result"
    }
   ],
   "source": [
    "# Write your recursive solution here\n",
    "## returns the empty position, the 0th position, the nth postion, then an element containing all values\n",
    "sub_list = [1,2,3]\n",
    "def subsets(sub_list, empty=[], el_str=[]):\n",
    "    if sub_list==0:\n",
    "        return False\n",
    "    else:\n",
    "        for el in range(len(sub_list)+1):\n",
    "            if el==0:\n",
    "                print(\"0th: \", el)\n",
    "                empty.append([])\n",
    "            else:\n",
    "                el_str.append(el)\n",
    "                empty.append([el])\n",
    "                \n",
    "            if el>len(sub_list)-1:\n",
    "                print(\"nth: \", el)\n",
    "                empty.append(el_str)\n",
    "    return empty\n",
    "                \n",
    "# OK NOW MAKE THIS RECURSIVE LOL                \n",
    "subsets(sub_list)"
   ]
  },
  {
   "cell_type": "markdown",
   "metadata": {
    "id": "UIdRiW8t2X37"
   },
   "source": [
    "## Problem 7\n",
    "Sum of List – Compute the sum of all elements in a list recursively.\n",
    "\n",
    "**Task:** Implement the recursive function below."
   ]
  },
  {
   "cell_type": "code",
   "execution_count": 88,
   "metadata": {
    "id": "gDTLkewS2f1j"
   },
   "outputs": [
    {
     "data": {
      "text/plain": [
       "9"
      ]
     },
     "execution_count": 88,
     "metadata": {},
     "output_type": "execute_result"
    }
   ],
   "source": [
    "# Write your recursive solution here\n",
    "# Basically, make a summation function for all the elements in number list.\n",
    "numbers = [1,2,3,3]\n",
    "def summation(list_to_sum):\n",
    "    if list_to_sum==None:\n",
    "        return False\n",
    "    else:\n",
    "        summ = 0\n",
    "        return sum(list_to_sum)\n",
    "summation(numbers)"
   ]
  },
  {
   "cell_type": "markdown",
   "metadata": {
    "id": "efiOsgmL2X37"
   },
   "source": [
    "## Problem 8\n",
    "Find Minimum in List – Find the minimum element in a list recursively (without using `min()`).\n",
    "\n",
    "**Task:** Implement the recursive function below."
   ]
  },
  {
   "cell_type": "code",
   "execution_count": 87,
   "metadata": {
    "id": "umnRFlmA2hFd"
   },
   "outputs": [
    {
     "data": {
      "text/plain": [
       "[9, 2, 3, 6]"
      ]
     },
     "execution_count": 87,
     "metadata": {},
     "output_type": "execute_result"
    }
   ],
   "source": [
    "# Write your recursive solution here\n",
    "\n",
    "# Without using min()\n",
    "numbers = [5,3,2,9,1,2,3,6]\n",
    "def min_list(find_me):\n",
    "    if find_me==None:\n",
    "        return False\n",
    "    else:\n",
    "        return [find_me[n] for n in range(len(find_me)) if find_me[n] < find_me[n-1]]\n",
    "min_list(numbers)\n",
    "#[find_me[n] for n in range(len(find_me)) if find_me[n] > n]\n"
   ]
  },
  {
   "cell_type": "code",
   "execution_count": 91,
   "metadata": {},
   "outputs": [
    {
     "data": {
      "text/plain": [
       "3"
      ]
     },
     "execution_count": 91,
     "metadata": {},
     "output_type": "execute_result"
    }
   ],
   "source": [
    "numbers = [5,3,2,9,1,2,3,6]\n",
    "v = iter(numbers)\n",
    "next(v)\n",
    "next(v)"
   ]
  },
  {
   "cell_type": "markdown",
   "metadata": {
    "id": "7rHAKWCo2X37"
   },
   "source": [
    "## Problem 9\n",
    "Decimal to Binary Conversion – Convert a decimal number into binary using recursion.\n",
    "\n",
    "**Task:** Implement the recursive function below."
   ]
  },
  {
   "cell_type": "code",
   "execution_count": null,
   "metadata": {
    "id": "rXLwjZJZ2i2t"
   },
   "outputs": [],
   "source": [
    "# Write your recursive solution here\n",
    "\n",
    "\n"
   ]
  },
  {
   "cell_type": "markdown",
   "metadata": {
    "id": "7MgBBSi-2X37"
   },
   "source": [
    "## Problem 10\n",
    "String Length – Calculate the length of a string recursively (without using `len()`).\n",
    "\n",
    "**Task:** Implement the recursive function below."
   ]
  },
  {
   "cell_type": "code",
   "execution_count": 134,
   "metadata": {
    "id": "F7OrhYH_2j4d"
   },
   "outputs": [
    {
     "data": {
      "text/plain": [
       "['F', 'R', 'U', 'I', 'T']"
      ]
     },
     "execution_count": 134,
     "metadata": {},
     "output_type": "execute_result"
    }
   ],
   "source": [
    "def str_len(string):\n",
    "    if string==None:\n",
    "        return False\n",
    "    else:\n",
    "        return [n for n in string]\n",
    "str_len(\"FRUIT\")"
   ]
  },
  {
   "cell_type": "code",
   "execution_count": 137,
   "metadata": {},
   "outputs": [
    {
     "ename": "AttributeError",
     "evalue": "'str' object has no attribute 'max'",
     "output_type": "error",
     "traceback": [
      "\u001b[0;31m---------------------------------------------------------------------------\u001b[0m",
      "\u001b[0;31mAttributeError\u001b[0m                            Traceback (most recent call last)",
      "Cell \u001b[0;32mIn[137], line 2\u001b[0m\n\u001b[1;32m      1\u001b[0m string \u001b[38;5;241m=\u001b[39m \u001b[38;5;124m\"\u001b[39m\u001b[38;5;124mpie\u001b[39m\u001b[38;5;124m\"\u001b[39m\n\u001b[0;32m----> 2\u001b[0m \u001b[43mstring\u001b[49m\u001b[38;5;241;43m.\u001b[39;49m\u001b[43mmax\u001b[49m()\n",
      "\u001b[0;31mAttributeError\u001b[0m: 'str' object has no attribute 'max'"
     ]
    }
   ],
   "source": [
    "string = \"pie\"\n",
    "string"
   ]
  },
  {
   "cell_type": "markdown",
   "metadata": {
    "id": "ibsT9MAE2X37"
   },
   "source": [
    "## Problem 11\n",
    "Nested List Sum – Sum all integers inside a nested list recursively. Example: [1, [2, [3, 4]], 5] → 15.\n",
    "\n",
    "**Task:** Implement the recursive function below."
   ]
  },
  {
   "cell_type": "code",
   "execution_count": null,
   "metadata": {
    "id": "cHVxnHlX2ksS"
   },
   "outputs": [],
   "source": [
    "# Write your recursive solution here\n",
    "\n",
    "\n"
   ]
  },
  {
   "cell_type": "markdown",
   "metadata": {
    "id": "RRVlpEF_2X37"
   },
   "source": [
    "## Problem 12\n",
    "Permutations of String – Print all permutations of a string using recursion. Example: \"abc\" → ['abc', 'acb', 'bac', 'bca', 'cab', 'cba'].\n",
    "\n",
    "**Task:** Implement the recursive function below."
   ]
  },
  {
   "cell_type": "code",
   "execution_count": null,
   "metadata": {
    "id": "Wz-VgB4Z2X37"
   },
   "outputs": [],
   "source": [
    "# Write your recursive solution here\n",
    "\n",
    "\n",
    "\n"
   ]
  }
 ],
 "metadata": {
  "colab": {
   "provenance": []
  },
  "kernelspec": {
   "display_name": "Python 3 (ipykernel)",
   "language": "python",
   "name": "python3"
  },
  "language_info": {
   "codemirror_mode": {
    "name": "ipython",
    "version": 3
   },
   "file_extension": ".py",
   "mimetype": "text/x-python",
   "name": "python",
   "nbconvert_exporter": "python",
   "pygments_lexer": "ipython3",
   "version": "3.12.3"
  }
 },
 "nbformat": 4,
 "nbformat_minor": 4
}
